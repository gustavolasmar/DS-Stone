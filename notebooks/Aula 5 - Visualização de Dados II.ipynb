{
 "cells": [
  {
   "cell_type": "markdown",
   "metadata": {},
   "source": [
    "## Aula 5: Visualização de Dados II"
   ]
  },
  {
   "cell_type": "markdown",
   "metadata": {},
   "source": [
    "### Seaborn"
   ]
  },
  {
   "cell_type": "code",
   "execution_count": null,
   "metadata": {
    "ExecuteTime": {
     "end_time": "2021-04-15T19:45:55.383439Z",
     "start_time": "2021-04-15T19:45:52.778305Z"
    }
   },
   "outputs": [],
   "source": [
    "import pandas as pd\n",
    "import numpy as np\n",
    "import seaborn as sns\n",
    "import matplotlib.pyplot as plt\n",
    "%matplotlib inline"
   ]
  },
  {
   "cell_type": "code",
   "execution_count": null,
   "metadata": {
    "ExecuteTime": {
     "end_time": "2021-04-15T19:45:55.424605Z",
     "start_time": "2021-04-15T19:45:55.384611Z"
    },
    "scrolled": false
   },
   "outputs": [],
   "source": [
    "df_titanic = sns.load_dataset('titanic')\n",
    "df_titanic.head()"
   ]
  },
  {
   "cell_type": "markdown",
   "metadata": {
    "ExecuteTime": {
     "end_time": "2021-04-15T19:49:34.175997Z",
     "start_time": "2021-04-15T19:49:34.160677Z"
    }
   },
   "source": [
    "#### countplot"
   ]
  },
  {
   "cell_type": "code",
   "execution_count": null,
   "metadata": {
    "ExecuteTime": {
     "end_time": "2021-04-15T19:49:42.830851Z",
     "start_time": "2021-04-15T19:49:42.742867Z"
    }
   },
   "outputs": [],
   "source": [
    "sns.countplot(data=df_titanic, x='sex')"
   ]
  },
  {
   "cell_type": "markdown",
   "metadata": {},
   "source": [
    "#### barplot"
   ]
  },
  {
   "cell_type": "code",
   "execution_count": null,
   "metadata": {
    "ExecuteTime": {
     "end_time": "2020-12-10T23:53:09.936317Z",
     "start_time": "2020-12-10T23:53:09.755067Z"
    }
   },
   "outputs": [],
   "source": [
    "sns.barplot(data=df_titanic,x='sex',y='survived')"
   ]
  },
  {
   "cell_type": "code",
   "execution_count": null,
   "metadata": {
    "ExecuteTime": {
     "end_time": "2020-12-10T23:53:54.560511Z",
     "start_time": "2020-12-10T23:53:54.353547Z"
    }
   },
   "outputs": [],
   "source": [
    "sns.barplot(data=df_titanic,x='pclass',y='survived')"
   ]
  },
  {
   "cell_type": "markdown",
   "metadata": {
    "ExecuteTime": {
     "end_time": "2021-04-15T19:50:05.700418Z",
     "start_time": "2021-04-15T19:50:05.685669Z"
    }
   },
   "source": [
    "#### boxplot"
   ]
  },
  {
   "cell_type": "code",
   "execution_count": null,
   "metadata": {
    "ExecuteTime": {
     "end_time": "2020-12-10T23:54:03.904026Z",
     "start_time": "2020-12-10T23:54:03.764485Z"
    }
   },
   "outputs": [],
   "source": [
    "sns.boxplot(data=df_titanic,x='sex',y='age')"
   ]
  },
  {
   "cell_type": "code",
   "execution_count": null,
   "metadata": {
    "ExecuteTime": {
     "end_time": "2020-12-10T23:55:23.317145Z",
     "start_time": "2020-12-10T23:55:23.162242Z"
    }
   },
   "outputs": [],
   "source": [
    "sns.boxplot(data=df_titanic,x='pclass',y='age')"
   ]
  },
  {
   "cell_type": "code",
   "execution_count": null,
   "metadata": {
    "ExecuteTime": {
     "end_time": "2021-04-15T19:53:50.971857Z",
     "start_time": "2021-04-15T19:53:50.860131Z"
    }
   },
   "outputs": [],
   "source": [
    "from matplotlib.ticker import FormatStrFormatter\n",
    "import matplotlib.transforms as transforms\n",
    "\n",
    "def generate_boxplot(box_series):\n",
    "    fig, ax = plt.subplots(figsize=(20, 3))\n",
    "    \n",
    "    pd.Series(box_series).plot.box(vert=False, widths = 0.6, ax=ax)\n",
    "    quantiles = np.quantile(box_series, np.array([0.00, 0.25, 0.50, 0.75, 1.00]))\n",
    "    ax.vlines(quantiles, [0] * quantiles.size, [1] * quantiles.size,\n",
    "              color='b', ls=':', lw=2, zorder=0)\n",
    "\n",
    "    ax.set_xlim(left=75)\n",
    "    ax.set_ylim(0 ,2)\n",
    "\n",
    "    ax.set_xticks(quantiles)\n",
    "    ax.set_yticklabels([])\n",
    "\n",
    "\n",
    "    ax.xaxis.set_major_formatter(FormatStrFormatter('%.1f'))\n",
    "\n",
    "    trans_x = transforms.blended_transform_factory(\n",
    "        ax.get_xticklabels()[0].get_transform(), ax.transData)\n",
    "\n",
    "    for x, label in zip(list(quantiles), ['Min', 'Q1', 'Median', 'Q3', 'Max']):\n",
    "        ax.text(x,1.5, label, color=\"black\", transform=trans_x, \n",
    "            ha=\"left\", va=\"top\")\n",
    "    \n",
    "    plt.title('Distribuição da Serie', fontsize=18)\n",
    "    plt.xlabel('Valores em meses', fontsize=16)\n",
    "    plt.show()\n",
    "\n",
    "box_series = [100,110,120,115,90,80,76,100]\n",
    "generate_boxplot(box_series)"
   ]
  },
  {
   "cell_type": "code",
   "execution_count": null,
   "metadata": {
    "ExecuteTime": {
     "end_time": "2021-04-15T20:03:16.505883Z",
     "start_time": "2021-04-15T20:03:16.485366Z"
    }
   },
   "outputs": [],
   "source": [
    "pd.Series(box_series)"
   ]
  },
  {
   "cell_type": "code",
   "execution_count": null,
   "metadata": {
    "ExecuteTime": {
     "end_time": "2021-04-15T20:03:50.350146Z",
     "start_time": "2021-04-15T20:03:50.252151Z"
    }
   },
   "outputs": [],
   "source": [
    "from matplotlib.ticker import FormatStrFormatter\n",
    "import matplotlib.transforms as transforms\n",
    "\n",
    "def generate_boxplot(box_series):\n",
    "    fig, ax = plt.subplots(figsize=(20, 3))\n",
    "    \n",
    "    sns.boxplot(x=pd.Series(box_series), ax=ax)\n",
    "    quantiles = np.quantile(box_series, np.array([0.00, 0.25, 0.50, 0.75, 1.00]))\n",
    "    ax.vlines(quantiles, [-1] * quantiles.size, [0] * quantiles.size,\n",
    "              color='b', ls=':', lw=2, zorder=0)\n",
    "\n",
    "#     ax.set_xlim(left=0)\n",
    "    ax.set_ylim(-1 ,1)\n",
    "\n",
    "    ax.set_xticks(quantiles)\n",
    "    ax.set_yticklabels([])\n",
    "\n",
    "\n",
    "    ax.xaxis.set_major_formatter(FormatStrFormatter('%.1f'))\n",
    "\n",
    "    trans_x = transforms.blended_transform_factory(\n",
    "        ax.get_xticklabels()[0].get_transform(), ax.transData)\n",
    "\n",
    "    for x, label in zip(list(quantiles), ['Min', 'Q1', 'Median', 'Q3', 'Max']):\n",
    "        ax.text(x,0.7, label, color=\"black\", transform=trans_x, \n",
    "            ha=\"left\", va=\"top\")\n",
    "    \n",
    "    plt.title('Distribuição da Serie', fontsize=18)\n",
    "    plt.xlabel('Valores em meses', fontsize=16)\n",
    "    plt.show()\n",
    "\n",
    "box_series = [100,110,120,115,90,80,76,100]\n",
    "generate_boxplot(box_series)"
   ]
  },
  {
   "cell_type": "markdown",
   "metadata": {
    "ExecuteTime": {
     "end_time": "2021-04-15T19:50:23.866919Z",
     "start_time": "2021-04-15T19:50:23.860537Z"
    }
   },
   "source": [
    "#### displot"
   ]
  },
  {
   "cell_type": "code",
   "execution_count": null,
   "metadata": {
    "ExecuteTime": {
     "end_time": "2021-04-15T20:20:42.777218Z",
     "start_time": "2021-04-15T20:20:42.567798Z"
    }
   },
   "outputs": [],
   "source": [
    "sns.displot(df_titanic['age'].dropna(), kind='ecdf')"
   ]
  },
  {
   "cell_type": "code",
   "execution_count": null,
   "metadata": {
    "ExecuteTime": {
     "end_time": "2021-04-15T20:22:57.073115Z",
     "start_time": "2021-04-15T20:22:56.842694Z"
    }
   },
   "outputs": [],
   "source": [
    "sns.displot(df_titanic['age'].dropna(), kde=True)"
   ]
  },
  {
   "cell_type": "code",
   "execution_count": null,
   "metadata": {
    "ExecuteTime": {
     "end_time": "2020-12-10T23:58:32.381323Z",
     "start_time": "2020-12-10T23:58:32.150823Z"
    }
   },
   "outputs": [],
   "source": [
    "sns.displot(df_titanic['age'].dropna(), kind='kde')"
   ]
  },
  {
   "cell_type": "code",
   "execution_count": null,
   "metadata": {
    "ExecuteTime": {
     "end_time": "2021-04-15T20:27:34.864502Z",
     "start_time": "2021-04-15T20:27:34.837690Z"
    }
   },
   "outputs": [],
   "source": [
    "df_titanic.head()"
   ]
  },
  {
   "cell_type": "code",
   "execution_count": null,
   "metadata": {
    "ExecuteTime": {
     "end_time": "2021-04-15T20:28:32.831803Z",
     "start_time": "2021-04-15T20:28:32.807239Z"
    }
   },
   "outputs": [],
   "source": [
    "df_titanic.dtypes"
   ]
  },
  {
   "cell_type": "code",
   "execution_count": null,
   "metadata": {
    "ExecuteTime": {
     "end_time": "2021-04-15T20:29:41.715117Z",
     "start_time": "2021-04-15T20:29:41.108486Z"
    }
   },
   "outputs": [],
   "source": [
    "df_titanic.select_dtypes(exclude=['object', 'bool', 'category']).hist(figsize=(16, 8), grid=False)\n",
    "plt.show()"
   ]
  },
  {
   "cell_type": "code",
   "execution_count": null,
   "metadata": {
    "ExecuteTime": {
     "end_time": "2021-04-15T20:30:26.209904Z",
     "start_time": "2021-04-15T20:30:25.922695Z"
    }
   },
   "outputs": [],
   "source": [
    "sns.lmplot(data=df_titanic,x='age',y='fare')"
   ]
  },
  {
   "cell_type": "code",
   "execution_count": null,
   "metadata": {
    "ExecuteTime": {
     "end_time": "2021-04-15T20:30:43.307080Z",
     "start_time": "2021-04-15T20:30:42.637885Z"
    }
   },
   "outputs": [],
   "source": [
    "sns.jointplot(data=df_titanic,x='age',y='fare')"
   ]
  },
  {
   "cell_type": "code",
   "execution_count": null,
   "metadata": {
    "ExecuteTime": {
     "end_time": "2021-04-15T20:31:13.733780Z",
     "start_time": "2021-04-15T20:31:13.706802Z"
    }
   },
   "outputs": [],
   "source": []
  },
  {
   "cell_type": "code",
   "execution_count": null,
   "metadata": {
    "ExecuteTime": {
     "end_time": "2020-12-11T00:01:53.971390Z",
     "start_time": "2020-12-11T00:01:38.768025Z"
    },
    "scrolled": false
   },
   "outputs": [],
   "source": [
    "sns.pairplot(df_titanic.select_dtypes(exclude=['object', 'bool']))"
   ]
  },
  {
   "cell_type": "markdown",
   "metadata": {},
   "source": [
    "#### Tips"
   ]
  },
  {
   "cell_type": "code",
   "execution_count": null,
   "metadata": {
    "ExecuteTime": {
     "end_time": "2021-04-15T20:33:38.753759Z",
     "start_time": "2021-04-15T20:33:38.351974Z"
    }
   },
   "outputs": [],
   "source": [
    "sns.lmplot(data=df_titanic,x='age',y='fare', hue='survived')"
   ]
  },
  {
   "cell_type": "code",
   "execution_count": null,
   "metadata": {
    "ExecuteTime": {
     "end_time": "2021-04-15T20:34:06.031082Z",
     "start_time": "2021-04-15T20:34:05.493008Z"
    }
   },
   "outputs": [],
   "source": [
    "sns.lmplot(data=df_titanic,x='age',y='fare', hue='survived', order=3)"
   ]
  },
  {
   "cell_type": "markdown",
   "metadata": {},
   "source": [
    "#### Exemplo Turismo"
   ]
  },
  {
   "cell_type": "code",
   "execution_count": null,
   "metadata": {
    "ExecuteTime": {
     "end_time": "2021-04-15T20:35:14.806370Z",
     "start_time": "2021-04-15T20:35:14.437531Z"
    }
   },
   "outputs": [],
   "source": [
    "df_tourist = pd.read_csv('../datasets/touristData.csv')"
   ]
  },
  {
   "cell_type": "code",
   "execution_count": null,
   "metadata": {
    "ExecuteTime": {
     "end_time": "2021-04-15T20:35:16.061801Z",
     "start_time": "2021-04-15T20:35:16.041089Z"
    }
   },
   "outputs": [],
   "source": [
    "df_tourist.head()"
   ]
  },
  {
   "cell_type": "code",
   "execution_count": null,
   "metadata": {
    "ExecuteTime": {
     "end_time": "2021-04-15T20:35:22.280829Z",
     "start_time": "2021-04-15T20:35:22.161930Z"
    },
    "scrolled": true
   },
   "outputs": [],
   "source": [
    "df = df_tourist.pivot_table(values='Count',index='Month',columns='Year',aggfunc=sum)\n",
    "df"
   ]
  },
  {
   "cell_type": "code",
   "execution_count": null,
   "metadata": {
    "ExecuteTime": {
     "end_time": "2021-04-15T20:36:40.801903Z",
     "start_time": "2021-04-15T20:36:40.558035Z"
    },
    "scrolled": true
   },
   "outputs": [],
   "source": [
    "sns.heatmap(df)"
   ]
  },
  {
   "cell_type": "code",
   "execution_count": null,
   "metadata": {
    "ExecuteTime": {
     "end_time": "2021-04-15T20:37:18.806797Z",
     "start_time": "2021-04-15T20:37:18.792986Z"
    }
   },
   "outputs": [],
   "source": [
    "df_tourist.head()"
   ]
  },
  {
   "cell_type": "code",
   "execution_count": null,
   "metadata": {
    "ExecuteTime": {
     "end_time": "2021-04-15T20:37:21.588534Z",
     "start_time": "2021-04-15T20:37:21.541442Z"
    }
   },
   "outputs": [],
   "source": [
    "df_tourist['Month'].unique()"
   ]
  },
  {
   "cell_type": "code",
   "execution_count": null,
   "metadata": {
    "ExecuteTime": {
     "end_time": "2021-04-15T20:37:28.318634Z",
     "start_time": "2021-04-15T20:37:28.255688Z"
    }
   },
   "outputs": [],
   "source": [
    "df_tourist['Month'] = pd.Categorical(df_tourist['Month'], \n",
    "                                     categories=['janeiro', 'fevereiro', 'março',\n",
    "                                                 'abril', 'maio', 'junho', 'julho',\n",
    "                                                 'agosto', 'setembro', 'outubro', \n",
    "                                                 'novembro', 'dezembro'], ordered=True)"
   ]
  },
  {
   "cell_type": "code",
   "execution_count": null,
   "metadata": {
    "ExecuteTime": {
     "end_time": "2021-04-15T20:37:31.502800Z",
     "start_time": "2021-04-15T20:37:31.486246Z"
    }
   },
   "outputs": [],
   "source": [
    "df_tourist['Month']"
   ]
  },
  {
   "cell_type": "code",
   "execution_count": null,
   "metadata": {
    "ExecuteTime": {
     "end_time": "2021-04-15T20:37:42.530784Z",
     "start_time": "2021-04-15T20:37:42.436225Z"
    }
   },
   "outputs": [],
   "source": [
    "df = df_tourist.pivot_table(values='Count',index='Month',columns='Year',aggfunc=sum)\n",
    "df"
   ]
  },
  {
   "cell_type": "code",
   "execution_count": null,
   "metadata": {
    "ExecuteTime": {
     "end_time": "2021-04-15T20:37:46.514335Z",
     "start_time": "2021-04-15T20:37:46.274351Z"
    }
   },
   "outputs": [],
   "source": [
    "sns.heatmap(df)"
   ]
  },
  {
   "cell_type": "code",
   "execution_count": null,
   "metadata": {
    "ExecuteTime": {
     "end_time": "2021-04-15T20:48:10.719246Z",
     "start_time": "2021-04-15T20:48:10.703928Z"
    }
   },
   "outputs": [],
   "source": [
    "df_tourist['Month'].cat.codes"
   ]
  },
  {
   "cell_type": "code",
   "execution_count": null,
   "metadata": {
    "ExecuteTime": {
     "end_time": "2021-04-15T20:56:54.079107Z",
     "start_time": "2021-04-15T20:56:54.011565Z"
    }
   },
   "outputs": [],
   "source": [
    "df_tourist_pivot = df_tourist.pivot_table(values='Count',index='Month',columns='Year',aggfunc=np.mean)\n",
    "df_tourist_pivot.head()"
   ]
  },
  {
   "cell_type": "code",
   "execution_count": null,
   "metadata": {
    "ExecuteTime": {
     "end_time": "2020-12-11T00:11:12.789693Z",
     "start_time": "2020-12-11T00:11:12.497371Z"
    }
   },
   "outputs": [],
   "source": [
    "sns.heatmap(df_tourist_pivot,cmap='inferno')"
   ]
  },
  {
   "cell_type": "markdown",
   "metadata": {},
   "source": [
    "### Gráficos 3D"
   ]
  },
  {
   "cell_type": "code",
   "execution_count": null,
   "metadata": {
    "ExecuteTime": {
     "end_time": "2021-04-15T20:58:32.449062Z",
     "start_time": "2021-04-15T20:58:32.442024Z"
    }
   },
   "outputs": [],
   "source": [
    "X = np.arange(-4, 4, 0.25)\n",
    "Y = np.arange(-4, 4, 0.25)\n",
    "X,  Y\n"
   ]
  },
  {
   "cell_type": "code",
   "execution_count": null,
   "metadata": {
    "ExecuteTime": {
     "end_time": "2021-04-15T20:58:33.894356Z",
     "start_time": "2021-04-15T20:58:33.873389Z"
    }
   },
   "outputs": [],
   "source": [
    "X, Y = np.meshgrid(X, Y)\n",
    "X, Y"
   ]
  },
  {
   "cell_type": "code",
   "execution_count": null,
   "metadata": {
    "ExecuteTime": {
     "end_time": "2021-04-15T21:02:07.620332Z",
     "start_time": "2021-04-15T21:02:07.461579Z"
    }
   },
   "outputs": [],
   "source": [
    "from mpl_toolkits.mplot3d.axes3d import Axes3D\n",
    "fig = plt.figure(figsize=(10, 3))\n",
    "X = np.arange(-4, 4, 0.25)\n",
    "Y = np.arange(-10, -2, 0.25)\n",
    "\n",
    "ax = Axes3D(fig)\n",
    "X, Y = np.meshgrid(X, Y)\n",
    "R = np.sqrt(X**2 + Y**2)\n",
    "Z = np.sin(R)\n",
    "ax.plot_surface(X, Y, Z, rstride=1, cstride=1, cmap='hot')\n",
    "\n",
    "ax.view_init(45, 40)\n",
    "plt.show()"
   ]
  }
 ],
 "metadata": {
  "hide_input": false,
  "kernelspec": {
   "display_name": "Python 3",
   "language": "python",
   "name": "python3"
  },
  "language_info": {
   "codemirror_mode": {
    "name": "ipython",
    "version": 3
   },
   "file_extension": ".py",
   "mimetype": "text/x-python",
   "name": "python",
   "nbconvert_exporter": "python",
   "pygments_lexer": "ipython3",
   "version": "3.8.3"
  },
  "toc": {
   "base_numbering": 1,
   "nav_menu": {},
   "number_sections": true,
   "sideBar": true,
   "skip_h1_title": false,
   "title_cell": "Table of Contents",
   "title_sidebar": "Contents",
   "toc_cell": false,
   "toc_position": {},
   "toc_section_display": true,
   "toc_window_display": true
  }
 },
 "nbformat": 4,
 "nbformat_minor": 2
}
