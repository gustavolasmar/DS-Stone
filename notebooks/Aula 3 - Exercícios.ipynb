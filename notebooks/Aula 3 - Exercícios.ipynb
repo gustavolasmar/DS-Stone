{
 "cells": [
  {
   "cell_type": "markdown",
   "metadata": {
    "ExecuteTime": {
     "end_time": "2021-04-08T15:18:08.502442Z",
     "start_time": "2021-04-08T15:18:08.485392Z"
    }
   },
   "source": [
    "## Numpy"
   ]
  },
  {
   "cell_type": "markdown",
   "metadata": {},
   "source": [
    "### Problema 1\n",
    "Construa a matriz ilustrada pela figura abaixo. Em seguida, obtenha os slices (fatiamentos) destacados em cada cor. Em outras palavras, utilizando o conceito de slices, crie um novo array que contenha os dados destacados em vermelho, azul, roxo e verde.\n",
    "\n",
    "![Drag Racing](https://lh3.googleusercontent.com/TEYs3x4bTQ8OVk54ZIOzBRFN6k6HMKgdl3KDxKjREkVJYs0fBwkkMhDlLo29JN1HyN6NOgjvvnNQ7dZrvi6crgH6SB4-KT09nQSd1SIUV8YP087IK3ud3C3rkMPQxn5AzsS-jsCElZQ=w2400)\n"
   ]
  },
  {
   "cell_type": "code",
   "execution_count": null,
   "metadata": {},
   "outputs": [],
   "source": []
  },
  {
   "cell_type": "markdown",
   "metadata": {},
   "source": [
    "### Problema 2\n",
    "\n",
    "DESAFIO\n",
    "\n",
    "Nesse desafio, iremos praticar o conceito de indexação em imagens! Pois é, caso você ainda não saiba, as imagens são formadas com conjuntos de pixels, e esses pixels são números inteiros (entre 0 e 255). Sendo assim, quando carregamos uma imagem no Python, essa imagem será armazenada em um matriz (Numpy), ou seja, cada pixel dessa imagem será um elemento dessa matriz.\n",
    "\n",
    "No entanto, é importante que você também saiba que uma imagem colorida é composta por três matrizes, visto que uma imagem colorida é formada por 3 cores básicas: vermelho, verde e azul. Esse é o famoso padrão RGB. Portanto, sua imagem será armazenada em um array tridimensional.\n",
    "\n",
    "Sabendo disso, sua missão será carregar uma imagem colorida (em jpg) e exibir apenas a metade dessa imagem, tanto na horizontal quanto na vertical. Mas, calma... vamos te dar uma ajuda.\n",
    "\n",
    "Primeiro, você precisa instalar a biblioteca skimage para carregar a imagem, além da biblioteca do matplotlib para exibir a imagem (veremos essa biblioteca com mais detalhes nesse curso!), caso você ainda não tenha elas instaladas, claro. Para isso, utilize o comando pip install scikit-image matplotlib, se você estiver utilizando o pip, ou conda install scikit-image matplotlib, se estiver utilizando o Anaconda.\n",
    "\n",
    "Em seguida, observe o código abaixo; ele te mostra como você pode carregar uma imagem e exibi-la. Lembrando... Sua missão será carregar uma imagem colorida (em jpg) e exibir apenas a metade dessa imagem, tanto na horizontal quanto na vertical."
   ]
  },
  {
   "cell_type": "code",
   "execution_count": null,
   "metadata": {
    "ExecuteTime": {
     "end_time": "2021-04-08T15:22:09.744529Z",
     "start_time": "2021-04-08T15:22:07.227131Z"
    }
   },
   "outputs": [],
   "source": [
    "from skimage import io\n",
    "import numpy as np\n",
    "import matplotlib.pyplot as plt\n",
    "\n",
    "img = io.imread('https://www.kindpng.com/picc/m/713-7136289_rougier-numpy-logo-name-below-02-python-numpy.png') # Carregamento da imagem\n",
    "\n",
    "print(type(img))\n",
    "\n",
    "plt.imshow(img) # Exibição da imagem"
   ]
  },
  {
   "cell_type": "code",
   "execution_count": null,
   "metadata": {},
   "outputs": [],
   "source": []
  },
  {
   "cell_type": "markdown",
   "metadata": {},
   "source": [
    "## Pandas"
   ]
  },
  {
   "cell_type": "markdown",
   "metadata": {},
   "source": [
    "### Problema 3\n",
    "\n",
    "O arquivo avocado.csv consiste em um dataset que contém dados sobre vendas de abacates (avocado, em inglês) em diversas regiões dos Estados Unidos. Essa dataset contém as seguintes colunas:\n",
    "\n",
    "Date - a data da observação\n",
    "AveragePrice - o preço médio de um único abacate\n",
    "year - o ano\n",
    "region - a cidade ou região da observação\n",
    "Total Volume - volume total de abacates vendidos\n",
    "Além das informações acima, contidas no arquivo avocado.csv, o tipo do abacate (convencional ou orgânico) também seria uma informação importante para a sua análise. Suponhamos que você conseguiu essas informações para cada uma das observações do arquivo avocado.csv, na mesma ordem, e salvou-as no arquivo avocado_type.csv. Portanto, tudo o que você precisa é juntar esses dois arquivos em um mesmo DataFrame. E, em seguida, salve-o em um arquivo csv.\n",
    "\n",
    "PS. Caso queira criar uma Series com os dados aleatórios para o tipo de abacate, utilize o código abaixo:"
   ]
  },
  {
   "cell_type": "code",
   "execution_count": null,
   "metadata": {
    "ExecuteTime": {
     "end_time": "2021-04-08T16:13:16.004233Z",
     "start_time": "2021-04-08T16:13:15.991206Z"
    }
   },
   "outputs": [],
   "source": [
    "# tipos = pd.Series(np.random.randint(0, 2, df_avocado.shape[0]))\n",
    "# tipos = tipos.map({0: 'convencional', 1:'orgânico'})"
   ]
  },
  {
   "cell_type": "code",
   "execution_count": null,
   "metadata": {
    "ExecuteTime": {
     "end_time": "2021-04-08T15:52:28.786188Z",
     "start_time": "2021-04-08T15:52:28.780229Z"
    }
   },
   "outputs": [],
   "source": [
    "import pandas as pd\n",
    "import numpy as np"
   ]
  },
  {
   "cell_type": "markdown",
   "metadata": {},
   "source": [
    "### Problema 4\n",
    "\n",
    "Carregue o arquivo csv que você salvou na questão anterior e, em seguida, obtenha o que é solicitado nos itens elencados abaixo:\n",
    "\n",
    "(a) A quantidade de abacates do tipo convecional e do tipo orgânico.\n",
    "\n",
    "(b) A quantidade de registros (linhas) de abacates vendidos para cada região.\n",
    "\n",
    "(c) Para que todos os labels das colunas fiquem padronizados, renomeie aqueles que estão iniciando em letra minúscula para que iniciem em letra maiúscula.\n",
    "\n",
    "(d) Uma vez que você já possui uma coluna com a data, remova a coluna que apresenta o ano."
   ]
  },
  {
   "cell_type": "code",
   "execution_count": null,
   "metadata": {},
   "outputs": [],
   "source": []
  },
  {
   "cell_type": "markdown",
   "metadata": {},
   "source": [
    "### Problema 5\n",
    "Carregue, em um objeto DataFrame, o mesmo dataset que você salvou na questão Q1, agrupe os dados do DF pelo tipo do abacate e, em seguida, obtenha:\n",
    "\n",
    "(a) A volume total de abacates vendidos para cada tipo.\n",
    "\n",
    "(b) O preço médio dos abacates vendidos para cada tipo."
   ]
  },
  {
   "cell_type": "code",
   "execution_count": null,
   "metadata": {},
   "outputs": [],
   "source": []
  },
  {
   "cell_type": "markdown",
   "metadata": {
    "ExecuteTime": {
     "end_time": "2021-04-08T16:15:09.812354Z",
     "start_time": "2021-04-08T16:15:09.788834Z"
    }
   },
   "source": [
    "### Problema 6\n",
    "\n",
    "Com base no dataset 'Video_Games_Sales.csv' responda:\n",
    "1. Quantos jogos existem em cada genero?\n",
    "2. Quantos jogos de cada editora receberam nota acima de 9 na avaliação dos usuarios?\n",
    "3. Faça uma tabela que mostre o total vendido por ano por pais/globalmente de cada editora?\n",
    "4. Qual foi jogo mais vendido na união européia? De que ano ele é e qual a editora?\n",
    "5. Quantos % os generos ['Racing', 'Sports', 'Shooter'] representam na base de dados? Obs: a porcertagem deve ser impressa usando 2 casas decimais e o simbolo de %..Ex: 45.13% ..lembrando que 45.127 = 45.13%\n",
    "6. Qual plataforma vendeu menos globalmente? obs: imprimir somente o nome"
   ]
  },
  {
   "cell_type": "code",
   "execution_count": null,
   "metadata": {},
   "outputs": [],
   "source": []
  },
  {
   "cell_type": "markdown",
   "metadata": {},
   "source": [
    "### Problema 7\n",
    "\n",
    "O Dataset do Titanic apresenta 2 Locais de embarque que estão com valores nulos\n",
    "\n",
    "Adote a melhor solução para resolver essas 2 linhas do Dataset"
   ]
  },
  {
   "cell_type": "code",
   "execution_count": null,
   "metadata": {},
   "outputs": [],
   "source": []
  },
  {
   "cell_type": "markdown",
   "metadata": {},
   "source": [
    "### Problema 8\n",
    "Insira uma coluna ao lado direito do nome do passageiro com o seu título:\n",
    "\n",
    "Ex:\n",
    "Braund, Mr. Owen Harris -> Mr."
   ]
  },
  {
   "cell_type": "code",
   "execution_count": null,
   "metadata": {},
   "outputs": [],
   "source": []
  },
  {
   "cell_type": "markdown",
   "metadata": {},
   "source": [
    "### Problema 9\n",
    "\n",
    "Baixe os [microdados do enem](https://www.gov.br/inep/pt-br/acesso-a-informacao/dados-abertos/microdados/enem) e responda as seguintes perguntas:\n",
    "\n",
    "1. Separe os dados por estado e salve os novos datasets ex: (microdados_enem_SP_2019)\n",
    "2. % de candidatos que são gestantes\n",
    "3. % de cadidatas mulheres\n",
    "4. % de candidatas gestantes entre as mulheres\n",
    "5. os 10 candidatos mais velhos\n",
    "6. os 10 Candidatos mais novos\n",
    "7. Crie um dataframe com a nota da redação e o Sexo dos candidatos\n",
    "8. Quantos candidados declararam ser do sexo masculino/feminino possuem nota de redação? (numero total e por sexo)\n",
    "9. Qual é a maior/menor nota em cada sexo?\n",
    "10. Quem escreve melhor? "
   ]
  },
  {
   "cell_type": "code",
   "execution_count": null,
   "metadata": {
    "ExecuteTime": {
     "end_time": "2021-04-08T16:21:02.033836Z",
     "start_time": "2021-04-08T16:21:02.029838Z"
    }
   },
   "outputs": [],
   "source": [
    "import pandas as pd\n",
    "\n",
    "from zipfile import ZipFile\n"
   ]
  },
  {
   "cell_type": "code",
   "execution_count": null,
   "metadata": {
    "ExecuteTime": {
     "end_time": "2021-04-08T16:47:06.045321Z",
     "start_time": "2021-04-08T16:47:06.023206Z"
    }
   },
   "outputs": [],
   "source": [
    "with ZipFile('../datasets/microdados_enem_2019.zip') as z:\n",
    "    print(*z.namelist(), sep='\\n')"
   ]
  },
  {
   "cell_type": "code",
   "execution_count": null,
   "metadata": {
    "ExecuteTime": {
     "end_time": "2021-04-08T16:24:57.561614Z",
     "start_time": "2021-04-08T16:24:57.507682Z"
    }
   },
   "outputs": [],
   "source": [
    "with ZipFile('../datasets/microdados_enem_2019.zip') as z:\n",
    "    with z.open('DADOS/MICRODADOS_ENEM_2019.csv') as f:\n",
    "        microdados = pd.read_csv(f, sep=';', encoding='ISO-8859-1', nrows=0)\n",
    "microdados"
   ]
  }
 ],
 "metadata": {
  "hide_input": false,
  "kernelspec": {
   "display_name": "Python 3",
   "language": "python",
   "name": "python3"
  },
  "language_info": {
   "codemirror_mode": {
    "name": "ipython",
    "version": 3
   },
   "file_extension": ".py",
   "mimetype": "text/x-python",
   "name": "python",
   "nbconvert_exporter": "python",
   "pygments_lexer": "ipython3",
   "version": "3.8.3"
  },
  "toc": {
   "base_numbering": 1,
   "nav_menu": {},
   "number_sections": true,
   "sideBar": true,
   "skip_h1_title": false,
   "title_cell": "Table of Contents",
   "title_sidebar": "Contents",
   "toc_cell": false,
   "toc_position": {},
   "toc_section_display": true,
   "toc_window_display": true
  }
 },
 "nbformat": 4,
 "nbformat_minor": 4
}
