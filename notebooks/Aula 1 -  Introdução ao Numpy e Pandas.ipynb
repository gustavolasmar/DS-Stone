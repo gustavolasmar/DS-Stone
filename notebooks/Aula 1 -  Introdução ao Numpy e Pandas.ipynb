{
 "cells": [
  {
   "cell_type": "markdown",
   "metadata": {},
   "source": [
    "# Aula 1: Introdução ao Numpy e Pandas"
   ]
  },
  {
   "cell_type": "markdown",
   "metadata": {
    "hide_input": false
   },
   "source": [
    "## Listas"
   ]
  },
  {
   "cell_type": "code",
   "execution_count": null,
   "metadata": {
    "ExecuteTime": {
     "end_time": "2021-04-01T20:18:26.331642Z",
     "start_time": "2021-04-01T20:18:26.316578Z"
    }
   },
   "outputs": [],
   "source": [
    "lista = [1, 2, 3, 4, 5]\n",
    "lista"
   ]
  },
  {
   "cell_type": "code",
   "execution_count": null,
   "metadata": {
    "ExecuteTime": {
     "end_time": "2021-04-01T18:08:20.212843Z",
     "start_time": "2021-04-01T18:08:20.206322Z"
    }
   },
   "outputs": [],
   "source": [
    "list(range(1,6))"
   ]
  },
  {
   "cell_type": "code",
   "execution_count": null,
   "metadata": {
    "ExecuteTime": {
     "end_time": "2021-04-01T15:13:41.659572Z",
     "start_time": "2021-04-01T15:13:41.651062Z"
    }
   },
   "outputs": [],
   "source": [
    "lista.append(6)\n",
    "lista"
   ]
  },
  {
   "cell_type": "code",
   "execution_count": null,
   "metadata": {
    "ExecuteTime": {
     "end_time": "2021-04-01T15:13:42.645725Z",
     "start_time": "2021-04-01T15:13:42.638138Z"
    }
   },
   "outputs": [],
   "source": [
    "del lista[6]"
   ]
  },
  {
   "cell_type": "code",
   "execution_count": null,
   "metadata": {
    "ExecuteTime": {
     "end_time": "2021-04-01T15:13:58.591357Z",
     "start_time": "2021-04-01T15:13:58.575850Z"
    }
   },
   "outputs": [],
   "source": [
    "del lista[lista.index(6)]"
   ]
  },
  {
   "cell_type": "code",
   "execution_count": null,
   "metadata": {
    "ExecuteTime": {
     "end_time": "2021-04-01T15:14:21.785522Z",
     "start_time": "2021-04-01T15:14:21.776480Z"
    }
   },
   "outputs": [],
   "source": [
    "6 in lista"
   ]
  },
  {
   "cell_type": "code",
   "execution_count": null,
   "metadata": {
    "ExecuteTime": {
     "end_time": "2021-04-01T15:11:21.113631Z",
     "start_time": "2021-04-01T15:11:21.099627Z"
    }
   },
   "outputs": [],
   "source": [
    "type(lista)"
   ]
  },
  {
   "cell_type": "markdown",
   "metadata": {
    "ExecuteTime": {
     "end_time": "2021-04-01T15:11:52.282097Z",
     "start_time": "2021-04-01T15:11:52.274022Z"
    }
   },
   "source": [
    "### List comprehension"
   ]
  },
  {
   "cell_type": "code",
   "execution_count": null,
   "metadata": {
    "ExecuteTime": {
     "end_time": "2021-04-01T15:16:04.475112Z",
     "start_time": "2021-04-01T15:16:04.466566Z"
    }
   },
   "outputs": [],
   "source": [
    "zeros = []\n",
    "for i in range(10):\n",
    "    zeros.append(0)\n",
    "    \n",
    "zeros"
   ]
  },
  {
   "cell_type": "code",
   "execution_count": null,
   "metadata": {
    "ExecuteTime": {
     "end_time": "2021-04-01T15:17:10.286120Z",
     "start_time": "2021-04-01T15:17:10.276120Z"
    }
   },
   "outputs": [],
   "source": [
    "zeros = [0 for i in range(10)]\n",
    "zeros"
   ]
  },
  {
   "cell_type": "code",
   "execution_count": null,
   "metadata": {},
   "outputs": [],
   "source": []
  },
  {
   "cell_type": "code",
   "execution_count": null,
   "metadata": {},
   "outputs": [],
   "source": []
  },
  {
   "cell_type": "code",
   "execution_count": null,
   "metadata": {},
   "outputs": [],
   "source": []
  },
  {
   "cell_type": "code",
   "execution_count": null,
   "metadata": {},
   "outputs": [],
   "source": []
  },
  {
   "cell_type": "code",
   "execution_count": null,
   "metadata": {},
   "outputs": [],
   "source": []
  },
  {
   "cell_type": "code",
   "execution_count": null,
   "metadata": {
    "ExecuteTime": {
     "end_time": "2021-04-01T15:26:40.434636Z",
     "start_time": "2021-04-01T15:26:40.418608Z"
    }
   },
   "outputs": [],
   "source": [
    "lista = list(range(1, 6))\n",
    "lista[1] += 1\n",
    "lista"
   ]
  },
  {
   "cell_type": "code",
   "execution_count": null,
   "metadata": {
    "ExecuteTime": {
     "end_time": "2021-04-01T15:26:41.437136Z",
     "start_time": "2021-04-01T15:26:41.418622Z"
    }
   },
   "outputs": [],
   "source": [
    "lista = list(range(1, 6))\n",
    "print('antes  -', lista)\n",
    "lista = [elemento*5 for elemento in lista]\n",
    "print('depois -',lista)"
   ]
  },
  {
   "cell_type": "code",
   "execution_count": null,
   "metadata": {
    "ExecuteTime": {
     "end_time": "2021-04-01T15:30:01.469288Z",
     "start_time": "2021-04-01T15:30:01.461287Z"
    }
   },
   "outputs": [],
   "source": [
    "import random"
   ]
  },
  {
   "cell_type": "code",
   "execution_count": null,
   "metadata": {
    "ExecuteTime": {
     "end_time": "2021-04-01T15:33:09.446013Z",
     "start_time": "2021-04-01T15:33:09.434981Z"
    }
   },
   "outputs": [],
   "source": [
    "random.seed()"
   ]
  },
  {
   "cell_type": "code",
   "execution_count": null,
   "metadata": {
    "ExecuteTime": {
     "end_time": "2021-04-01T15:33:10.165327Z",
     "start_time": "2021-04-01T15:33:10.159328Z"
    }
   },
   "outputs": [],
   "source": [
    "random.sample(range(10), 4)"
   ]
  },
  {
   "cell_type": "code",
   "execution_count": null,
   "metadata": {},
   "outputs": [],
   "source": []
  },
  {
   "cell_type": "markdown",
   "metadata": {},
   "source": [
    "## Numpy"
   ]
  },
  {
   "cell_type": "code",
   "execution_count": null,
   "metadata": {
    "ExecuteTime": {
     "end_time": "2021-04-01T19:23:35.407959Z",
     "start_time": "2021-04-01T19:23:35.270427Z"
    }
   },
   "outputs": [],
   "source": [
    "import numpy as np"
   ]
  },
  {
   "cell_type": "markdown",
   "metadata": {},
   "source": [
    "Numpy é uma biblioteca das principais bibliotecas do Python, devido a sua grande velocidade e eficiência ele é extremamente utilizada para computação científica e analise de dados. Esta fama se da principalmente a estrutura chamada [numpy array](https://docs.scipy.org/doc/numpy/reference/arrays.html), um forma eficiente de guardar e manipular matrizes, que serve como base para as tabelas que iremos utilizar."
   ]
  },
  {
   "cell_type": "code",
   "execution_count": null,
   "metadata": {
    "ExecuteTime": {
     "end_time": "2021-04-01T15:36:34.975227Z",
     "start_time": "2021-04-01T15:36:34.963183Z"
    }
   },
   "outputs": [],
   "source": [
    "# criando listas numpy a partir de listas do python\n",
    "lista = [1,2,3,4,5]\n",
    "listaNumpy = np.array(lista)\n",
    "print(type(listaNumpy))\n",
    "listaNumpy\n"
   ]
  },
  {
   "cell_type": "code",
   "execution_count": null,
   "metadata": {
    "ExecuteTime": {
     "end_time": "2021-04-01T15:35:58.993211Z",
     "start_time": "2021-04-01T15:35:58.987171Z"
    }
   },
   "outputs": [],
   "source": [
    "#Criando array zeros nump\n",
    "zeros = np.zeros(10)\n",
    "zeros"
   ]
  },
  {
   "cell_type": "code",
   "execution_count": null,
   "metadata": {
    "ExecuteTime": {
     "end_time": "2021-04-01T15:35:57.949510Z",
     "start_time": "2021-04-01T15:35:57.937534Z"
    }
   },
   "outputs": [],
   "source": [
    "#Criando array 1 \n",
    "uns = np.ones(10)\n",
    "uns"
   ]
  },
  {
   "cell_type": "markdown",
   "metadata": {},
   "source": [
    "### Multiplicação de Listas vs np.Array"
   ]
  },
  {
   "cell_type": "code",
   "execution_count": null,
   "metadata": {
    "ExecuteTime": {
     "end_time": "2021-04-01T15:36:59.482377Z",
     "start_time": "2021-04-01T15:36:59.474842Z"
    },
    "scrolled": true
   },
   "outputs": [],
   "source": [
    "uns = [1 for i in range(10)]\n",
    "\n",
    "uns * 5"
   ]
  },
  {
   "cell_type": "code",
   "execution_count": null,
   "metadata": {
    "ExecuteTime": {
     "end_time": "2021-04-01T15:39:19.174407Z",
     "start_time": "2021-04-01T15:39:19.163436Z"
    }
   },
   "outputs": [],
   "source": [
    "#Criando array de um numero qualquer\n",
    "cincos = (np.ones(10) + 5)*3/2\n",
    "cincos"
   ]
  },
  {
   "cell_type": "code",
   "execution_count": null,
   "metadata": {
    "ExecuteTime": {
     "end_time": "2021-04-01T15:40:01.321689Z",
     "start_time": "2021-04-01T15:40:01.314666Z"
    }
   },
   "outputs": [],
   "source": [
    "list(range(0, 11))"
   ]
  },
  {
   "cell_type": "code",
   "execution_count": null,
   "metadata": {
    "ExecuteTime": {
     "end_time": "2021-04-01T15:40:05.521327Z",
     "start_time": "2021-04-01T15:40:05.515327Z"
    }
   },
   "outputs": [],
   "source": [
    "#Criando array com sequencia\n",
    "lista10 = np.arange(0,11)\n",
    "lista10"
   ]
  },
  {
   "cell_type": "code",
   "execution_count": null,
   "metadata": {
    "ExecuteTime": {
     "end_time": "2021-04-01T15:40:28.534871Z",
     "start_time": "2021-04-01T15:40:28.526868Z"
    }
   },
   "outputs": [],
   "source": [
    "list(range(0, 20, 2))"
   ]
  },
  {
   "cell_type": "code",
   "execution_count": null,
   "metadata": {
    "ExecuteTime": {
     "end_time": "2021-04-01T15:40:31.612614Z",
     "start_time": "2021-04-01T15:40:31.601614Z"
    }
   },
   "outputs": [],
   "source": [
    "#Criando lista Com saltos\n",
    "listaD = np.arange(0,20,2)\n",
    "listaD"
   ]
  },
  {
   "cell_type": "code",
   "execution_count": null,
   "metadata": {
    "ExecuteTime": {
     "end_time": "2021-04-01T15:40:49.652410Z",
     "start_time": "2021-04-01T15:40:49.638796Z"
    }
   },
   "outputs": [],
   "source": [
    "#Array espaçado, os dois primeiros numeros são o intervalo, o terceiro e numero de valores \n",
    "np.linspace(0,2,20)"
   ]
  },
  {
   "cell_type": "code",
   "execution_count": null,
   "metadata": {
    "ExecuteTime": {
     "end_time": "2021-04-01T15:43:38.420296Z",
     "start_time": "2021-04-01T15:43:38.405089Z"
    }
   },
   "outputs": [],
   "source": [
    "#Criando array com valores aleatorios\n",
    "aleatorio = np.random.rand(10)\n",
    "aleatorio"
   ]
  },
  {
   "cell_type": "code",
   "execution_count": null,
   "metadata": {
    "ExecuteTime": {
     "end_time": "2021-04-01T15:46:42.574999Z",
     "start_time": "2021-04-01T15:46:42.555482Z"
    }
   },
   "outputs": [],
   "source": [
    "# aleatorio inteiro (10 itens de 0 a 100)\n",
    "lista1 = np.random.randint(0,100,10)\n",
    "lista1"
   ]
  },
  {
   "cell_type": "markdown",
   "metadata": {},
   "source": [
    "### Indexação"
   ]
  },
  {
   "cell_type": "code",
   "execution_count": null,
   "metadata": {
    "ExecuteTime": {
     "end_time": "2021-04-01T15:47:02.658751Z",
     "start_time": "2021-04-01T15:47:02.642219Z"
    }
   },
   "outputs": [],
   "source": [
    "lista = list(range(10))"
   ]
  },
  {
   "cell_type": "code",
   "execution_count": null,
   "metadata": {
    "ExecuteTime": {
     "end_time": "2021-04-01T15:48:12.988208Z",
     "start_time": "2021-04-01T15:48:12.980656Z"
    }
   },
   "outputs": [],
   "source": [
    "lista[3:1:-1]"
   ]
  },
  {
   "cell_type": "code",
   "execution_count": null,
   "metadata": {
    "ExecuteTime": {
     "end_time": "2020-12-03T22:16:25.050575Z",
     "start_time": "2020-12-03T22:16:25.043222Z"
    }
   },
   "outputs": [],
   "source": [
    "lista10"
   ]
  },
  {
   "cell_type": "code",
   "execution_count": null,
   "metadata": {
    "ExecuteTime": {
     "end_time": "2020-12-03T22:21:45.691559Z",
     "start_time": "2020-12-03T22:21:45.679068Z"
    }
   },
   "outputs": [],
   "source": [
    "lista10[5]"
   ]
  },
  {
   "cell_type": "code",
   "execution_count": null,
   "metadata": {
    "ExecuteTime": {
     "end_time": "2020-12-03T22:21:48.603066Z",
     "start_time": "2020-12-03T22:21:48.594222Z"
    }
   },
   "outputs": [],
   "source": [
    "#Partindo array\n",
    "lista10[2:7]"
   ]
  },
  {
   "cell_type": "code",
   "execution_count": null,
   "metadata": {
    "ExecuteTime": {
     "end_time": "2021-04-01T15:48:24.610151Z",
     "start_time": "2021-04-01T15:48:24.605124Z"
    }
   },
   "outputs": [],
   "source": [
    "parte = lista10[3:8:2]\n",
    "parte"
   ]
  },
  {
   "cell_type": "code",
   "execution_count": null,
   "metadata": {
    "ExecuteTime": {
     "end_time": "2021-04-01T15:48:35.058783Z",
     "start_time": "2021-04-01T15:48:35.042789Z"
    }
   },
   "outputs": [],
   "source": [
    "#Criando array com sequencia\n",
    "lista40 = np.arange(10,50)\n",
    "lista40"
   ]
  },
  {
   "cell_type": "markdown",
   "metadata": {},
   "source": [
    "### Operações simples"
   ]
  },
  {
   "cell_type": "code",
   "execution_count": null,
   "metadata": {
    "ExecuteTime": {
     "end_time": "2021-04-01T15:49:13.233291Z",
     "start_time": "2021-04-01T15:49:13.219289Z"
    }
   },
   "outputs": [],
   "source": [
    "lista1"
   ]
  },
  {
   "cell_type": "code",
   "execution_count": null,
   "metadata": {
    "ExecuteTime": {
     "end_time": "2021-04-01T15:49:14.216250Z",
     "start_time": "2021-04-01T15:49:14.207711Z"
    }
   },
   "outputs": [],
   "source": [
    "listaLista1 = list(lista1)\n",
    "listaLista1"
   ]
  },
  {
   "cell_type": "code",
   "execution_count": null,
   "metadata": {
    "ExecuteTime": {
     "end_time": "2021-04-01T15:49:18.424158Z",
     "start_time": "2021-04-01T15:49:18.405120Z"
    }
   },
   "outputs": [],
   "source": [
    "lista1 * 2"
   ]
  },
  {
   "cell_type": "code",
   "execution_count": null,
   "metadata": {
    "ExecuteTime": {
     "end_time": "2021-04-01T15:49:19.456481Z",
     "start_time": "2021-04-01T15:49:19.442898Z"
    }
   },
   "outputs": [],
   "source": [
    "listaLista1 * 2"
   ]
  },
  {
   "cell_type": "code",
   "execution_count": null,
   "metadata": {
    "ExecuteTime": {
     "end_time": "2021-04-01T15:49:21.824020Z",
     "start_time": "2021-04-01T15:49:21.806988Z"
    }
   },
   "outputs": [],
   "source": [
    "lista1 + 1"
   ]
  },
  {
   "cell_type": "code",
   "execution_count": null,
   "metadata": {
    "ExecuteTime": {
     "end_time": "2021-04-01T15:49:22.950909Z",
     "start_time": "2021-04-01T15:49:22.943910Z"
    }
   },
   "outputs": [],
   "source": [
    "lista1 ** 2"
   ]
  },
  {
   "cell_type": "code",
   "execution_count": null,
   "metadata": {
    "ExecuteTime": {
     "end_time": "2021-04-01T15:49:25.045571Z",
     "start_time": "2021-04-01T15:49:25.030060Z"
    }
   },
   "outputs": [],
   "source": [
    "lista1 / 2"
   ]
  },
  {
   "cell_type": "code",
   "execution_count": null,
   "metadata": {
    "ExecuteTime": {
     "end_time": "2021-04-01T15:50:04.503820Z",
     "start_time": "2021-04-01T15:50:04.492787Z"
    }
   },
   "outputs": [],
   "source": [
    "lista1 = np.array(lista1)\n",
    "lista1"
   ]
  },
  {
   "cell_type": "markdown",
   "metadata": {
    "ExecuteTime": {
     "end_time": "2021-04-01T16:02:19.292406Z",
     "start_time": "2021-04-01T16:02:19.275829Z"
    }
   },
   "source": [
    "### Operações com Arrays"
   ]
  },
  {
   "cell_type": "code",
   "execution_count": null,
   "metadata": {
    "ExecuteTime": {
     "end_time": "2021-04-01T20:35:27.769077Z",
     "start_time": "2021-04-01T20:35:27.763123Z"
    }
   },
   "outputs": [],
   "source": [
    "array1 = np.random.randint(0,100,10)\n",
    "array2 = np.random.randint(0,100,10)\n",
    "print(lista1, type(lista1))\n",
    "print(lista2, type(lista2))"
   ]
  },
  {
   "cell_type": "code",
   "execution_count": null,
   "metadata": {
    "ExecuteTime": {
     "end_time": "2021-04-01T20:35:29.341113Z",
     "start_time": "2021-04-01T20:35:29.326015Z"
    }
   },
   "outputs": [],
   "source": [
    "#adição\n",
    "array1 + array2"
   ]
  },
  {
   "cell_type": "code",
   "execution_count": null,
   "metadata": {
    "ExecuteTime": {
     "end_time": "2021-04-01T20:35:29.994070Z",
     "start_time": "2021-04-01T20:35:29.986059Z"
    }
   },
   "outputs": [],
   "source": [
    "array2[0] = 0\n",
    "array2"
   ]
  },
  {
   "cell_type": "code",
   "execution_count": null,
   "metadata": {
    "ExecuteTime": {
     "end_time": "2021-04-01T20:35:35.892233Z",
     "start_time": "2021-04-01T20:35:35.886506Z"
    }
   },
   "outputs": [],
   "source": [
    "#multiplicação\n",
    "array1*array2"
   ]
  },
  {
   "cell_type": "code",
   "execution_count": null,
   "metadata": {
    "ExecuteTime": {
     "end_time": "2021-04-01T20:35:46.486208Z",
     "start_time": "2021-04-01T20:35:46.475229Z"
    }
   },
   "outputs": [],
   "source": [
    "# divisão\n",
    "array3 = array1 / array2\n",
    "array3"
   ]
  },
  {
   "cell_type": "code",
   "execution_count": null,
   "metadata": {
    "ExecuteTime": {
     "end_time": "2021-04-01T20:35:55.319768Z",
     "start_time": "2021-04-01T20:35:55.312797Z"
    }
   },
   "outputs": [],
   "source": [
    "[i for i in array3 if i != np.inf]"
   ]
  },
  {
   "cell_type": "code",
   "execution_count": null,
   "metadata": {
    "ExecuteTime": {
     "end_time": "2021-04-01T20:36:01.781387Z",
     "start_time": "2021-04-01T20:36:01.776379Z"
    }
   },
   "outputs": [],
   "source": [
    "array3[array3 != np.inf]"
   ]
  },
  {
   "cell_type": "code",
   "execution_count": null,
   "metadata": {
    "ExecuteTime": {
     "end_time": "2021-04-01T21:02:47.164977Z",
     "start_time": "2021-04-01T21:02:47.153014Z"
    },
    "scrolled": true
   },
   "outputs": [],
   "source": [
    "#concatenate\n",
    "np.concatenate((array1, array2))"
   ]
  },
  {
   "cell_type": "markdown",
   "metadata": {},
   "source": [
    "### Operações em arrays"
   ]
  },
  {
   "cell_type": "markdown",
   "metadata": {},
   "source": [
    "### Problema 1:\n",
    "Somar 2 Listas de tamanhos iguais - Retorno deve conter uma lista"
   ]
  },
  {
   "cell_type": "code",
   "execution_count": null,
   "metadata": {
    "ExecuteTime": {
     "end_time": "2021-04-01T20:53:04.307204Z",
     "start_time": "2021-04-01T20:53:04.295204Z"
    }
   },
   "outputs": [],
   "source": [
    "import random\n",
    "lista1 = random.sample(range(10), 10)\n",
    "lista2 = random.sample(range(10), 10)\n",
    "print(lista1, lista2, sep='\\n')"
   ]
  },
  {
   "cell_type": "code",
   "execution_count": null,
   "metadata": {
    "ExecuteTime": {
     "end_time": "2021-04-01T20:55:15.208555Z",
     "start_time": "2021-04-01T20:55:15.197555Z"
    }
   },
   "outputs": [],
   "source": [
    "#numpy\n"
   ]
  },
  {
   "cell_type": "code",
   "execution_count": null,
   "metadata": {
    "ExecuteTime": {
     "end_time": "2021-04-01T20:52:01.870426Z",
     "start_time": "2021-04-01T20:52:01.858408Z"
    }
   },
   "outputs": [],
   "source": [
    "#list comprehension\n"
   ]
  },
  {
   "cell_type": "code",
   "execution_count": null,
   "metadata": {
    "ExecuteTime": {
     "end_time": "2021-04-01T20:52:04.398815Z",
     "start_time": "2021-04-01T20:52:04.395825Z"
    }
   },
   "outputs": [],
   "source": [
    "#list comprehension + enumerate\n"
   ]
  },
  {
   "cell_type": "code",
   "execution_count": null,
   "metadata": {
    "ExecuteTime": {
     "end_time": "2021-04-01T20:52:10.399071Z",
     "start_time": "2021-04-01T20:52:10.395075Z"
    }
   },
   "outputs": [],
   "source": [
    "#list comprehension + zip\n"
   ]
  },
  {
   "cell_type": "code",
   "execution_count": null,
   "metadata": {
    "ExecuteTime": {
     "end_time": "2021-04-01T20:52:16.088669Z",
     "start_time": "2021-04-01T20:52:16.082589Z"
    }
   },
   "outputs": [],
   "source": [
    "#map + lambda\n"
   ]
  },
  {
   "cell_type": "markdown",
   "metadata": {},
   "source": [
    "### problema 2\n",
    "Somar 2 Arrays de tamanhos diferentes - Retorno deve conter um array\n",
    "\n",
    "***Tomar cuidado ao fazer operações com arrays de tamanhos diferentes***\n",
    "\n",
    "Ex: array([1, 2, 3, 4, 5, 6, 7, 8, 9, 10]) + array([1, 1, 1, 1, 1]) = array(2, 3, 4, 5, 6, 6, 7, 8, 9, 10)"
   ]
  },
  {
   "cell_type": "code",
   "execution_count": null,
   "metadata": {
    "ExecuteTime": {
     "end_time": "2021-04-01T20:38:11.013841Z",
     "start_time": "2021-04-01T20:38:11.000820Z"
    },
    "scrolled": true
   },
   "outputs": [],
   "source": [
    "lista1 = np.random.randint(0,100,10)\n",
    "lista2 = np.random.randint(0,100,5)\n",
    "print(lista1, type(lista1))\n",
    "print(lista2, type(lista2))"
   ]
  },
  {
   "cell_type": "code",
   "execution_count": null,
   "metadata": {
    "ExecuteTime": {
     "end_time": "2021-04-01T20:38:12.097239Z",
     "start_time": "2021-04-01T20:38:12.087211Z"
    }
   },
   "outputs": [],
   "source": [
    "lista1+lista2"
   ]
  },
  {
   "cell_type": "code",
   "execution_count": null,
   "metadata": {
    "ExecuteTime": {
     "end_time": "2021-04-01T20:38:17.117872Z",
     "start_time": "2021-04-01T20:38:17.112910Z"
    }
   },
   "outputs": [],
   "source": [
    "lista1.shape"
   ]
  },
  {
   "cell_type": "code",
   "execution_count": null,
   "metadata": {
    "ExecuteTime": {
     "end_time": "2021-04-01T20:38:17.680998Z",
     "start_time": "2021-04-01T20:38:17.663028Z"
    }
   },
   "outputs": [],
   "source": [
    "lista2.shape"
   ]
  },
  {
   "cell_type": "code",
   "execution_count": null,
   "metadata": {
    "ExecuteTime": {
     "end_time": "2021-04-01T16:09:58.406483Z",
     "start_time": "2021-04-01T16:09:58.390968Z"
    }
   },
   "outputs": [],
   "source": []
  },
  {
   "cell_type": "code",
   "execution_count": null,
   "metadata": {
    "ExecuteTime": {
     "end_time": "2021-04-01T16:13:02.437758Z",
     "start_time": "2021-04-01T16:13:02.428752Z"
    }
   },
   "outputs": [],
   "source": []
  },
  {
   "cell_type": "markdown",
   "metadata": {},
   "source": [
    "### Métodos"
   ]
  },
  {
   "cell_type": "code",
   "execution_count": null,
   "metadata": {
    "ExecuteTime": {
     "end_time": "2021-04-01T19:25:08.248101Z",
     "start_time": "2021-04-01T19:25:08.243059Z"
    }
   },
   "outputs": [],
   "source": [
    "lista1 = np.random.randint(0,100,10)\n",
    "lista1"
   ]
  },
  {
   "cell_type": "code",
   "execution_count": null,
   "metadata": {
    "ExecuteTime": {
     "end_time": "2021-04-01T20:39:12.542537Z",
     "start_time": "2021-04-01T20:39:12.526485Z"
    }
   },
   "outputs": [],
   "source": [
    "#maior valor\n",
    "lista1.max()"
   ]
  },
  {
   "cell_type": "code",
   "execution_count": null,
   "metadata": {
    "ExecuteTime": {
     "end_time": "2021-04-01T20:39:16.397176Z",
     "start_time": "2021-04-01T20:39:16.389668Z"
    }
   },
   "outputs": [],
   "source": [
    "#index do maior valor\n",
    "lista1.argmax()"
   ]
  },
  {
   "cell_type": "code",
   "execution_count": null,
   "metadata": {
    "ExecuteTime": {
     "end_time": "2021-04-01T20:39:21.284126Z",
     "start_time": "2021-04-01T20:39:21.276624Z"
    }
   },
   "outputs": [],
   "source": [
    "#menor valor\n",
    "lista1.min()"
   ]
  },
  {
   "cell_type": "code",
   "execution_count": null,
   "metadata": {
    "ExecuteTime": {
     "end_time": "2021-04-01T20:39:24.310643Z",
     "start_time": "2021-04-01T20:39:24.303137Z"
    }
   },
   "outputs": [],
   "source": [
    "#index do menor valor\n",
    "lista1.argmin()"
   ]
  },
  {
   "cell_type": "code",
   "execution_count": null,
   "metadata": {
    "ExecuteTime": {
     "end_time": "2021-04-01T19:25:10.279110Z",
     "start_time": "2021-04-01T19:25:10.262548Z"
    }
   },
   "outputs": [],
   "source": [
    "#soma de todos os items\n",
    "lista1.sum()"
   ]
  },
  {
   "cell_type": "code",
   "execution_count": null,
   "metadata": {
    "ExecuteTime": {
     "end_time": "2021-04-01T19:25:11.329918Z",
     "start_time": "2021-04-01T19:25:11.324923Z"
    }
   },
   "outputs": [],
   "source": [
    "#media\n",
    "lista1.mean()"
   ]
  },
  {
   "cell_type": "code",
   "execution_count": null,
   "metadata": {
    "ExecuteTime": {
     "end_time": "2021-04-01T19:25:12.079183Z",
     "start_time": "2021-04-01T19:25:12.062183Z"
    }
   },
   "outputs": [],
   "source": [
    "#desvio padrão\n",
    "lista1.std()"
   ]
  },
  {
   "cell_type": "code",
   "execution_count": null,
   "metadata": {
    "ExecuteTime": {
     "end_time": "2021-04-01T19:25:12.769189Z",
     "start_time": "2021-04-01T19:25:12.763146Z"
    }
   },
   "outputs": [],
   "source": [
    "listax = sorted(lista1)\n",
    "print(lista1)\n",
    "print(listax)"
   ]
  },
  {
   "cell_type": "code",
   "execution_count": null,
   "metadata": {
    "ExecuteTime": {
     "end_time": "2021-04-01T19:23:52.902224Z",
     "start_time": "2021-04-01T19:23:52.895182Z"
    }
   },
   "outputs": [],
   "source": [
    "#ordenar a lista\n",
    "lista1.sort()\n",
    "lista1"
   ]
  },
  {
   "cell_type": "code",
   "execution_count": null,
   "metadata": {
    "ExecuteTime": {
     "end_time": "2021-04-01T19:27:28.976013Z",
     "start_time": "2021-04-01T19:27:28.961004Z"
    }
   },
   "outputs": [],
   "source": [
    "## Aleatorizando o array\n",
    "\n",
    "lista1 = np.random.permutation(lista1)\n",
    "\n",
    "## ou\n",
    "random.shuffle(lista1)\n",
    "\n",
    "lista1"
   ]
  },
  {
   "cell_type": "code",
   "execution_count": null,
   "metadata": {
    "ExecuteTime": {
     "end_time": "2021-04-01T19:27:31.517340Z",
     "start_time": "2021-04-01T19:27:31.511329Z"
    }
   },
   "outputs": [],
   "source": [
    "#Trocando o tipo dos dados nas lista\n",
    "lista1 = lista1.astype(int)\n",
    "lista1"
   ]
  },
  {
   "cell_type": "code",
   "execution_count": null,
   "metadata": {
    "ExecuteTime": {
     "end_time": "2021-04-01T19:29:38.862182Z",
     "start_time": "2021-04-01T19:29:38.848151Z"
    }
   },
   "outputs": [],
   "source": [
    "# Valores únicos\n",
    "values, count = np.unique(lista1, return_counts=True)\n",
    "\n",
    "values[count.argmax()]"
   ]
  },
  {
   "cell_type": "code",
   "execution_count": null,
   "metadata": {
    "ExecuteTime": {
     "end_time": "2021-04-01T16:19:38.042799Z",
     "start_time": "2021-04-01T16:19:38.020247Z"
    }
   },
   "outputs": [],
   "source": [
    "#moda\n",
    "import statistics\n",
    "statistics.mode(lista1)"
   ]
  },
  {
   "cell_type": "markdown",
   "metadata": {},
   "source": [
    "### Matriz"
   ]
  },
  {
   "cell_type": "code",
   "execution_count": null,
   "metadata": {
    "ExecuteTime": {
     "end_time": "2021-04-01T19:33:20.416470Z",
     "start_time": "2021-04-01T19:33:20.399950Z"
    }
   },
   "outputs": [],
   "source": [
    "#Criando matriz\n",
    "matriz = np.matrix('1 2; 3 4')\n",
    "matriz"
   ]
  },
  {
   "cell_type": "code",
   "execution_count": null,
   "metadata": {
    "ExecuteTime": {
     "end_time": "2021-04-01T19:34:02.278748Z",
     "start_time": "2021-04-01T19:34:02.266112Z"
    }
   },
   "outputs": [],
   "source": [
    "np.matrix([[1, 2],[3, 4]])"
   ]
  },
  {
   "cell_type": "code",
   "execution_count": null,
   "metadata": {
    "ExecuteTime": {
     "end_time": "2021-04-01T19:37:36.327997Z",
     "start_time": "2021-04-01T19:37:36.315498Z"
    }
   },
   "outputs": [],
   "source": [
    "#Matriz de zeros\n",
    "np.zeros((3, 3, 3))"
   ]
  },
  {
   "cell_type": "code",
   "execution_count": null,
   "metadata": {
    "ExecuteTime": {
     "end_time": "2021-04-01T19:39:56.274942Z",
     "start_time": "2021-04-01T19:39:56.266363Z"
    }
   },
   "outputs": [],
   "source": [
    "#Matriz de 1's\n",
    "np.ones((3, 3))"
   ]
  },
  {
   "cell_type": "code",
   "execution_count": null,
   "metadata": {
    "ExecuteTime": {
     "end_time": "2021-04-01T19:40:05.401853Z",
     "start_time": "2021-04-01T19:40:05.393644Z"
    },
    "hide_input": false
   },
   "outputs": [],
   "source": [
    "#eye - Matriz identidade\n",
    "np.eye(3, 3)"
   ]
  },
  {
   "cell_type": "code",
   "execution_count": null,
   "metadata": {
    "ExecuteTime": {
     "end_time": "2021-04-01T21:05:43.560063Z",
     "start_time": "2021-04-01T21:05:43.541015Z"
    }
   },
   "outputs": [],
   "source": [
    "listaD = np.arange(0,20,2)\n",
    "listaD"
   ]
  },
  {
   "cell_type": "markdown",
   "metadata": {},
   "source": [
    "#### Operações"
   ]
  },
  {
   "cell_type": "code",
   "execution_count": null,
   "metadata": {
    "ExecuteTime": {
     "end_time": "2021-04-01T21:05:56.621045Z",
     "start_time": "2021-04-01T21:05:56.604757Z"
    },
    "code_folding": []
   },
   "outputs": [],
   "source": [
    "# Redimensionamento\n",
    "matriz = listaD.reshape(5, 2)\n",
    "matriz"
   ]
  },
  {
   "cell_type": "code",
   "execution_count": null,
   "metadata": {
    "ExecuteTime": {
     "end_time": "2021-04-01T21:06:02.896151Z",
     "start_time": "2021-04-01T21:06:02.878149Z"
    }
   },
   "outputs": [],
   "source": [
    "matriz.shape"
   ]
  },
  {
   "cell_type": "code",
   "execution_count": null,
   "metadata": {
    "ExecuteTime": {
     "end_time": "2021-04-01T21:06:06.129593Z",
     "start_time": "2021-04-01T21:06:06.116081Z"
    }
   },
   "outputs": [],
   "source": [
    "#Matriz Transposta\n",
    "matriz.T\n",
    "\n",
    "##ou\n",
    "matriz.transpose()"
   ]
  },
  {
   "cell_type": "code",
   "execution_count": null,
   "metadata": {
    "ExecuteTime": {
     "end_time": "2021-04-01T21:06:08.593764Z",
     "start_time": "2021-04-01T21:06:08.578182Z"
    }
   },
   "outputs": [],
   "source": [
    "matriz.T.shape"
   ]
  },
  {
   "cell_type": "code",
   "execution_count": null,
   "metadata": {
    "ExecuteTime": {
     "end_time": "2021-04-01T21:18:02.012410Z",
     "start_time": "2021-04-01T21:18:01.997411Z"
    }
   },
   "outputs": [],
   "source": [
    "#concatenaçäo\n",
    "np.concatenate((np.ones((1,2)), matriz))"
   ]
  },
  {
   "cell_type": "code",
   "execution_count": null,
   "metadata": {
    "ExecuteTime": {
     "end_time": "2021-04-01T21:16:38.113757Z",
     "start_time": "2021-04-01T21:16:38.102755Z"
    }
   },
   "outputs": [],
   "source": [
    "#hstack\n",
    "np.hstack((np.ones(10).reshape(5,2), matriz))"
   ]
  },
  {
   "cell_type": "code",
   "execution_count": null,
   "metadata": {
    "ExecuteTime": {
     "end_time": "2021-04-01T21:17:18.935439Z",
     "start_time": "2021-04-01T21:17:18.922933Z"
    }
   },
   "outputs": [],
   "source": [
    "#vstack\n",
    "np.vstack((np.ones(2), matriz))"
   ]
  },
  {
   "cell_type": "code",
   "execution_count": null,
   "metadata": {
    "ExecuteTime": {
     "end_time": "2021-04-01T21:06:13.241577Z",
     "start_time": "2021-04-01T21:06:13.230987Z"
    }
   },
   "outputs": [],
   "source": [
    "matriz"
   ]
  },
  {
   "cell_type": "code",
   "execution_count": null,
   "metadata": {
    "ExecuteTime": {
     "end_time": "2021-04-01T21:06:15.969130Z",
     "start_time": "2021-04-01T21:06:15.953596Z"
    }
   },
   "outputs": [],
   "source": [
    "#indexação matriz\n",
    "matriz[2:,1:]"
   ]
  },
  {
   "cell_type": "markdown",
   "metadata": {
    "ExecuteTime": {
     "end_time": "2020-12-02T00:45:05.502884Z",
     "start_time": "2020-12-02T00:45:05.483356Z"
    }
   },
   "source": [
    "### Problema 3: \n",
    "\n",
    "Criar uma matriz 10x2 onde na primeira coluna estejam os valores de [1..10] e a segunda coluna seja preenchida com zeros"
   ]
  },
  {
   "cell_type": "code",
   "execution_count": null,
   "metadata": {
    "ExecuteTime": {
     "end_time": "2021-04-01T21:24:58.245301Z",
     "start_time": "2021-04-01T21:24:58.238991Z"
    }
   },
   "outputs": [],
   "source": [
    "lista = []\n",
    "for i in range(1, 11):\n",
    "    lista.append([i, 0])\n",
    "np.array(lista)"
   ]
  },
  {
   "cell_type": "code",
   "execution_count": null,
   "metadata": {},
   "outputs": [],
   "source": []
  },
  {
   "cell_type": "code",
   "execution_count": null,
   "metadata": {},
   "outputs": [],
   "source": []
  },
  {
   "cell_type": "code",
   "execution_count": null,
   "metadata": {},
   "outputs": [],
   "source": []
  },
  {
   "cell_type": "code",
   "execution_count": null,
   "metadata": {},
   "outputs": [],
   "source": []
  },
  {
   "cell_type": "code",
   "execution_count": null,
   "metadata": {},
   "outputs": [],
   "source": []
  },
  {
   "cell_type": "code",
   "execution_count": null,
   "metadata": {},
   "outputs": [],
   "source": []
  },
  {
   "cell_type": "code",
   "execution_count": null,
   "metadata": {},
   "outputs": [],
   "source": []
  },
  {
   "cell_type": "code",
   "execution_count": null,
   "metadata": {},
   "outputs": [],
   "source": []
  },
  {
   "cell_type": "code",
   "execution_count": null,
   "metadata": {},
   "outputs": [],
   "source": []
  },
  {
   "cell_type": "code",
   "execution_count": null,
   "metadata": {},
   "outputs": [],
   "source": []
  },
  {
   "cell_type": "code",
   "execution_count": null,
   "metadata": {},
   "outputs": [],
   "source": []
  },
  {
   "cell_type": "markdown",
   "metadata": {},
   "source": [
    "#### Solução 1 - Usando Pandas"
   ]
  },
  {
   "cell_type": "code",
   "execution_count": null,
   "metadata": {
    "ExecuteTime": {
     "end_time": "2021-04-01T21:21:57.081683Z",
     "start_time": "2021-04-01T21:21:56.549312Z"
    }
   },
   "outputs": [],
   "source": [
    "import pandas as pd"
   ]
  },
  {
   "cell_type": "code",
   "execution_count": null,
   "metadata": {
    "ExecuteTime": {
     "end_time": "2021-04-01T21:21:49.243950Z",
     "start_time": "2021-04-01T21:21:49.224386Z"
    }
   },
   "outputs": [],
   "source": [
    "valores = np.array(range(1,11))\n",
    "valores.reshape(10,1)\n",
    "valores"
   ]
  },
  {
   "cell_type": "markdown",
   "metadata": {},
   "source": [
    "**Vamos criar um dataframe com o formato que desejamos e depois converte-lo para numpy array**"
   ]
  },
  {
   "cell_type": "code",
   "execution_count": null,
   "metadata": {
    "ExecuteTime": {
     "end_time": "2021-04-01T21:21:58.036426Z",
     "start_time": "2021-04-01T21:21:58.011915Z"
    }
   },
   "outputs": [],
   "source": [
    "df = pd.DataFrame({'A': valores, 'B':np.zeros(10)})\n",
    "df"
   ]
  },
  {
   "cell_type": "code",
   "execution_count": null,
   "metadata": {
    "ExecuteTime": {
     "end_time": "2021-04-01T21:22:03.195851Z",
     "start_time": "2021-04-01T21:22:03.173804Z"
    }
   },
   "outputs": [],
   "source": [
    "df.to_numpy()"
   ]
  },
  {
   "cell_type": "markdown",
   "metadata": {
    "ExecuteTime": {
     "end_time": "2020-12-02T22:41:17.851730Z",
     "start_time": "2020-12-02T22:41:17.843732Z"
    }
   },
   "source": [
    "#### Solução 2 - Usando hstack"
   ]
  },
  {
   "cell_type": "code",
   "execution_count": null,
   "metadata": {
    "ExecuteTime": {
     "end_time": "2021-04-01T21:22:11.204315Z",
     "start_time": "2021-04-01T21:22:11.185286Z"
    }
   },
   "outputs": [],
   "source": [
    "np.hstack((valores.reshape(10,1), np.zeros(10).reshape(10,1)))"
   ]
  },
  {
   "cell_type": "markdown",
   "metadata": {},
   "source": [
    "#### Solução 3 - Usando vstack e matriz transposta"
   ]
  },
  {
   "cell_type": "code",
   "execution_count": null,
   "metadata": {
    "ExecuteTime": {
     "end_time": "2021-04-01T21:22:12.566966Z",
     "start_time": "2021-04-01T21:22:12.560943Z"
    }
   },
   "outputs": [],
   "source": [
    "arr = np.vstack((valores, np.zeros(10)))\n",
    "arr"
   ]
  },
  {
   "cell_type": "code",
   "execution_count": null,
   "metadata": {
    "ExecuteTime": {
     "end_time": "2021-04-01T21:22:14.200704Z",
     "start_time": "2021-04-01T21:22:14.186324Z"
    }
   },
   "outputs": [],
   "source": [
    "# .T gera a matriz transposta ou seja, linha vira coluna\n",
    "arr.T"
   ]
  },
  {
   "cell_type": "markdown",
   "metadata": {
    "ExecuteTime": {
     "end_time": "2021-04-01T21:23:21.780759Z",
     "start_time": "2021-04-01T21:23:21.763725Z"
    }
   },
   "source": [
    "#### Solução 4 - Usando concatenate"
   ]
  },
  {
   "cell_type": "code",
   "execution_count": null,
   "metadata": {
    "ExecuteTime": {
     "end_time": "2021-04-01T21:24:36.146177Z",
     "start_time": "2021-04-01T21:24:36.137177Z"
    }
   },
   "outputs": [],
   "source": [
    "np.concatenate((valores.reshape(10,1), np.zeros((10,1))), axis=1)"
   ]
  },
  {
   "cell_type": "markdown",
   "metadata": {},
   "source": [
    "### Máscaras"
   ]
  },
  {
   "cell_type": "code",
   "execution_count": null,
   "metadata": {
    "ExecuteTime": {
     "end_time": "2020-12-03T22:48:22.755355Z",
     "start_time": "2020-12-03T22:48:22.749355Z"
    }
   },
   "outputs": [],
   "source": [
    "aleatorio"
   ]
  },
  {
   "cell_type": "code",
   "execution_count": null,
   "metadata": {
    "ExecuteTime": {
     "end_time": "2020-12-03T22:47:45.079753Z",
     "start_time": "2020-12-03T22:47:45.068752Z"
    }
   },
   "outputs": [],
   "source": [
    "#Mascaras\n",
    "aleatorio > 0.5"
   ]
  },
  {
   "cell_type": "code",
   "execution_count": null,
   "metadata": {
    "ExecuteTime": {
     "end_time": "2020-12-03T22:50:04.770000Z",
     "start_time": "2020-12-03T22:50:04.759490Z"
    }
   },
   "outputs": [],
   "source": [
    "aleatorio[~(aleatorio > 0.5)]"
   ]
  },
  {
   "cell_type": "code",
   "execution_count": null,
   "metadata": {
    "ExecuteTime": {
     "end_time": "2020-12-03T22:50:31.072473Z",
     "start_time": "2020-12-03T22:50:31.067475Z"
    }
   },
   "outputs": [],
   "source": [
    "lista10"
   ]
  },
  {
   "cell_type": "code",
   "execution_count": null,
   "metadata": {
    "ExecuteTime": {
     "end_time": "2020-12-03T22:48:09.872522Z",
     "start_time": "2020-12-03T22:48:09.862995Z"
    }
   },
   "outputs": [],
   "source": [
    "#Numeros pares\n",
    "pares = lista10 % 2 == 0\n",
    "pares"
   ]
  },
  {
   "cell_type": "code",
   "execution_count": null,
   "metadata": {
    "ExecuteTime": {
     "end_time": "2020-12-03T22:50:40.505938Z",
     "start_time": "2020-12-03T22:50:40.491912Z"
    }
   },
   "outputs": [],
   "source": [
    "#Aplicando a mascara a mastriz\n",
    "lista10[pares]"
   ]
  },
  {
   "cell_type": "code",
   "execution_count": null,
   "metadata": {
    "ExecuteTime": {
     "end_time": "2020-12-03T22:50:44.526312Z",
     "start_time": "2020-12-03T22:50:44.510264Z"
    }
   },
   "outputs": [],
   "source": [
    "#Aplicando a mascara maior que 2\n",
    "lista10[lista10>2]"
   ]
  },
  {
   "cell_type": "markdown",
   "metadata": {},
   "source": [
    "## Pandas"
   ]
  },
  {
   "cell_type": "markdown",
   "metadata": {},
   "source": [
    "### Series"
   ]
  },
  {
   "cell_type": "markdown",
   "metadata": {},
   "source": [
    "`Series` representam as colunas das tabelas, guardando seu conteúdo com numpy arrays, porem neste caso cada array tem um index, que permite acessar o conteúdo das series como um similar a um dicionário python. além disso essa classe conta com alguns métodos mais avançados que o numpy array."
   ]
  },
  {
   "cell_type": "code",
   "execution_count": null,
   "metadata": {
    "ExecuteTime": {
     "end_time": "2021-04-01T16:24:15.187157Z",
     "start_time": "2021-04-01T16:24:14.560680Z"
    }
   },
   "outputs": [],
   "source": [
    "import pandas as pd"
   ]
  },
  {
   "cell_type": "code",
   "execution_count": null,
   "metadata": {
    "ExecuteTime": {
     "end_time": "2020-12-03T22:51:49.104642Z",
     "start_time": "2020-12-03T22:51:49.095643Z"
    }
   },
   "outputs": [],
   "source": [
    "#utilizando um lista simples\n",
    "minha_lista = [10,20,30]\n",
    "serie = pd.Series(minha_lista)\n",
    "serie"
   ]
  },
  {
   "cell_type": "code",
   "execution_count": null,
   "metadata": {
    "ExecuteTime": {
     "end_time": "2020-12-03T22:52:16.752281Z",
     "start_time": "2020-12-03T22:52:16.744285Z"
    }
   },
   "outputs": [],
   "source": [
    "serie.loc[2]"
   ]
  },
  {
   "cell_type": "code",
   "execution_count": null,
   "metadata": {
    "ExecuteTime": {
     "end_time": "2020-12-03T22:52:57.084813Z",
     "start_time": "2020-12-03T22:52:57.077814Z"
    }
   },
   "outputs": [],
   "source": [
    "arr = np.array(minha_lista)"
   ]
  },
  {
   "cell_type": "code",
   "execution_count": null,
   "metadata": {
    "ExecuteTime": {
     "end_time": "2020-12-03T22:52:20.282556Z",
     "start_time": "2020-12-03T22:52:20.262921Z"
    }
   },
   "outputs": [],
   "source": [
    "arr[1]"
   ]
  },
  {
   "cell_type": "code",
   "execution_count": null,
   "metadata": {
    "ExecuteTime": {
     "end_time": "2020-12-03T22:52:22.209883Z",
     "start_time": "2020-12-03T22:52:22.189271Z"
    }
   },
   "outputs": [],
   "source": [
    "#Acessando dados como um lista\n",
    "serie[1]"
   ]
  },
  {
   "cell_type": "code",
   "execution_count": null,
   "metadata": {
    "ExecuteTime": {
     "end_time": "2020-12-03T22:52:24.195025Z",
     "start_time": "2020-12-03T22:52:24.180470Z"
    }
   },
   "outputs": [],
   "source": [
    "#indexação\n",
    "serie[:2]"
   ]
  },
  {
   "cell_type": "code",
   "execution_count": null,
   "metadata": {
    "ExecuteTime": {
     "end_time": "2020-12-03T22:53:12.923407Z",
     "start_time": "2020-12-03T22:53:12.901353Z"
    }
   },
   "outputs": [],
   "source": [
    "#Series com index\n",
    "labels = ['a','b','c','e']\n",
    "lista4 = [10,20,30,40]\n",
    "serieLabel = pd.Series(data=lista4,index=labels)\n",
    "serieLabel"
   ]
  },
  {
   "cell_type": "code",
   "execution_count": null,
   "metadata": {
    "ExecuteTime": {
     "end_time": "2020-12-03T22:54:26.021824Z",
     "start_time": "2020-12-03T22:54:26.004535Z"
    }
   },
   "outputs": [],
   "source": [
    "#acessando index 'a' da serie\n",
    "serieLabel['a']"
   ]
  },
  {
   "cell_type": "code",
   "execution_count": null,
   "metadata": {
    "ExecuteTime": {
     "end_time": "2020-12-03T22:54:28.105637Z",
     "start_time": "2020-12-03T22:54:28.080119Z"
    }
   },
   "outputs": [],
   "source": [
    "#acessando index 'a' e 'b' da serie\n",
    "serieLabel['a':'b']"
   ]
  },
  {
   "cell_type": "code",
   "execution_count": null,
   "metadata": {
    "ExecuteTime": {
     "end_time": "2020-12-03T22:54:34.926364Z",
     "start_time": "2020-12-03T22:54:34.906977Z"
    }
   },
   "outputs": [],
   "source": [
    "#Series com dicionarios\n",
    "dicionario = {'a':10,'b':20,'c':30}\n",
    "pd.Series(dicionario)"
   ]
  },
  {
   "cell_type": "code",
   "execution_count": null,
   "metadata": {
    "ExecuteTime": {
     "end_time": "2020-12-03T22:55:14.614254Z",
     "start_time": "2020-12-03T22:55:14.561698Z"
    }
   },
   "outputs": [],
   "source": [
    "#operações com series\n",
    "dic1 = {\"Brasil\":10,\"EUA\":10,\"Japão\":10}\n",
    "serie1 = pd.Series(dic1)\n",
    "dic2 = {\"Brasil\":10,\"Bolivia\":10,\"Japão\":10}\n",
    "serie2 = pd.Series(dic2)\n",
    "serie1 + serie2"
   ]
  },
  {
   "cell_type": "code",
   "execution_count": null,
   "metadata": {
    "ExecuteTime": {
     "end_time": "2020-12-03T22:56:15.097361Z",
     "start_time": "2020-12-03T22:56:15.091361Z"
    }
   },
   "outputs": [],
   "source": [
    "#unique\n",
    "serie1 = pd.Series(['a','b','c','a','d','e','c','a','e','d'])\n",
    "serie1.unique()"
   ]
  },
  {
   "cell_type": "code",
   "execution_count": null,
   "metadata": {
    "ExecuteTime": {
     "end_time": "2020-12-03T22:56:48.206244Z",
     "start_time": "2020-12-03T22:56:48.197263Z"
    },
    "scrolled": true
   },
   "outputs": [],
   "source": [
    "#Contando valores\n",
    "serie1.value_counts().sort_index()/len(serie1)"
   ]
  },
  {
   "cell_type": "code",
   "execution_count": null,
   "metadata": {
    "ExecuteTime": {
     "end_time": "2020-12-02T22:58:55.216843Z",
     "start_time": "2020-12-02T22:58:55.210844Z"
    }
   },
   "outputs": [],
   "source": [
    "#isin - Para filtar valores\n",
    "mask = serie1.isin(['b', 'c'])\n",
    "mask\n",
    "\n",
    "serie1[mask]"
   ]
  },
  {
   "cell_type": "markdown",
   "metadata": {},
   "source": [
    "### Dataframe"
   ]
  },
  {
   "cell_type": "markdown",
   "metadata": {},
   "source": [
    "E por ultimo temos a estrutura DataFrame, esta será nossa tabela, representada por um dicionário de series com o mesmo index."
   ]
  },
  {
   "cell_type": "code",
   "execution_count": null,
   "metadata": {
    "ExecuteTime": {
     "end_time": "2020-12-03T22:57:47.367797Z",
     "start_time": "2020-12-03T22:57:47.354378Z"
    }
   },
   "outputs": [],
   "source": [
    "np.random.seed(42) #Para o rand ficar igual\n",
    "\n",
    "lista = np.random.randn(5,3)\n",
    "lista"
   ]
  },
  {
   "cell_type": "code",
   "execution_count": null,
   "metadata": {
    "ExecuteTime": {
     "end_time": "2020-12-03T22:58:37.978777Z",
     "start_time": "2020-12-03T22:58:37.960776Z"
    }
   },
   "outputs": [],
   "source": [
    "pd.DataFrame(lista)"
   ]
  },
  {
   "cell_type": "code",
   "execution_count": null,
   "metadata": {
    "ExecuteTime": {
     "end_time": "2020-12-03T22:58:58.059653Z",
     "start_time": "2020-12-03T22:58:58.043146Z"
    }
   },
   "outputs": [],
   "source": [
    "index = ['a','b','c','d','e']\n",
    "colunas = ['x','y','z']\n",
    "dataFrame = pd.DataFrame(data = lista,index=index,columns=colunas)\n",
    "dataFrame"
   ]
  },
  {
   "cell_type": "code",
   "execution_count": null,
   "metadata": {
    "ExecuteTime": {
     "end_time": "2020-12-03T22:59:09.825461Z",
     "start_time": "2020-12-03T22:59:09.801853Z"
    }
   },
   "outputs": [],
   "source": [
    "# acessando coluna 'x', retornando uma serie\n",
    "dataFrame['x']"
   ]
  },
  {
   "cell_type": "code",
   "execution_count": null,
   "metadata": {
    "ExecuteTime": {
     "end_time": "2020-12-03T22:59:19.077704Z",
     "start_time": "2020-12-03T22:59:19.063704Z"
    }
   },
   "outputs": [],
   "source": [
    "# acessando colunas 'x' e 'y', retornando um dataframe\n",
    "dataFrame[['x','y']]"
   ]
  },
  {
   "cell_type": "code",
   "execution_count": null,
   "metadata": {
    "ExecuteTime": {
     "end_time": "2020-12-03T22:59:31.905347Z",
     "start_time": "2020-12-03T22:59:31.889037Z"
    }
   },
   "outputs": [],
   "source": [
    "#pegando ponto\n",
    "dataFrame['x']['a']"
   ]
  },
  {
   "cell_type": "code",
   "execution_count": null,
   "metadata": {
    "ExecuteTime": {
     "end_time": "2020-12-03T23:00:07.337431Z",
     "start_time": "2020-12-03T23:00:07.326431Z"
    }
   },
   "outputs": [],
   "source": [
    "#Pegando linha\n",
    "dataFrame.loc['a']"
   ]
  },
  {
   "cell_type": "code",
   "execution_count": null,
   "metadata": {
    "ExecuteTime": {
     "end_time": "2020-12-03T23:00:18.996089Z",
     "start_time": "2020-12-03T23:00:18.981089Z"
    }
   },
   "outputs": [],
   "source": [
    "#Pegando linha por numero\n",
    "dataFrame.iloc[0]"
   ]
  },
  {
   "cell_type": "code",
   "execution_count": null,
   "metadata": {
    "ExecuteTime": {
     "end_time": "2020-12-03T23:00:35.598518Z",
     "start_time": "2020-12-03T23:00:35.582928Z"
    }
   },
   "outputs": [],
   "source": [
    "#pegando linha e colunuma\n",
    "dataFrame.loc['a','x']"
   ]
  },
  {
   "cell_type": "code",
   "execution_count": null,
   "metadata": {
    "ExecuteTime": {
     "end_time": "2020-12-03T23:00:53.339466Z",
     "start_time": "2020-12-03T23:00:53.330640Z"
    }
   },
   "outputs": [],
   "source": [
    "dataFrame.loc[['a','c'],['x','y']]"
   ]
  },
  {
   "cell_type": "code",
   "execution_count": null,
   "metadata": {
    "ExecuteTime": {
     "end_time": "2020-12-03T23:01:14.981113Z",
     "start_time": "2020-12-03T23:01:14.970108Z"
    }
   },
   "outputs": [],
   "source": [
    "#nova coluna \n",
    "dataFrame['novo'] = dataFrame['x'] + dataFrame['y']\n",
    "dataFrame"
   ]
  },
  {
   "cell_type": "code",
   "execution_count": null,
   "metadata": {
    "ExecuteTime": {
     "end_time": "2020-12-03T23:01:27.886128Z",
     "start_time": "2020-12-03T23:01:27.873615Z"
    }
   },
   "outputs": [],
   "source": [
    "#remove mas não salva\n",
    "dataFrame.drop('novo',axis=1)"
   ]
  },
  {
   "cell_type": "code",
   "execution_count": null,
   "metadata": {
    "ExecuteTime": {
     "end_time": "2020-12-03T23:01:32.077577Z",
     "start_time": "2020-12-03T23:01:32.065586Z"
    }
   },
   "outputs": [],
   "source": [
    "dataFrame"
   ]
  },
  {
   "cell_type": "code",
   "execution_count": null,
   "metadata": {
    "ExecuteTime": {
     "end_time": "2020-12-03T23:01:39.900088Z",
     "start_time": "2020-12-03T23:01:39.881901Z"
    }
   },
   "outputs": [],
   "source": [
    "#remove e salva\n",
    "dataFrame.drop('novo',axis=1,inplace=True)\n",
    "dataFrame"
   ]
  },
  {
   "cell_type": "code",
   "execution_count": null,
   "metadata": {
    "ExecuteTime": {
     "end_time": "2020-12-03T23:02:20.971937Z",
     "start_time": "2020-12-03T23:02:20.952341Z"
    }
   },
   "outputs": [],
   "source": [
    "#retirando colunas\n",
    "dataFrame.drop('e')"
   ]
  },
  {
   "cell_type": "code",
   "execution_count": null,
   "metadata": {
    "ExecuteTime": {
     "end_time": "2020-12-03T23:02:35.038221Z",
     "start_time": "2020-12-03T23:02:35.026259Z"
    }
   },
   "outputs": [],
   "source": [
    "#Seleções através de condições\n",
    "dataFrame>0"
   ]
  },
  {
   "cell_type": "code",
   "execution_count": null,
   "metadata": {
    "ExecuteTime": {
     "end_time": "2020-12-03T23:02:40.355285Z",
     "start_time": "2020-12-03T23:02:40.338277Z"
    }
   },
   "outputs": [],
   "source": [
    "#utilizando condição como mascara para um novo dataFrame\n",
    "dataFrame[dataFrame>0]"
   ]
  },
  {
   "cell_type": "code",
   "execution_count": null,
   "metadata": {
    "ExecuteTime": {
     "end_time": "2020-12-03T23:02:43.283173Z",
     "start_time": "2020-12-03T23:02:43.265652Z"
    }
   },
   "outputs": [],
   "source": [
    "#porem não salva\n",
    "dataFrame"
   ]
  },
  {
   "cell_type": "code",
   "execution_count": null,
   "metadata": {
    "ExecuteTime": {
     "end_time": "2020-12-03T23:02:57.420927Z",
     "start_time": "2020-12-03T23:02:57.404421Z"
    }
   },
   "outputs": [],
   "source": [
    "#retira a linha do y que tem um item menor que 0\n",
    "dataFrame[dataFrame['y']>0]"
   ]
  },
  {
   "cell_type": "code",
   "execution_count": null,
   "metadata": {
    "ExecuteTime": {
     "end_time": "2020-12-03T23:03:02.818165Z",
     "start_time": "2020-12-03T23:03:02.806216Z"
    }
   },
   "outputs": [],
   "source": [
    "#Mesma operação de cima porem so retorna o linha z\n",
    "dataFrame[dataFrame['y']<0]['z']"
   ]
  },
  {
   "cell_type": "code",
   "execution_count": null,
   "metadata": {
    "ExecuteTime": {
     "end_time": "2020-12-03T23:03:11.745441Z",
     "start_time": "2020-12-03T23:03:11.724924Z"
    }
   },
   "outputs": [],
   "source": [
    "dataFrame"
   ]
  },
  {
   "cell_type": "code",
   "execution_count": null,
   "metadata": {
    "ExecuteTime": {
     "end_time": "2020-12-02T22:59:00.559576Z",
     "start_time": "2020-12-02T22:59:00.548579Z"
    }
   },
   "outputs": [],
   "source": [
    "#resetando index\n",
    "dataFrame.reset_index()"
   ]
  },
  {
   "cell_type": "code",
   "execution_count": null,
   "metadata": {
    "ExecuteTime": {
     "end_time": "2020-12-02T22:59:00.783188Z",
     "start_time": "2020-12-02T22:59:00.775186Z"
    }
   },
   "outputs": [],
   "source": [
    "#resetando index sem manter o index antigo\n",
    "dataFrame.reset_index(drop=True)"
   ]
  },
  {
   "cell_type": "code",
   "execution_count": null,
   "metadata": {
    "ExecuteTime": {
     "end_time": "2020-12-03T23:04:04.347503Z",
     "start_time": "2020-12-03T23:04:04.336504Z"
    }
   },
   "outputs": [],
   "source": [
    "dataFrame['nomes'] = ['SP','RJ','BH','SSA','NV']"
   ]
  },
  {
   "cell_type": "code",
   "execution_count": null,
   "metadata": {
    "ExecuteTime": {
     "end_time": "2020-12-03T23:04:30.691466Z",
     "start_time": "2020-12-03T23:04:30.670958Z"
    }
   },
   "outputs": [],
   "source": [
    "dataFrame"
   ]
  },
  {
   "cell_type": "code",
   "execution_count": null,
   "metadata": {
    "ExecuteTime": {
     "end_time": "2020-12-03T23:04:50.936881Z",
     "start_time": "2020-12-03T23:04:50.926833Z"
    }
   },
   "outputs": [],
   "source": [
    "#reordenando as colunas\n",
    "\n",
    "dataFrame = dataFrame[['x', 'nomes', 'y', 'z']]\n",
    "dataFrame"
   ]
  },
  {
   "cell_type": "code",
   "execution_count": null,
   "metadata": {
    "ExecuteTime": {
     "end_time": "2020-12-03T23:05:20.479370Z",
     "start_time": "2020-12-03T23:05:20.461366Z"
    }
   },
   "outputs": [],
   "source": [
    "#Alterando o nome das colunas\n",
    "dataFrame.columns = ['x', 'estados', 'y', 'z']\n",
    "dataFrame"
   ]
  },
  {
   "cell_type": "code",
   "execution_count": null,
   "metadata": {
    "ExecuteTime": {
     "end_time": "2020-12-03T23:05:32.757736Z",
     "start_time": "2020-12-03T23:05:32.729212Z"
    }
   },
   "outputs": [],
   "source": [
    "#criando novo index\n",
    "dataFrame.set_index('estados',inplace=True)\n",
    "\n",
    "dataFrame"
   ]
  },
  {
   "cell_type": "code",
   "execution_count": null,
   "metadata": {
    "ExecuteTime": {
     "end_time": "2020-12-03T23:07:04.322334Z",
     "start_time": "2020-12-03T23:07:04.306709Z"
    }
   },
   "outputs": [],
   "source": [
    "dataFrame.loc['SP']"
   ]
  },
  {
   "cell_type": "markdown",
   "metadata": {},
   "source": [
    "**indices multiplos**"
   ]
  },
  {
   "cell_type": "code",
   "execution_count": null,
   "metadata": {
    "ExecuteTime": {
     "end_time": "2020-12-03T23:12:20.860760Z",
     "start_time": "2020-12-03T23:12:20.843410Z"
    }
   },
   "outputs": [],
   "source": [
    "outside = ['G1','G1','G1','G2','G2','G2']\n",
    "inside = [1,2,3,1,2,3]\n",
    "hier_index = list(zip(outside,inside))\n",
    "hier_index"
   ]
  },
  {
   "cell_type": "code",
   "execution_count": null,
   "metadata": {
    "ExecuteTime": {
     "end_time": "2020-12-03T23:12:58.394944Z",
     "start_time": "2020-12-03T23:12:58.381942Z"
    }
   },
   "outputs": [],
   "source": [
    "hier_index = pd.MultiIndex.from_tuples(hier_index)\n",
    "\n",
    "hier_index"
   ]
  },
  {
   "cell_type": "code",
   "execution_count": null,
   "metadata": {
    "ExecuteTime": {
     "end_time": "2020-12-03T23:08:31.988755Z",
     "start_time": "2020-12-03T23:08:31.982205Z"
    }
   },
   "outputs": [],
   "source": [
    "matriz = np.random.randn(6,2)\n",
    "matriz"
   ]
  },
  {
   "cell_type": "code",
   "execution_count": null,
   "metadata": {
    "ExecuteTime": {
     "end_time": "2020-12-03T23:08:56.979137Z",
     "start_time": "2020-12-03T23:08:56.964139Z"
    }
   },
   "outputs": [],
   "source": [
    "df = pd.DataFrame(matriz,index=hier_index,columns=['A','B'])\n",
    "\n",
    "df"
   ]
  },
  {
   "cell_type": "code",
   "execution_count": null,
   "metadata": {
    "ExecuteTime": {
     "end_time": "2020-12-03T23:10:02.137182Z",
     "start_time": "2020-12-03T23:10:02.115668Z"
    }
   },
   "outputs": [],
   "source": [
    "df.loc['G1', 1]"
   ]
  },
  {
   "cell_type": "code",
   "execution_count": null,
   "metadata": {
    "ExecuteTime": {
     "end_time": "2020-12-03T23:20:23.360439Z",
     "start_time": "2020-12-03T23:20:23.342437Z"
    }
   },
   "outputs": [],
   "source": [
    "df.xs('G1')"
   ]
  },
  {
   "cell_type": "markdown",
   "metadata": {},
   "source": [
    "#### Concats e merges"
   ]
  },
  {
   "cell_type": "code",
   "execution_count": null,
   "metadata": {
    "ExecuteTime": {
     "end_time": "2020-12-03T23:21:02.314883Z",
     "start_time": "2020-12-03T23:21:02.298846Z"
    }
   },
   "outputs": [],
   "source": [
    "df1 = pd.DataFrame({'A':[1,2,3],'B':[4,5,6],'C':[7,8,9]},index=['w','x','y'])\n",
    "df2 = pd.DataFrame({'B':[1,2,3],'C':[4,5,6],'D':[7,8,9]},index=['x','y','z'])"
   ]
  },
  {
   "cell_type": "code",
   "execution_count": null,
   "metadata": {
    "ExecuteTime": {
     "end_time": "2020-12-03T23:21:03.679385Z",
     "start_time": "2020-12-03T23:21:03.665883Z"
    }
   },
   "outputs": [],
   "source": [
    "df1"
   ]
  },
  {
   "cell_type": "code",
   "execution_count": null,
   "metadata": {
    "ExecuteTime": {
     "end_time": "2020-12-03T23:21:05.714058Z",
     "start_time": "2020-12-03T23:21:05.706530Z"
    }
   },
   "outputs": [],
   "source": [
    "df2"
   ]
  },
  {
   "cell_type": "code",
   "execution_count": null,
   "metadata": {
    "ExecuteTime": {
     "end_time": "2020-12-03T23:21:44.830019Z",
     "start_time": "2020-12-03T23:21:44.804538Z"
    }
   },
   "outputs": [],
   "source": [
    "pd.concat([df1,df2])"
   ]
  },
  {
   "cell_type": "code",
   "execution_count": null,
   "metadata": {
    "ExecuteTime": {
     "end_time": "2020-12-03T23:31:35.080262Z",
     "start_time": "2020-12-03T23:31:35.062935Z"
    },
    "scrolled": true
   },
   "outputs": [],
   "source": [
    "pd.concat([df1,df2],join='inner')"
   ]
  },
  {
   "cell_type": "code",
   "execution_count": null,
   "metadata": {
    "ExecuteTime": {
     "end_time": "2020-12-03T23:32:53.240450Z",
     "start_time": "2020-12-03T23:32:53.223923Z"
    }
   },
   "outputs": [],
   "source": [
    "pd.concat([df1,df2],axis=1)"
   ]
  },
  {
   "cell_type": "code",
   "execution_count": null,
   "metadata": {
    "ExecuteTime": {
     "end_time": "2020-12-03T23:33:05.416151Z",
     "start_time": "2020-12-03T23:33:05.403152Z"
    }
   },
   "outputs": [],
   "source": [
    "pd.concat([df1, df2], axis=1, join='inner')"
   ]
  },
  {
   "cell_type": "code",
   "execution_count": null,
   "metadata": {
    "ExecuteTime": {
     "end_time": "2020-12-03T23:35:43.195953Z",
     "start_time": "2020-12-03T23:35:43.179953Z"
    }
   },
   "outputs": [],
   "source": [
    "df3 = pd.DataFrame({'Paises':['Br','Pt','Bo'],'valor1':[1,2,3],\"Valor2\":[3,4,5]})\n",
    "df4 = pd.DataFrame({'Paises':['Br','Pt','Bo'],'valor1':[1,2,3],\"Valor4\":[3,4,5]})\n",
    "\n",
    "df3 "
   ]
  },
  {
   "cell_type": "code",
   "execution_count": null,
   "metadata": {
    "ExecuteTime": {
     "end_time": "2020-12-03T23:35:45.569863Z",
     "start_time": "2020-12-03T23:35:45.553763Z"
    }
   },
   "outputs": [],
   "source": [
    "df4"
   ]
  },
  {
   "cell_type": "code",
   "execution_count": null,
   "metadata": {
    "ExecuteTime": {
     "end_time": "2020-12-03T23:37:10.202137Z",
     "start_time": "2020-12-03T23:37:10.178114Z"
    }
   },
   "outputs": [],
   "source": [
    "pd.merge(df3, df4, on='Paises')"
   ]
  },
  {
   "cell_type": "markdown",
   "metadata": {},
   "source": [
    "#### Importando dados"
   ]
  },
  {
   "cell_type": "code",
   "execution_count": null,
   "metadata": {
    "ExecuteTime": {
     "end_time": "2021-04-01T16:24:24.616126Z",
     "start_time": "2021-04-01T16:24:24.589588Z"
    }
   },
   "outputs": [],
   "source": [
    "filename = '../datasets/imoveis_Rio_de_Janeiro.csv'\n",
    "df_imoveis_rj = pd.read_csv(filename, sep=';', nrows=0)\n",
    "df_imoveis_rj.columns"
   ]
  },
  {
   "cell_type": "code",
   "execution_count": null,
   "metadata": {
    "ExecuteTime": {
     "end_time": "2021-04-01T16:24:27.212294Z",
     "start_time": "2021-04-01T16:24:27.173292Z"
    }
   },
   "outputs": [],
   "source": [
    "df_imoveis_rj = pd.read_csv(filename, sep=';', nrows=10)\n",
    "df_imoveis_rj.head()"
   ]
  },
  {
   "cell_type": "code",
   "execution_count": null,
   "metadata": {
    "ExecuteTime": {
     "end_time": "2021-04-01T16:24:30.518710Z",
     "start_time": "2021-04-01T16:24:30.498673Z"
    }
   },
   "outputs": [],
   "source": [
    "df_imoveis_rj = pd.read_csv(filename, sep=';', usecols=['condominio', 'quartos', 'suites', 'vagas', 'area', 'bairro'])\n",
    "df_imoveis_rj.head()"
   ]
  },
  {
   "cell_type": "code",
   "execution_count": null,
   "metadata": {
    "ExecuteTime": {
     "end_time": "2021-04-01T16:24:31.996963Z",
     "start_time": "2021-04-01T16:24:31.971935Z"
    }
   },
   "outputs": [],
   "source": [
    "df_imoveis_rj = pd.read_csv(filename, sep=';')\n",
    "df_imoveis_rj.head()"
   ]
  },
  {
   "cell_type": "markdown",
   "metadata": {},
   "source": [
    "#### Nan Values"
   ]
  },
  {
   "cell_type": "code",
   "execution_count": null,
   "metadata": {
    "ExecuteTime": {
     "end_time": "2021-04-01T16:24:35.710530Z",
     "start_time": "2021-04-01T16:24:35.686457Z"
    }
   },
   "outputs": [],
   "source": [
    "#Drop nan\n",
    "df = pd.DataFrame({'col1':[1,2,3,np.nan],\n",
    "                   'col2':[np.nan,555,666,444],\n",
    "                   'col3':['abc','def','ghi','xyz']})\n",
    "df.head()"
   ]
  },
  {
   "cell_type": "code",
   "execution_count": null,
   "metadata": {
    "ExecuteTime": {
     "end_time": "2021-04-01T16:24:37.552925Z",
     "start_time": "2021-04-01T16:24:37.526405Z"
    }
   },
   "outputs": [],
   "source": [
    "df.dropna(subset=['col2'])"
   ]
  },
  {
   "cell_type": "code",
   "execution_count": null,
   "metadata": {
    "ExecuteTime": {
     "end_time": "2021-04-01T16:24:38.523243Z",
     "start_time": "2021-04-01T16:24:38.509704Z"
    }
   },
   "outputs": [],
   "source": [
    "df"
   ]
  },
  {
   "cell_type": "code",
   "execution_count": null,
   "metadata": {
    "ExecuteTime": {
     "end_time": "2021-04-01T16:24:40.275314Z",
     "start_time": "2021-04-01T16:24:40.248808Z"
    }
   },
   "outputs": [],
   "source": [
    "df['col1'] = df['col1'].fillna(0)\n",
    "df"
   ]
  },
  {
   "cell_type": "code",
   "execution_count": null,
   "metadata": {
    "ExecuteTime": {
     "end_time": "2021-04-01T16:24:41.201625Z",
     "start_time": "2021-04-01T16:24:41.185100Z"
    }
   },
   "outputs": [],
   "source": [
    "np.mean(df['col2'])"
   ]
  },
  {
   "cell_type": "code",
   "execution_count": null,
   "metadata": {
    "ExecuteTime": {
     "end_time": "2021-04-01T16:24:42.063313Z",
     "start_time": "2021-04-01T16:24:42.048314Z"
    }
   },
   "outputs": [],
   "source": [
    "df['col2'] = df['col2'].fillna(df['col2'].mean())\n",
    "df"
   ]
  }
 ],
 "metadata": {
  "hide_input": false,
  "kernelspec": {
   "display_name": "Python 3",
   "language": "python",
   "name": "python3"
  },
  "language_info": {
   "codemirror_mode": {
    "name": "ipython",
    "version": 3
   },
   "file_extension": ".py",
   "mimetype": "text/x-python",
   "name": "python",
   "nbconvert_exporter": "python",
   "pygments_lexer": "ipython3",
   "version": "3.8.3"
  },
  "toc": {
   "base_numbering": 1,
   "nav_menu": {},
   "number_sections": true,
   "sideBar": true,
   "skip_h1_title": false,
   "title_cell": "Table of Contents",
   "title_sidebar": "Contents",
   "toc_cell": false,
   "toc_position": {
    "height": "calc(100% - 180px)",
    "left": "10px",
    "top": "150px",
    "width": "361.333px"
   },
   "toc_section_display": true,
   "toc_window_display": true
  }
 },
 "nbformat": 4,
 "nbformat_minor": 2
}
