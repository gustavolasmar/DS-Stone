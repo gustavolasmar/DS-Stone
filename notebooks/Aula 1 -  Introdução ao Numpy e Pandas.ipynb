{
 "cells": [
  {
   "cell_type": "markdown",
   "metadata": {},
   "source": [
    "# Aula 1: Introdução ao Numpy e Pandas"
   ]
  },
  {
   "cell_type": "markdown",
   "metadata": {
    "hide_input": false
   },
   "source": [
    "## Listas"
   ]
  },
  {
   "cell_type": "code",
   "execution_count": 1,
   "metadata": {
    "ExecuteTime": {
     "end_time": "2021-04-01T22:54:09.577145Z",
     "start_time": "2021-04-01T22:54:09.560141Z"
    }
   },
   "outputs": [
    {
     "data": {
      "text/plain": [
       "[1, 2, 3, 4, 5]"
      ]
     },
     "execution_count": 1,
     "metadata": {},
     "output_type": "execute_result"
    }
   ],
   "source": [
    "lista = [1, 2, 3, 4, 5]\n",
    "lista"
   ]
  },
  {
   "cell_type": "code",
   "execution_count": 2,
   "metadata": {
    "ExecuteTime": {
     "end_time": "2021-04-01T22:54:36.641576Z",
     "start_time": "2021-04-01T22:54:36.635320Z"
    }
   },
   "outputs": [
    {
     "data": {
      "text/plain": [
       "[1, 2, 3, 4, 5]"
      ]
     },
     "execution_count": 2,
     "metadata": {},
     "output_type": "execute_result"
    }
   ],
   "source": [
    "list(range(1,6))"
   ]
  },
  {
   "cell_type": "code",
   "execution_count": 3,
   "metadata": {
    "ExecuteTime": {
     "end_time": "2021-04-01T22:54:41.376242Z",
     "start_time": "2021-04-01T22:54:41.371239Z"
    }
   },
   "outputs": [
    {
     "data": {
      "text/plain": [
       "[1, 2, 3, 4, 5, 6]"
      ]
     },
     "execution_count": 3,
     "metadata": {},
     "output_type": "execute_result"
    }
   ],
   "source": [
    "lista.append(6)\n",
    "lista"
   ]
  },
  {
   "cell_type": "code",
   "execution_count": 4,
   "metadata": {
    "ExecuteTime": {
     "end_time": "2021-04-01T22:54:58.329363Z",
     "start_time": "2021-04-01T22:54:58.318757Z"
    }
   },
   "outputs": [],
   "source": [
    "del lista[0]"
   ]
  },
  {
   "cell_type": "code",
   "execution_count": 5,
   "metadata": {
    "ExecuteTime": {
     "end_time": "2021-04-01T22:55:05.222167Z",
     "start_time": "2021-04-01T22:55:05.215162Z"
    }
   },
   "outputs": [
    {
     "data": {
      "text/plain": [
       "[2, 3, 4, 5, 6]"
      ]
     },
     "execution_count": 5,
     "metadata": {},
     "output_type": "execute_result"
    }
   ],
   "source": [
    "lista"
   ]
  },
  {
   "cell_type": "code",
   "execution_count": 6,
   "metadata": {
    "ExecuteTime": {
     "end_time": "2021-04-01T22:55:38.420353Z",
     "start_time": "2021-04-01T22:55:38.413355Z"
    }
   },
   "outputs": [
    {
     "data": {
      "text/plain": [
       "4"
      ]
     },
     "execution_count": 6,
     "metadata": {},
     "output_type": "execute_result"
    }
   ],
   "source": [
    "lista.index(6)"
   ]
  },
  {
   "cell_type": "code",
   "execution_count": 7,
   "metadata": {
    "ExecuteTime": {
     "end_time": "2021-04-01T22:55:57.673338Z",
     "start_time": "2021-04-01T22:55:57.669338Z"
    }
   },
   "outputs": [],
   "source": [
    "del lista[lista.index(6)]"
   ]
  },
  {
   "cell_type": "code",
   "execution_count": 8,
   "metadata": {
    "ExecuteTime": {
     "end_time": "2021-04-01T22:56:02.780632Z",
     "start_time": "2021-04-01T22:56:02.773635Z"
    }
   },
   "outputs": [
    {
     "data": {
      "text/plain": [
       "[2, 3, 4, 5]"
      ]
     },
     "execution_count": 8,
     "metadata": {},
     "output_type": "execute_result"
    }
   ],
   "source": [
    "lista"
   ]
  },
  {
   "cell_type": "code",
   "execution_count": 12,
   "metadata": {
    "ExecuteTime": {
     "end_time": "2021-04-01T22:56:37.652471Z",
     "start_time": "2021-04-01T22:56:37.645465Z"
    }
   },
   "outputs": [
    {
     "data": {
      "text/plain": [
       "False"
      ]
     },
     "execution_count": 12,
     "metadata": {},
     "output_type": "execute_result"
    }
   ],
   "source": [
    "4 in lista"
   ]
  },
  {
   "cell_type": "code",
   "execution_count": 11,
   "metadata": {
    "ExecuteTime": {
     "end_time": "2021-04-01T22:56:34.287658Z",
     "start_time": "2021-04-01T22:56:34.283525Z"
    }
   },
   "outputs": [],
   "source": [
    "lista.remove(4)"
   ]
  },
  {
   "cell_type": "code",
   "execution_count": 13,
   "metadata": {
    "ExecuteTime": {
     "end_time": "2021-04-01T22:56:44.404354Z",
     "start_time": "2021-04-01T22:56:44.396817Z"
    }
   },
   "outputs": [
    {
     "data": {
      "text/plain": [
       "list"
      ]
     },
     "execution_count": 13,
     "metadata": {},
     "output_type": "execute_result"
    }
   ],
   "source": [
    "type(lista)"
   ]
  },
  {
   "cell_type": "code",
   "execution_count": 36,
   "metadata": {
    "ExecuteTime": {
     "end_time": "2021-04-01T23:06:16.439212Z",
     "start_time": "2021-04-01T23:06:16.431196Z"
    }
   },
   "outputs": [
    {
     "data": {
      "text/plain": [
       "[1, 1, 1, 2, 3, 4, 5, 1, 2, 1]"
      ]
     },
     "execution_count": 36,
     "metadata": {},
     "output_type": "execute_result"
    }
   ],
   "source": [
    "lista = [1, 1, 1, 2, 3, 4, 5, 1, 2, 1]\n",
    "\n",
    "lista"
   ]
  },
  {
   "cell_type": "code",
   "execution_count": 35,
   "metadata": {
    "ExecuteTime": {
     "end_time": "2021-04-01T23:06:12.424089Z",
     "start_time": "2021-04-01T23:06:12.415572Z"
    }
   },
   "outputs": [
    {
     "ename": "ValueError",
     "evalue": "list.remove(x): x not in list",
     "output_type": "error",
     "traceback": [
      "\u001b[1;31m---------------------------------------------------------------------------\u001b[0m",
      "\u001b[1;31mValueError\u001b[0m                                Traceback (most recent call last)",
      "\u001b[1;32m<ipython-input-35-29f585fdd59f>\u001b[0m in \u001b[0;36m<module>\u001b[1;34m\u001b[0m\n\u001b[1;32m----> 1\u001b[1;33m \u001b[0mlista\u001b[0m\u001b[1;33m.\u001b[0m\u001b[0mremove\u001b[0m\u001b[1;33m(\u001b[0m\u001b[1;36m1\u001b[0m\u001b[1;33m)\u001b[0m\u001b[1;33m\u001b[0m\u001b[1;33m\u001b[0m\u001b[0m\n\u001b[0m",
      "\u001b[1;31mValueError\u001b[0m: list.remove(x): x not in list"
     ]
    }
   ],
   "source": [
    "lista.remove(1)"
   ]
  },
  {
   "cell_type": "code",
   "execution_count": 16,
   "metadata": {
    "ExecuteTime": {
     "end_time": "2021-04-01T22:57:20.530285Z",
     "start_time": "2021-04-01T22:57:20.523281Z"
    }
   },
   "outputs": [
    {
     "data": {
      "text/plain": [
       "[1, 1, 2, 3, 4, 5, 1, 2, 1]"
      ]
     },
     "execution_count": 16,
     "metadata": {},
     "output_type": "execute_result"
    }
   ],
   "source": [
    "lista"
   ]
  },
  {
   "cell_type": "code",
   "execution_count": 18,
   "metadata": {
    "ExecuteTime": {
     "end_time": "2021-04-01T22:57:51.428278Z",
     "start_time": "2021-04-01T22:57:51.423283Z"
    }
   },
   "outputs": [],
   "source": [
    "del lista[lista.index(1)]"
   ]
  },
  {
   "cell_type": "code",
   "execution_count": 19,
   "metadata": {
    "ExecuteTime": {
     "end_time": "2021-04-01T22:57:54.021798Z",
     "start_time": "2021-04-01T22:57:54.014781Z"
    }
   },
   "outputs": [
    {
     "data": {
      "text/plain": [
       "[1, 1, 2, 3, 4, 5, 1, 2, 1]"
      ]
     },
     "execution_count": 19,
     "metadata": {},
     "output_type": "execute_result"
    }
   ],
   "source": [
    "lista"
   ]
  },
  {
   "cell_type": "code",
   "execution_count": 33,
   "metadata": {
    "ExecuteTime": {
     "end_time": "2021-04-01T23:05:14.307454Z",
     "start_time": "2021-04-01T23:05:14.302459Z"
    }
   },
   "outputs": [],
   "source": [
    "aux = []\n",
    "for i in lista:\n",
    "    if i == 1:\n",
    "        lista.remove(i)\n",
    "        "
   ]
  },
  {
   "cell_type": "code",
   "execution_count": 37,
   "metadata": {
    "ExecuteTime": {
     "end_time": "2021-04-01T23:06:21.685210Z",
     "start_time": "2021-04-01T23:06:21.676128Z"
    }
   },
   "outputs": [],
   "source": [
    "while 1 in lista:\n",
    "    lista.remove(1)"
   ]
  },
  {
   "cell_type": "code",
   "execution_count": 38,
   "metadata": {
    "ExecuteTime": {
     "end_time": "2021-04-01T23:06:22.482730Z",
     "start_time": "2021-04-01T23:06:22.476732Z"
    }
   },
   "outputs": [
    {
     "data": {
      "text/plain": [
       "[2, 3, 4, 5, 2]"
      ]
     },
     "execution_count": 38,
     "metadata": {},
     "output_type": "execute_result"
    }
   ],
   "source": [
    "lista"
   ]
  },
  {
   "cell_type": "code",
   "execution_count": 27,
   "metadata": {
    "ExecuteTime": {
     "end_time": "2021-04-01T23:00:12.788384Z",
     "start_time": "2021-04-01T23:00:12.782382Z"
    }
   },
   "outputs": [
    {
     "data": {
      "text/plain": [
       "[2, 3, 4, 5, 2]"
      ]
     },
     "execution_count": 27,
     "metadata": {},
     "output_type": "execute_result"
    }
   ],
   "source": [
    "list(filter(lambda x: x!=1, lista))"
   ]
  },
  {
   "cell_type": "code",
   "execution_count": null,
   "metadata": {},
   "outputs": [],
   "source": [
    "remove_hum = lambda x: x !=1 "
   ]
  },
  {
   "cell_type": "code",
   "execution_count": null,
   "metadata": {},
   "outputs": [],
   "source": [
    "def remove_hum(x):\n",
    "    return x!=1  "
   ]
  },
  {
   "cell_type": "markdown",
   "metadata": {
    "ExecuteTime": {
     "end_time": "2021-04-01T15:11:52.282097Z",
     "start_time": "2021-04-01T15:11:52.274022Z"
    }
   },
   "source": [
    "### List comprehension"
   ]
  },
  {
   "cell_type": "code",
   "execution_count": 40,
   "metadata": {
    "ExecuteTime": {
     "end_time": "2021-04-01T23:12:34.825265Z",
     "start_time": "2021-04-01T23:12:34.818483Z"
    }
   },
   "outputs": [
    {
     "data": {
      "text/plain": [
       "[0, 0, 0, 0, 0, 0, 0, 0, 0, 0]"
      ]
     },
     "execution_count": 40,
     "metadata": {},
     "output_type": "execute_result"
    }
   ],
   "source": [
    "zeros = []\n",
    "for i in range(10):\n",
    "    zeros.append(0)\n",
    "    \n",
    "zeros"
   ]
  },
  {
   "cell_type": "code",
   "execution_count": null,
   "metadata": {},
   "outputs": [],
   "source": [
    "1\n",
    "[0, ]\n",
    "[0, 0, , ]\n",
    "[0, 0, 0, ]\n",
    "[0, 0, 0,0]\n",
    "[0, 0, 0, 0, , , , , , ] 16 posições - 6 delas desocupadas\n",
    "\n"
   ]
  },
  {
   "cell_type": "code",
   "execution_count": 43,
   "metadata": {
    "ExecuteTime": {
     "end_time": "2021-04-01T23:17:09.477151Z",
     "start_time": "2021-04-01T23:17:09.469147Z"
    }
   },
   "outputs": [
    {
     "data": {
      "text/plain": [
       "[0, 0, 0, 0, 0, 0, 0, 0, 0, 0]"
      ]
     },
     "execution_count": 43,
     "metadata": {},
     "output_type": "execute_result"
    }
   ],
   "source": [
    "zeros = [0 for i in range(10)]\n",
    "zeros"
   ]
  },
  {
   "cell_type": "code",
   "execution_count": 44,
   "metadata": {
    "ExecuteTime": {
     "end_time": "2021-04-01T23:19:23.804249Z",
     "start_time": "2021-04-01T23:19:23.799062Z"
    }
   },
   "outputs": [],
   "source": [
    "lista = list(range(10))"
   ]
  },
  {
   "cell_type": "code",
   "execution_count": 45,
   "metadata": {
    "ExecuteTime": {
     "end_time": "2021-04-01T23:19:26.225766Z",
     "start_time": "2021-04-01T23:19:26.218767Z"
    }
   },
   "outputs": [
    {
     "data": {
      "text/plain": [
       "[0, 1, 2, 3, 4, 5, 6, 7, 8, 9]"
      ]
     },
     "execution_count": 45,
     "metadata": {},
     "output_type": "execute_result"
    }
   ],
   "source": [
    "lista"
   ]
  },
  {
   "cell_type": "code",
   "execution_count": 46,
   "metadata": {
    "ExecuteTime": {
     "end_time": "2021-04-01T23:19:42.359774Z",
     "start_time": "2021-04-01T23:19:42.354780Z"
    }
   },
   "outputs": [],
   "source": [
    "lista[0] += 1"
   ]
  },
  {
   "cell_type": "code",
   "execution_count": 49,
   "metadata": {
    "ExecuteTime": {
     "end_time": "2021-04-01T23:20:33.873016Z",
     "start_time": "2021-04-01T23:20:33.866015Z"
    }
   },
   "outputs": [
    {
     "data": {
      "text/plain": [
       "[2, 2, 3, 4, 5, 6, 7, 8, 9, 10]"
      ]
     },
     "execution_count": 49,
     "metadata": {},
     "output_type": "execute_result"
    }
   ],
   "source": [
    "for i in range(len(lista)):\n",
    "    lista[i] += 1\n",
    "    \n",
    "lista"
   ]
  },
  {
   "cell_type": "code",
   "execution_count": 51,
   "metadata": {
    "ExecuteTime": {
     "end_time": "2021-04-01T23:21:56.519826Z",
     "start_time": "2021-04-01T23:21:56.516821Z"
    }
   },
   "outputs": [],
   "source": [
    "lista1 = lista[:len(lista)//2]\n",
    "lista2 = lista[len(lista)//2:]\n"
   ]
  },
  {
   "cell_type": "code",
   "execution_count": 56,
   "metadata": {
    "ExecuteTime": {
     "end_time": "2021-04-01T23:22:53.875296Z",
     "start_time": "2021-04-01T23:22:53.867810Z"
    }
   },
   "outputs": [
    {
     "data": {
      "text/plain": [
       "[2, 2, 3, 4, 5, 6, 7, 8, 9, 10]"
      ]
     },
     "execution_count": 56,
     "metadata": {},
     "output_type": "execute_result"
    }
   ],
   "source": [
    "lista1 + lista2"
   ]
  },
  {
   "cell_type": "code",
   "execution_count": 53,
   "metadata": {
    "ExecuteTime": {
     "end_time": "2021-04-01T23:22:00.837291Z",
     "start_time": "2021-04-01T23:22:00.830289Z"
    }
   },
   "outputs": [
    {
     "data": {
      "text/plain": [
       "[6, 7, 8, 9, 10]"
      ]
     },
     "execution_count": 53,
     "metadata": {},
     "output_type": "execute_result"
    }
   ],
   "source": [
    "lista2"
   ]
  },
  {
   "cell_type": "code",
   "execution_count": 57,
   "metadata": {
    "ExecuteTime": {
     "end_time": "2021-04-01T23:23:39.208369Z",
     "start_time": "2021-04-01T23:23:39.203368Z"
    }
   },
   "outputs": [],
   "source": [
    "lista3 = []\n",
    "for i in range(len(lista1)):\n",
    "    lista3.append(lista1[i]+lista2[i])"
   ]
  },
  {
   "cell_type": "code",
   "execution_count": 58,
   "metadata": {
    "ExecuteTime": {
     "end_time": "2021-04-01T23:23:43.103086Z",
     "start_time": "2021-04-01T23:23:43.097082Z"
    }
   },
   "outputs": [
    {
     "data": {
      "text/plain": [
       "[8, 9, 11, 13, 15]"
      ]
     },
     "execution_count": 58,
     "metadata": {},
     "output_type": "execute_result"
    }
   ],
   "source": [
    "lista3"
   ]
  },
  {
   "cell_type": "code",
   "execution_count": 59,
   "metadata": {
    "ExecuteTime": {
     "end_time": "2021-04-01T23:25:32.975028Z",
     "start_time": "2021-04-01T23:25:32.971026Z"
    }
   },
   "outputs": [],
   "source": [
    "lista3 = [lista1[i]+lista2[i] for i in range(len(lista1))]"
   ]
  },
  {
   "cell_type": "code",
   "execution_count": 60,
   "metadata": {
    "ExecuteTime": {
     "end_time": "2021-04-01T23:25:36.312759Z",
     "start_time": "2021-04-01T23:25:36.306761Z"
    }
   },
   "outputs": [
    {
     "data": {
      "text/plain": [
       "[8, 9, 11, 13, 15]"
      ]
     },
     "execution_count": 60,
     "metadata": {},
     "output_type": "execute_result"
    }
   ],
   "source": [
    "lista3"
   ]
  },
  {
   "cell_type": "code",
   "execution_count": 61,
   "metadata": {
    "ExecuteTime": {
     "end_time": "2021-04-01T23:26:00.429193Z",
     "start_time": "2021-04-01T23:26:00.422192Z"
    }
   },
   "outputs": [
    {
     "data": {
      "text/plain": [
       "[1, 3, 3, 4, 5]"
      ]
     },
     "execution_count": 61,
     "metadata": {},
     "output_type": "execute_result"
    }
   ],
   "source": [
    "lista = list(range(1, 6))\n",
    "lista[1] += 1\n",
    "lista"
   ]
  },
  {
   "cell_type": "code",
   "execution_count": 62,
   "metadata": {
    "ExecuteTime": {
     "end_time": "2021-04-01T23:26:07.591500Z",
     "start_time": "2021-04-01T23:26:07.579503Z"
    }
   },
   "outputs": [
    {
     "name": "stdout",
     "output_type": "stream",
     "text": [
      "antes  - [1, 2, 3, 4, 5]\n",
      "depois - [5, 10, 15, 20, 25]\n"
     ]
    }
   ],
   "source": [
    "lista = list(range(1, 6))\n",
    "print('antes  -', lista)\n",
    "lista = [elemento*5 for elemento in lista]\n",
    "print('depois -',lista)"
   ]
  },
  {
   "cell_type": "code",
   "execution_count": 77,
   "metadata": {
    "ExecuteTime": {
     "end_time": "2021-04-01T23:27:58.404820Z",
     "start_time": "2021-04-01T23:27:58.400407Z"
    }
   },
   "outputs": [],
   "source": [
    "lista3 = lista[:] # ou lista.copy()"
   ]
  },
  {
   "cell_type": "code",
   "execution_count": 78,
   "metadata": {
    "ExecuteTime": {
     "end_time": "2021-04-01T23:27:59.688537Z",
     "start_time": "2021-04-01T23:27:59.683371Z"
    }
   },
   "outputs": [],
   "source": [
    "lista3.append(3)"
   ]
  },
  {
   "cell_type": "code",
   "execution_count": 79,
   "metadata": {
    "ExecuteTime": {
     "end_time": "2021-04-01T23:28:00.285409Z",
     "start_time": "2021-04-01T23:28:00.279405Z"
    }
   },
   "outputs": [
    {
     "name": "stdout",
     "output_type": "stream",
     "text": [
      "1865421289600\n",
      "1865421876544\n"
     ]
    }
   ],
   "source": [
    "print(id(lista))\n",
    "print(id(lista3))"
   ]
  },
  {
   "cell_type": "code",
   "execution_count": 81,
   "metadata": {
    "ExecuteTime": {
     "end_time": "2021-04-01T23:28:11.429015Z",
     "start_time": "2021-04-01T23:28:11.422983Z"
    }
   },
   "outputs": [
    {
     "data": {
      "text/plain": [
       "[5, 10, 15, 20, 25, 3, 3]"
      ]
     },
     "execution_count": 81,
     "metadata": {},
     "output_type": "execute_result"
    }
   ],
   "source": [
    "lista3"
   ]
  },
  {
   "cell_type": "code",
   "execution_count": 84,
   "metadata": {
    "ExecuteTime": {
     "end_time": "2021-04-01T23:29:15.441645Z",
     "start_time": "2021-04-01T23:29:15.433645Z"
    }
   },
   "outputs": [
    {
     "data": {
      "text/plain": [
       "[8, 9, 11, 13, 15]"
      ]
     },
     "execution_count": 84,
     "metadata": {},
     "output_type": "execute_result"
    }
   ],
   "source": [
    "list(map(lambda x, y: x+y, lista1, lista2))"
   ]
  },
  {
   "cell_type": "code",
   "execution_count": null,
   "metadata": {},
   "outputs": [],
   "source": [
    "def soma_dois_num(x, y):\n",
    "    return x+y"
   ]
  },
  {
   "cell_type": "code",
   "execution_count": 85,
   "metadata": {
    "ExecuteTime": {
     "end_time": "2021-04-01T23:31:32.767823Z",
     "start_time": "2021-04-01T23:31:32.757616Z"
    }
   },
   "outputs": [
    {
     "data": {
      "text/plain": [
       "[8, 9, 11, 13, 15]"
      ]
     },
     "execution_count": 85,
     "metadata": {},
     "output_type": "execute_result"
    }
   ],
   "source": [
    "[x+y for x,y in zip(lista1, lista2)]"
   ]
  },
  {
   "cell_type": "code",
   "execution_count": 87,
   "metadata": {
    "ExecuteTime": {
     "end_time": "2021-04-01T23:31:59.981341Z",
     "start_time": "2021-04-01T23:31:59.975333Z"
    }
   },
   "outputs": [
    {
     "data": {
      "text/plain": [
       "[(2, 6), (2, 7), (3, 8), (4, 9), (5, 10)]"
      ]
     },
     "execution_count": 87,
     "metadata": {},
     "output_type": "execute_result"
    }
   ],
   "source": [
    "list(zip(lista1, lista2))"
   ]
  },
  {
   "cell_type": "code",
   "execution_count": 89,
   "metadata": {
    "ExecuteTime": {
     "end_time": "2021-04-01T23:32:42.772976Z",
     "start_time": "2021-04-01T23:32:42.761345Z"
    }
   },
   "outputs": [
    {
     "data": {
      "text/plain": [
       "[8, 9, 11, 13, 15]"
      ]
     },
     "execution_count": 89,
     "metadata": {},
     "output_type": "execute_result"
    }
   ],
   "source": [
    "[x+lista2[idx] for idx, x in enumerate(lista1)]"
   ]
  },
  {
   "cell_type": "code",
   "execution_count": 91,
   "metadata": {
    "ExecuteTime": {
     "end_time": "2021-04-01T23:33:08.206061Z",
     "start_time": "2021-04-01T23:33:08.198055Z"
    }
   },
   "outputs": [
    {
     "data": {
      "text/plain": [
       "[2, 2, 3, 4, 5]"
      ]
     },
     "execution_count": 91,
     "metadata": {},
     "output_type": "execute_result"
    }
   ],
   "source": [
    "lista1"
   ]
  },
  {
   "cell_type": "code",
   "execution_count": 90,
   "metadata": {
    "ExecuteTime": {
     "end_time": "2021-04-01T23:32:57.316301Z",
     "start_time": "2021-04-01T23:32:57.310295Z"
    }
   },
   "outputs": [
    {
     "data": {
      "text/plain": [
       "[(0, 2), (1, 2), (2, 3), (3, 4), (4, 5)]"
      ]
     },
     "execution_count": 90,
     "metadata": {},
     "output_type": "execute_result"
    }
   ],
   "source": [
    "list(enumerate(lista1))"
   ]
  },
  {
   "cell_type": "code",
   "execution_count": 121,
   "metadata": {
    "ExecuteTime": {
     "end_time": "2021-04-01T23:36:09.971014Z",
     "start_time": "2021-04-01T23:36:09.966458Z"
    }
   },
   "outputs": [],
   "source": [
    "import random"
   ]
  },
  {
   "cell_type": "code",
   "execution_count": 124,
   "metadata": {
    "ExecuteTime": {
     "end_time": "2021-04-01T23:36:30.542676Z",
     "start_time": "2021-04-01T23:36:30.535676Z"
    }
   },
   "outputs": [],
   "source": [
    "random.seed()"
   ]
  },
  {
   "cell_type": "code",
   "execution_count": 125,
   "metadata": {
    "ExecuteTime": {
     "end_time": "2021-04-01T23:36:31.635262Z",
     "start_time": "2021-04-01T23:36:31.628262Z"
    }
   },
   "outputs": [
    {
     "data": {
      "text/plain": [
       "0.8587809941212687"
      ]
     },
     "execution_count": 125,
     "metadata": {},
     "output_type": "execute_result"
    }
   ],
   "source": [
    "random.random()"
   ]
  },
  {
   "cell_type": "code",
   "execution_count": null,
   "metadata": {},
   "outputs": [],
   "source": []
  },
  {
   "cell_type": "markdown",
   "metadata": {},
   "source": [
    "## Numpy"
   ]
  },
  {
   "cell_type": "code",
   "execution_count": 127,
   "metadata": {
    "ExecuteTime": {
     "end_time": "2021-04-01T23:38:16.379043Z",
     "start_time": "2021-04-01T23:38:16.374043Z"
    }
   },
   "outputs": [],
   "source": [
    "import numpy as np"
   ]
  },
  {
   "cell_type": "markdown",
   "metadata": {},
   "source": [
    "Numpy é uma biblioteca das principais bibliotecas do Python, devido a sua grande velocidade e eficiência ele é extremamente utilizada para computação científica e analise de dados. Esta fama se da principalmente a estrutura chamada [numpy array](https://docs.scipy.org/doc/numpy/reference/arrays.html), um forma eficiente de guardar e manipular matrizes, que serve como base para as tabelas que iremos utilizar."
   ]
  },
  {
   "cell_type": "code",
   "execution_count": 130,
   "metadata": {
    "ExecuteTime": {
     "end_time": "2021-04-01T23:39:26.737953Z",
     "start_time": "2021-04-01T23:39:26.725443Z"
    }
   },
   "outputs": [
    {
     "name": "stdout",
     "output_type": "stream",
     "text": [
      "<class 'numpy.ndarray'>\n"
     ]
    },
    {
     "data": {
      "text/plain": [
       "array([1, 2, 3, 4, 5])"
      ]
     },
     "execution_count": 130,
     "metadata": {},
     "output_type": "execute_result"
    }
   ],
   "source": [
    "# criando listas numpy a partir de listas do python\n",
    "lista = [1,2,3,4,5]\n",
    "listaNumpy = np.array(lista)\n",
    "print(type(listaNumpy))\n",
    "listaNumpy\n"
   ]
  },
  {
   "cell_type": "code",
   "execution_count": 131,
   "metadata": {
    "ExecuteTime": {
     "end_time": "2021-04-01T23:40:14.345092Z",
     "start_time": "2021-04-01T23:40:14.338078Z"
    }
   },
   "outputs": [
    {
     "data": {
      "text/plain": [
       "[0, 0, 0, 0, 0, 0, 0, 0, 0, 0]"
      ]
     },
     "execution_count": 131,
     "metadata": {},
     "output_type": "execute_result"
    }
   ],
   "source": [
    "[0 for i in range(10)]"
   ]
  },
  {
   "cell_type": "code",
   "execution_count": 132,
   "metadata": {
    "ExecuteTime": {
     "end_time": "2021-04-01T23:40:21.409280Z",
     "start_time": "2021-04-01T23:40:21.401274Z"
    }
   },
   "outputs": [
    {
     "data": {
      "text/plain": [
       "array([0., 0., 0., 0., 0., 0., 0., 0., 0., 0.])"
      ]
     },
     "execution_count": 132,
     "metadata": {},
     "output_type": "execute_result"
    }
   ],
   "source": [
    "#Criando array zeros nump\n",
    "zeros = np.zeros(10)\n",
    "zeros"
   ]
  },
  {
   "cell_type": "code",
   "execution_count": 139,
   "metadata": {
    "ExecuteTime": {
     "end_time": "2021-04-01T23:42:07.372271Z",
     "start_time": "2021-04-01T23:42:07.364237Z"
    }
   },
   "outputs": [
    {
     "data": {
      "text/plain": [
       "array([1., 1., 1., 1., 1., 1., 1., 1., 1., 1.])"
      ]
     },
     "execution_count": 139,
     "metadata": {},
     "output_type": "execute_result"
    }
   ],
   "source": [
    "#Criando array 1 \n",
    "uns = np.ones(10)\n",
    "uns"
   ]
  },
  {
   "cell_type": "markdown",
   "metadata": {},
   "source": [
    "### Multiplicação de Listas vs np.Array"
   ]
  },
  {
   "cell_type": "code",
   "execution_count": 142,
   "metadata": {
    "ExecuteTime": {
     "end_time": "2021-04-01T23:43:09.549353Z",
     "start_time": "2021-04-01T23:43:09.542349Z"
    },
    "scrolled": true
   },
   "outputs": [
    {
     "data": {
      "text/plain": [
       "[5, 5, 5, 5, 5, 5, 5, 5, 5, 5]"
      ]
     },
     "execution_count": 142,
     "metadata": {},
     "output_type": "execute_result"
    }
   ],
   "source": [
    "uns = [1 for i in range(10)]\n",
    "\n",
    "[x*5 for x in uns]"
   ]
  },
  {
   "cell_type": "code",
   "execution_count": 144,
   "metadata": {
    "ExecuteTime": {
     "end_time": "2021-04-01T23:43:30.808062Z",
     "start_time": "2021-04-01T23:43:30.801063Z"
    }
   },
   "outputs": [
    {
     "data": {
      "text/plain": [
       "array([1., 1., 1., 1., 1., 1., 1., 1., 1., 1.])"
      ]
     },
     "execution_count": 144,
     "metadata": {},
     "output_type": "execute_result"
    }
   ],
   "source": [
    "uns = np.ones(10)\n",
    "uns"
   ]
  },
  {
   "cell_type": "code",
   "execution_count": 147,
   "metadata": {
    "ExecuteTime": {
     "end_time": "2021-04-01T23:43:51.217430Z",
     "start_time": "2021-04-01T23:43:51.210426Z"
    }
   },
   "outputs": [
    {
     "data": {
      "text/plain": [
       "array([5., 5., 5., 5., 5., 5., 5., 5., 5., 5.])"
      ]
     },
     "execution_count": 147,
     "metadata": {},
     "output_type": "execute_result"
    }
   ],
   "source": [
    "cincos = uns*5\n",
    "cincos"
   ]
  },
  {
   "cell_type": "code",
   "execution_count": null,
   "metadata": {},
   "outputs": [],
   "source": []
  },
  {
   "cell_type": "code",
   "execution_count": null,
   "metadata": {},
   "outputs": [],
   "source": []
  },
  {
   "cell_type": "code",
   "execution_count": null,
   "metadata": {},
   "outputs": [],
   "source": []
  },
  {
   "cell_type": "code",
   "execution_count": null,
   "metadata": {},
   "outputs": [],
   "source": []
  },
  {
   "cell_type": "code",
   "execution_count": 148,
   "metadata": {
    "ExecuteTime": {
     "end_time": "2021-04-01T23:44:14.312567Z",
     "start_time": "2021-04-01T23:44:14.302050Z"
    }
   },
   "outputs": [
    {
     "data": {
      "text/plain": [
       "array([9., 9., 9., 9., 9., 9., 9., 9., 9., 9.])"
      ]
     },
     "execution_count": 148,
     "metadata": {},
     "output_type": "execute_result"
    }
   ],
   "source": [
    "#Criando array de um numero qualquer\n",
    "cincos = (np.ones(10) + 5)*3/2\n",
    "cincos"
   ]
  },
  {
   "cell_type": "code",
   "execution_count": 149,
   "metadata": {
    "ExecuteTime": {
     "end_time": "2021-04-01T23:44:45.886510Z",
     "start_time": "2021-04-01T23:44:45.877519Z"
    }
   },
   "outputs": [
    {
     "data": {
      "text/plain": [
       "[0, 1, 2, 3, 4, 5, 6, 7, 8, 9, 10]"
      ]
     },
     "execution_count": 149,
     "metadata": {},
     "output_type": "execute_result"
    }
   ],
   "source": [
    "list(range(0, 11))"
   ]
  },
  {
   "cell_type": "code",
   "execution_count": 150,
   "metadata": {
    "ExecuteTime": {
     "end_time": "2021-04-01T23:45:03.056183Z",
     "start_time": "2021-04-01T23:45:03.050157Z"
    }
   },
   "outputs": [
    {
     "data": {
      "text/plain": [
       "array([ 0,  1,  2,  3,  4,  5,  6,  7,  8,  9, 10])"
      ]
     },
     "execution_count": 150,
     "metadata": {},
     "output_type": "execute_result"
    }
   ],
   "source": [
    "#Criando array com sequencia\n",
    "lista10 = np.arange(0,11)\n",
    "lista10"
   ]
  },
  {
   "cell_type": "code",
   "execution_count": 157,
   "metadata": {
    "ExecuteTime": {
     "end_time": "2021-04-01T23:47:41.503396Z",
     "start_time": "2021-04-01T23:47:41.496397Z"
    }
   },
   "outputs": [
    {
     "data": {
      "text/plain": [
       "[0, 2, 4, 6, 8, 10, 12, 14, 16, 18]"
      ]
     },
     "execution_count": 157,
     "metadata": {},
     "output_type": "execute_result"
    }
   ],
   "source": [
    "list(range(0, 20, 2))"
   ]
  },
  {
   "cell_type": "code",
   "execution_count": 154,
   "metadata": {
    "ExecuteTime": {
     "end_time": "2021-04-01T23:45:36.471728Z",
     "start_time": "2021-04-01T23:45:36.465179Z"
    }
   },
   "outputs": [
    {
     "data": {
      "text/plain": [
       "array([ 0,  2,  4,  6,  8, 10, 12, 14, 16, 18])"
      ]
     },
     "execution_count": 154,
     "metadata": {},
     "output_type": "execute_result"
    }
   ],
   "source": [
    "#Criando lista Com saltos\n",
    "listaD = np.arange(0,20,2)\n",
    "listaD"
   ]
  },
  {
   "cell_type": "code",
   "execution_count": 158,
   "metadata": {
    "ExecuteTime": {
     "end_time": "2021-04-01T23:47:50.870830Z",
     "start_time": "2021-04-01T23:47:50.862838Z"
    }
   },
   "outputs": [
    {
     "data": {
      "text/plain": [
       "[0.0,\n",
       " 0.1,\n",
       " 0.2,\n",
       " 0.30000000000000004,\n",
       " 0.4,\n",
       " 0.5,\n",
       " 0.6000000000000001,\n",
       " 0.7000000000000001,\n",
       " 0.8,\n",
       " 0.9,\n",
       " 1.0,\n",
       " 1.1,\n",
       " 1.2000000000000002,\n",
       " 1.3,\n",
       " 1.4000000000000001,\n",
       " 1.5,\n",
       " 1.6,\n",
       " 1.7000000000000002,\n",
       " 1.8,\n",
       " 1.9000000000000001,\n",
       " 2.0]"
      ]
     },
     "execution_count": 158,
     "metadata": {},
     "output_type": "execute_result"
    }
   ],
   "source": [
    "x = 2/20\n",
    "[x*i for i in range(0, 21)]"
   ]
  },
  {
   "cell_type": "code",
   "execution_count": 161,
   "metadata": {
    "ExecuteTime": {
     "end_time": "2021-04-01T23:48:48.147473Z",
     "start_time": "2021-04-01T23:48:48.139415Z"
    }
   },
   "outputs": [
    {
     "data": {
      "text/plain": [
       "array([0.        , 0.22222222, 0.44444444, 0.66666667, 0.88888889,\n",
       "       1.11111111, 1.33333333, 1.55555556, 1.77777778, 2.        ])"
      ]
     },
     "execution_count": 161,
     "metadata": {},
     "output_type": "execute_result"
    }
   ],
   "source": [
    "#Array espaçado, os dois primeiros numeros são o intervalo, o terceiro e numero de valores \n",
    "np.linspace(0,2,10)"
   ]
  },
  {
   "cell_type": "code",
   "execution_count": 167,
   "metadata": {
    "ExecuteTime": {
     "end_time": "2021-04-01T23:51:09.301598Z",
     "start_time": "2021-04-01T23:51:09.294597Z"
    }
   },
   "outputs": [
    {
     "data": {
      "text/plain": [
       "array([0.90805638, 0.27039337, 0.36225524, 0.090164  , 0.5842202 ,\n",
       "       0.19610643, 0.99694498, 0.52489665, 0.22821104, 0.49854184])"
      ]
     },
     "execution_count": 167,
     "metadata": {},
     "output_type": "execute_result"
    }
   ],
   "source": [
    "from numpy import random\n",
    "\n",
    "#Criando array com valores aleatorios\n",
    "aleatorio = np.random.rand(10)\n",
    "aleatorio"
   ]
  },
  {
   "cell_type": "code",
   "execution_count": 168,
   "metadata": {
    "ExecuteTime": {
     "end_time": "2021-04-01T23:51:23.499939Z",
     "start_time": "2021-04-01T23:51:23.492407Z"
    }
   },
   "outputs": [
    {
     "data": {
      "text/plain": [
       "array([ 6, 96, 36, 23, 19, 10, 36, 42, 72, 36])"
      ]
     },
     "execution_count": 168,
     "metadata": {},
     "output_type": "execute_result"
    }
   ],
   "source": [
    "# aleatorio inteiro (10 itens de 0 a 100)\n",
    "lista1 = np.random.randint(0,100,10)\n",
    "lista1"
   ]
  },
  {
   "cell_type": "code",
   "execution_count": 171,
   "metadata": {
    "ExecuteTime": {
     "end_time": "2021-04-01T23:52:04.916388Z",
     "start_time": "2021-04-01T23:52:04.908380Z"
    }
   },
   "outputs": [
    {
     "data": {
      "text/plain": [
       "array([10, 75, 19, 45, 76, 51, 46, 48, 20,  3])"
      ]
     },
     "execution_count": 171,
     "metadata": {},
     "output_type": "execute_result"
    }
   ],
   "source": [
    "import random\n",
    "np.array(random.sample(range(100), 10))"
   ]
  },
  {
   "cell_type": "markdown",
   "metadata": {},
   "source": [
    "### Indexação"
   ]
  },
  {
   "cell_type": "code",
   "execution_count": 177,
   "metadata": {
    "ExecuteTime": {
     "end_time": "2021-04-01T23:52:49.122171Z",
     "start_time": "2021-04-01T23:52:49.114165Z"
    }
   },
   "outputs": [
    {
     "data": {
      "text/plain": [
       "[0, 1, 2, 3, 4, 5, 6, 7, 8, 9]"
      ]
     },
     "execution_count": 177,
     "metadata": {},
     "output_type": "execute_result"
    }
   ],
   "source": [
    "lista = list(range(10))\n",
    "lista"
   ]
  },
  {
   "cell_type": "code",
   "execution_count": 183,
   "metadata": {
    "ExecuteTime": {
     "end_time": "2021-04-01T23:54:00.775992Z",
     "start_time": "2021-04-01T23:54:00.769992Z"
    }
   },
   "outputs": [
    {
     "data": {
      "text/plain": [
       "[5, 4, 3]"
      ]
     },
     "execution_count": 183,
     "metadata": {},
     "output_type": "execute_result"
    }
   ],
   "source": [
    "lista[5:2:-1]"
   ]
  },
  {
   "cell_type": "code",
   "execution_count": 184,
   "metadata": {
    "ExecuteTime": {
     "end_time": "2021-04-01T23:54:22.371009Z",
     "start_time": "2021-04-01T23:54:22.366006Z"
    }
   },
   "outputs": [
    {
     "data": {
      "text/plain": [
       "array([ 0,  1,  2,  3,  4,  5,  6,  7,  8,  9, 10])"
      ]
     },
     "execution_count": 184,
     "metadata": {},
     "output_type": "execute_result"
    }
   ],
   "source": [
    "lista10"
   ]
  },
  {
   "cell_type": "code",
   "execution_count": 185,
   "metadata": {
    "ExecuteTime": {
     "end_time": "2021-04-01T23:54:23.547605Z",
     "start_time": "2021-04-01T23:54:23.540599Z"
    }
   },
   "outputs": [
    {
     "data": {
      "text/plain": [
       "5"
      ]
     },
     "execution_count": 185,
     "metadata": {},
     "output_type": "execute_result"
    }
   ],
   "source": [
    "lista10[5]"
   ]
  },
  {
   "cell_type": "code",
   "execution_count": 187,
   "metadata": {
    "ExecuteTime": {
     "end_time": "2021-04-01T23:55:22.723764Z",
     "start_time": "2021-04-01T23:55:22.711536Z"
    }
   },
   "outputs": [
    {
     "data": {
      "text/plain": [
       "array([2, 3, 4, 5, 6])"
      ]
     },
     "execution_count": 187,
     "metadata": {},
     "output_type": "execute_result"
    }
   ],
   "source": [
    "#Partindo array\n",
    "lista10[2:7]"
   ]
  },
  {
   "cell_type": "code",
   "execution_count": 188,
   "metadata": {
    "ExecuteTime": {
     "end_time": "2021-04-01T23:55:25.951950Z",
     "start_time": "2021-04-01T23:55:25.941961Z"
    }
   },
   "outputs": [
    {
     "data": {
      "text/plain": [
       "array([3, 5, 7])"
      ]
     },
     "execution_count": 188,
     "metadata": {},
     "output_type": "execute_result"
    }
   ],
   "source": [
    "parte = lista10[3:8:2]\n",
    "parte"
   ]
  },
  {
   "cell_type": "code",
   "execution_count": 189,
   "metadata": {
    "ExecuteTime": {
     "end_time": "2021-04-01T23:55:37.260986Z",
     "start_time": "2021-04-01T23:55:37.247673Z"
    }
   },
   "outputs": [
    {
     "data": {
      "text/plain": [
       "array([10, 11, 12, 13, 14, 15, 16, 17, 18, 19, 20, 21, 22, 23, 24, 25, 26,\n",
       "       27, 28, 29, 30, 31, 32, 33, 34, 35, 36, 37, 38, 39, 40, 41, 42, 43,\n",
       "       44, 45, 46, 47, 48, 49])"
      ]
     },
     "execution_count": 189,
     "metadata": {},
     "output_type": "execute_result"
    }
   ],
   "source": [
    "#Criando array com sequencia\n",
    "lista40 = np.arange(10,50)\n",
    "lista40"
   ]
  },
  {
   "cell_type": "markdown",
   "metadata": {},
   "source": [
    "### Operações simples"
   ]
  },
  {
   "cell_type": "code",
   "execution_count": 190,
   "metadata": {
    "ExecuteTime": {
     "end_time": "2021-04-01T23:55:54.785179Z",
     "start_time": "2021-04-01T23:55:54.780181Z"
    }
   },
   "outputs": [
    {
     "data": {
      "text/plain": [
       "array([ 6, 96, 36, 23, 19, 10, 36, 42, 72, 36])"
      ]
     },
     "execution_count": 190,
     "metadata": {},
     "output_type": "execute_result"
    }
   ],
   "source": [
    "lista1"
   ]
  },
  {
   "cell_type": "code",
   "execution_count": 191,
   "metadata": {
    "ExecuteTime": {
     "end_time": "2021-04-01T23:56:03.512459Z",
     "start_time": "2021-04-01T23:56:03.506453Z"
    }
   },
   "outputs": [
    {
     "data": {
      "text/plain": [
       "[6, 96, 36, 23, 19, 10, 36, 42, 72, 36]"
      ]
     },
     "execution_count": 191,
     "metadata": {},
     "output_type": "execute_result"
    }
   ],
   "source": [
    "listaLista1 = list(lista1)\n",
    "listaLista1"
   ]
  },
  {
   "cell_type": "code",
   "execution_count": 192,
   "metadata": {
    "ExecuteTime": {
     "end_time": "2021-04-01T23:56:05.704022Z",
     "start_time": "2021-04-01T23:56:05.693025Z"
    }
   },
   "outputs": [
    {
     "data": {
      "text/plain": [
       "array([ 12, 192,  72,  46,  38,  20,  72,  84, 144,  72])"
      ]
     },
     "execution_count": 192,
     "metadata": {},
     "output_type": "execute_result"
    }
   ],
   "source": [
    "lista1 * 2"
   ]
  },
  {
   "cell_type": "code",
   "execution_count": 193,
   "metadata": {
    "ExecuteTime": {
     "end_time": "2021-04-01T23:56:11.951453Z",
     "start_time": "2021-04-01T23:56:11.942452Z"
    }
   },
   "outputs": [
    {
     "data": {
      "text/plain": [
       "[6, 96, 36, 23, 19, 10, 36, 42, 72, 36, 6, 96, 36, 23, 19, 10, 36, 42, 72, 36]"
      ]
     },
     "execution_count": 193,
     "metadata": {},
     "output_type": "execute_result"
    }
   ],
   "source": [
    "listaLista1 * 2"
   ]
  },
  {
   "cell_type": "code",
   "execution_count": 198,
   "metadata": {
    "ExecuteTime": {
     "end_time": "2021-04-01T23:57:18.808701Z",
     "start_time": "2021-04-01T23:57:18.803695Z"
    }
   },
   "outputs": [
    {
     "data": {
      "text/plain": [
       "array([ 7, 97, 37, 24, 20, 11, 37, 43, 73, 37])"
      ]
     },
     "execution_count": 198,
     "metadata": {},
     "output_type": "execute_result"
    }
   ],
   "source": [
    "lista1 + 1"
   ]
  },
  {
   "cell_type": "code",
   "execution_count": 199,
   "metadata": {
    "ExecuteTime": {
     "end_time": "2021-04-01T23:57:21.954064Z",
     "start_time": "2021-04-01T23:57:21.946081Z"
    }
   },
   "outputs": [
    {
     "data": {
      "text/plain": [
       "array([  36, 9216, 1296,  529,  361,  100, 1296, 1764, 5184, 1296],\n",
       "      dtype=int32)"
      ]
     },
     "execution_count": 199,
     "metadata": {},
     "output_type": "execute_result"
    }
   ],
   "source": [
    "lista1 ** 2"
   ]
  },
  {
   "cell_type": "code",
   "execution_count": 200,
   "metadata": {
    "ExecuteTime": {
     "end_time": "2021-04-01T23:57:25.054374Z",
     "start_time": "2021-04-01T23:57:25.047377Z"
    }
   },
   "outputs": [
    {
     "data": {
      "text/plain": [
       "array([ 3. , 48. , 18. , 11.5,  9.5,  5. , 18. , 21. , 36. , 18. ])"
      ]
     },
     "execution_count": 200,
     "metadata": {},
     "output_type": "execute_result"
    }
   ],
   "source": [
    "lista1 / 2"
   ]
  },
  {
   "cell_type": "code",
   "execution_count": 201,
   "metadata": {
    "ExecuteTime": {
     "end_time": "2021-04-01T23:57:36.665053Z",
     "start_time": "2021-04-01T23:57:36.659046Z"
    }
   },
   "outputs": [
    {
     "data": {
      "text/plain": [
       "array([ 3, 48, 18, 11,  9,  5, 18, 21, 36, 18], dtype=int32)"
      ]
     },
     "execution_count": 201,
     "metadata": {},
     "output_type": "execute_result"
    }
   ],
   "source": [
    "lista1 // 2"
   ]
  },
  {
   "cell_type": "code",
   "execution_count": 205,
   "metadata": {
    "ExecuteTime": {
     "end_time": "2021-04-01T23:58:05.474849Z",
     "start_time": "2021-04-01T23:58:05.467851Z"
    }
   },
   "outputs": [
    {
     "data": {
      "text/plain": [
       "array([ 6, 96, 36, 23, 19, 10, 36, 42, 72, 36])"
      ]
     },
     "execution_count": 205,
     "metadata": {},
     "output_type": "execute_result"
    }
   ],
   "source": [
    "lista1 = np.array(lista1)\n",
    "lista1"
   ]
  },
  {
   "cell_type": "markdown",
   "metadata": {
    "ExecuteTime": {
     "end_time": "2021-04-01T16:02:19.292406Z",
     "start_time": "2021-04-01T16:02:19.275829Z"
    }
   },
   "source": [
    "### Operações com Arrays"
   ]
  },
  {
   "cell_type": "code",
   "execution_count": 207,
   "metadata": {
    "ExecuteTime": {
     "end_time": "2021-04-01T23:58:42.329189Z",
     "start_time": "2021-04-01T23:58:42.320188Z"
    }
   },
   "outputs": [
    {
     "name": "stdout",
     "output_type": "stream",
     "text": [
      "[66 36 53 95 16 63  9 49 52 20] <class 'numpy.ndarray'>\n",
      "[84 27 56 65  2 65 81  0  0 94] <class 'list'>\n"
     ]
    }
   ],
   "source": [
    "array1 = np.random.randint(0,100,10)\n",
    "array2 = np.random.randint(0,100,10)\n",
    "print(array1, type(lista1))\n",
    "print(array2, type(lista2))"
   ]
  },
  {
   "cell_type": "code",
   "execution_count": 208,
   "metadata": {
    "ExecuteTime": {
     "end_time": "2021-04-01T23:58:46.314479Z",
     "start_time": "2021-04-01T23:58:46.307482Z"
    }
   },
   "outputs": [
    {
     "data": {
      "text/plain": [
       "array([150,  63, 109, 160,  18, 128,  90,  49,  52, 114])"
      ]
     },
     "execution_count": 208,
     "metadata": {},
     "output_type": "execute_result"
    }
   ],
   "source": [
    "#adição\n",
    "array1 + array2"
   ]
  },
  {
   "cell_type": "code",
   "execution_count": 209,
   "metadata": {
    "ExecuteTime": {
     "end_time": "2021-04-01T23:58:50.090096Z",
     "start_time": "2021-04-01T23:58:50.083100Z"
    }
   },
   "outputs": [
    {
     "data": {
      "text/plain": [
       "array([ 0, 27, 56, 65,  2, 65, 81,  0,  0, 94])"
      ]
     },
     "execution_count": 209,
     "metadata": {},
     "output_type": "execute_result"
    }
   ],
   "source": [
    "array2[0] = 0\n",
    "array2"
   ]
  },
  {
   "cell_type": "code",
   "execution_count": 213,
   "metadata": {
    "ExecuteTime": {
     "end_time": "2021-04-02T00:00:03.512154Z",
     "start_time": "2021-04-02T00:00:03.504151Z"
    }
   },
   "outputs": [
    {
     "data": {
      "text/plain": [
       "array([   0,  972, 2968, 6175,   32, 4095,  729,    0,    0, 1880])"
      ]
     },
     "execution_count": 213,
     "metadata": {},
     "output_type": "execute_result"
    }
   ],
   "source": [
    "#multiplicação\n",
    "array1*array2"
   ]
  },
  {
   "cell_type": "code",
   "execution_count": 214,
   "metadata": {
    "ExecuteTime": {
     "end_time": "2021-04-02T00:00:05.220422Z",
     "start_time": "2021-04-02T00:00:05.214423Z"
    }
   },
   "outputs": [
    {
     "data": {
      "text/plain": [
       "16851"
      ]
     },
     "execution_count": 214,
     "metadata": {},
     "output_type": "execute_result"
    }
   ],
   "source": [
    "array1@array2"
   ]
  },
  {
   "cell_type": "code",
   "execution_count": 217,
   "metadata": {
    "ExecuteTime": {
     "end_time": "2021-04-02T00:00:45.269443Z",
     "start_time": "2021-04-02T00:00:45.260909Z"
    }
   },
   "outputs": [
    {
     "name": "stderr",
     "output_type": "stream",
     "text": [
      "<ipython-input-217-0d4946046079>:2: RuntimeWarning: divide by zero encountered in true_divide\n",
      "  array3 = array1 / array2\n"
     ]
    },
    {
     "data": {
      "text/plain": [
       "array([       inf, 1.33333333, 0.94642857, 1.46153846, 8.        ,\n",
       "       0.96923077, 0.11111111,        inf,        inf, 0.21276596])"
      ]
     },
     "execution_count": 217,
     "metadata": {},
     "output_type": "execute_result"
    }
   ],
   "source": [
    "# divisão\n",
    "array3 = array1 / array2\n",
    "array3"
   ]
  },
  {
   "cell_type": "code",
   "execution_count": 218,
   "metadata": {
    "ExecuteTime": {
     "end_time": "2021-04-02T00:01:19.654590Z",
     "start_time": "2021-04-02T00:01:19.646593Z"
    }
   },
   "outputs": [
    {
     "data": {
      "text/plain": [
       "[1.3333333333333333,\n",
       " 0.9464285714285714,\n",
       " 1.4615384615384615,\n",
       " 8.0,\n",
       " 0.9692307692307692,\n",
       " 0.1111111111111111,\n",
       " 0.2127659574468085]"
      ]
     },
     "execution_count": 218,
     "metadata": {},
     "output_type": "execute_result"
    }
   ],
   "source": [
    "[i for i in array3 if i != np.inf]"
   ]
  },
  {
   "cell_type": "code",
   "execution_count": 219,
   "metadata": {
    "ExecuteTime": {
     "end_time": "2021-04-02T00:01:34.015653Z",
     "start_time": "2021-04-02T00:01:34.008655Z"
    }
   },
   "outputs": [
    {
     "data": {
      "text/plain": [
       "array([1.33333333, 0.94642857, 1.46153846, 8.        , 0.96923077,\n",
       "       0.11111111, 0.21276596])"
      ]
     },
     "execution_count": 219,
     "metadata": {},
     "output_type": "execute_result"
    }
   ],
   "source": [
    "array3[array3 != np.inf]"
   ]
  },
  {
   "cell_type": "code",
   "execution_count": 223,
   "metadata": {
    "ExecuteTime": {
     "end_time": "2021-04-02T00:02:56.840548Z",
     "start_time": "2021-04-02T00:02:56.833547Z"
    }
   },
   "outputs": [
    {
     "data": {
      "text/plain": [
       "array([1.33333333, 0.94642857, 1.46153846, 8.        , 0.96923077,\n",
       "       0.11111111, 0.21276596])"
      ]
     },
     "execution_count": 223,
     "metadata": {},
     "output_type": "execute_result"
    }
   ],
   "source": [
    "np.array(list(filter(lambda x: x!=np.inf, array3)))"
   ]
  },
  {
   "cell_type": "code",
   "execution_count": 224,
   "metadata": {
    "ExecuteTime": {
     "end_time": "2021-04-02T00:03:08.239477Z",
     "start_time": "2021-04-02T00:03:08.232482Z"
    },
    "scrolled": true
   },
   "outputs": [
    {
     "data": {
      "text/plain": [
       "array([66, 36, 53, 95, 16, 63,  9, 49, 52, 20,  0, 27, 56, 65,  2, 65, 81,\n",
       "        0,  0, 94])"
      ]
     },
     "execution_count": 224,
     "metadata": {},
     "output_type": "execute_result"
    }
   ],
   "source": [
    "#concatenate\n",
    "np.concatenate((array1, array2))"
   ]
  },
  {
   "cell_type": "code",
   "execution_count": 227,
   "metadata": {
    "ExecuteTime": {
     "end_time": "2021-04-02T00:03:54.663559Z",
     "start_time": "2021-04-02T00:03:54.656556Z"
    }
   },
   "outputs": [
    {
     "data": {
      "text/plain": [
       "array([66, 36, 53, 95, 16, 63,  9, 49, 52, 20,  0, 27, 56, 65,  2, 65, 81,\n",
       "        0,  0, 94])"
      ]
     },
     "execution_count": 227,
     "metadata": {},
     "output_type": "execute_result"
    }
   ],
   "source": [
    "np.concatenate((array1, array2))"
   ]
  },
  {
   "cell_type": "markdown",
   "metadata": {},
   "source": [
    "### Operações em arrays"
   ]
  },
  {
   "cell_type": "markdown",
   "metadata": {},
   "source": [
    "### Problema 1:\n",
    "Somar 2 Listas de tamanhos iguais - Retorno deve conter uma lista"
   ]
  },
  {
   "cell_type": "code",
   "execution_count": 228,
   "metadata": {
    "ExecuteTime": {
     "end_time": "2021-04-02T00:04:35.587000Z",
     "start_time": "2021-04-02T00:04:35.580013Z"
    }
   },
   "outputs": [
    {
     "name": "stdout",
     "output_type": "stream",
     "text": [
      "[9, 6, 5, 1, 4, 3, 7, 8, 0, 2]\n",
      "[1, 0, 5, 3, 2, 9, 7, 8, 6, 4]\n"
     ]
    }
   ],
   "source": [
    "import random\n",
    "lista1 = random.sample(range(10), 10)\n",
    "lista2 = random.sample(range(10), 10)\n",
    "print(lista1, lista2, sep='\\n')"
   ]
  },
  {
   "cell_type": "code",
   "execution_count": 230,
   "metadata": {
    "ExecuteTime": {
     "end_time": "2021-04-02T00:21:03.376737Z",
     "start_time": "2021-04-02T00:21:03.357741Z"
    }
   },
   "outputs": [
    {
     "data": {
      "text/plain": [
       "array([10,  6, 10,  4,  6, 12, 14, 16,  6,  6])"
      ]
     },
     "execution_count": 230,
     "metadata": {},
     "output_type": "execute_result"
    }
   ],
   "source": [
    "#numpy\n",
    "import numpy as np\n",
    "array1 = np.array(lista1)\n",
    "array2 = np.array(lista2)\n",
    "array3 = array1+array2\n",
    "array3"
   ]
  },
  {
   "cell_type": "code",
   "execution_count": 238,
   "metadata": {
    "ExecuteTime": {
     "end_time": "2021-04-02T00:26:53.108285Z",
     "start_time": "2021-04-02T00:26:53.097733Z"
    }
   },
   "outputs": [
    {
     "name": "stdout",
     "output_type": "stream",
     "text": [
      "[10, 6, 10, 4, 6, 12, 14, 16, 6, 6]\n"
     ]
    }
   ],
   "source": [
    "array = np.array(lista1)+np.array(lista2)\n",
    "print(array.tolist())"
   ]
  },
  {
   "cell_type": "code",
   "execution_count": 241,
   "metadata": {
    "ExecuteTime": {
     "end_time": "2021-04-02T00:27:53.602449Z",
     "start_time": "2021-04-02T00:27:53.581927Z"
    },
    "code_folding": []
   },
   "outputs": [
    {
     "data": {
      "text/plain": [
       "[10, 6, 10, 4, 6, 12, 14, 16, 6, 6]"
      ]
     },
     "execution_count": 241,
     "metadata": {},
     "output_type": "execute_result"
    }
   ],
   "source": [
    "#list comprehension\n",
    "[lista1[i]+lista2[i] for i in range(len(lista1))]"
   ]
  },
  {
   "cell_type": "code",
   "execution_count": 242,
   "metadata": {
    "ExecuteTime": {
     "end_time": "2021-04-02T00:28:40.611449Z",
     "start_time": "2021-04-02T00:28:40.586451Z"
    }
   },
   "outputs": [
    {
     "data": {
      "text/plain": [
       "[10, 6, 10, 4, 6, 12, 14, 16, 6, 6]"
      ]
     },
     "execution_count": 242,
     "metadata": {},
     "output_type": "execute_result"
    }
   ],
   "source": [
    "#list comprehension + enumerate\n",
    "[x+lista2[i] for i, x in enumerate(lista1)]"
   ]
  },
  {
   "cell_type": "code",
   "execution_count": 243,
   "metadata": {
    "ExecuteTime": {
     "end_time": "2021-04-02T00:29:07.148788Z",
     "start_time": "2021-04-02T00:29:07.122230Z"
    }
   },
   "outputs": [
    {
     "data": {
      "text/plain": [
       "[10, 6, 10, 4, 6, 12, 14, 16, 6, 6]"
      ]
     },
     "execution_count": 243,
     "metadata": {},
     "output_type": "execute_result"
    }
   ],
   "source": [
    "#list comprehension + zip\n",
    "[x+y for x, y in zip(lista1, lista2)]"
   ]
  },
  {
   "cell_type": "code",
   "execution_count": 244,
   "metadata": {
    "ExecuteTime": {
     "end_time": "2021-04-02T00:29:34.946405Z",
     "start_time": "2021-04-02T00:29:34.927890Z"
    }
   },
   "outputs": [
    {
     "data": {
      "text/plain": [
       "[10, 6, 10, 4, 6, 12, 14, 16, 6, 6]"
      ]
     },
     "execution_count": 244,
     "metadata": {},
     "output_type": "execute_result"
    }
   ],
   "source": [
    "#map + lambda\n",
    "list(map(lambda x,y: x+y, lista1, lista2))"
   ]
  },
  {
   "cell_type": "markdown",
   "metadata": {},
   "source": [
    "### problema 2\n",
    "Somar 2 Arrays de tamanhos diferentes - Retorno deve conter um array\n",
    "\n",
    "***Tomar cuidado ao fazer operações com arrays de tamanhos diferentes***\n",
    "\n",
    "Ex: array([1, 2, 3, 4, 5, 6, 7, 8, 9, 10]) + array([1, 1, 1, 1, 1]) = array(2, 3, 4, 5, 6, 6, 7, 8, 9, 10)"
   ]
  },
  {
   "cell_type": "code",
   "execution_count": 245,
   "metadata": {
    "ExecuteTime": {
     "end_time": "2021-04-02T00:29:55.067008Z",
     "start_time": "2021-04-02T00:29:55.048398Z"
    },
    "scrolled": true
   },
   "outputs": [
    {
     "name": "stdout",
     "output_type": "stream",
     "text": [
      "[65 53 49 43 70 73 17 78 65 60] <class 'numpy.ndarray'>\n",
      "[29 62 53 17 33] <class 'numpy.ndarray'>\n"
     ]
    }
   ],
   "source": [
    "lista1 = np.random.randint(0,100,10)\n",
    "lista2 = np.random.randint(0,100,5)\n",
    "print(lista1, type(lista1))\n",
    "print(lista2, type(lista2))"
   ]
  },
  {
   "cell_type": "code",
   "execution_count": 246,
   "metadata": {
    "ExecuteTime": {
     "end_time": "2021-04-02T00:29:59.431168Z",
     "start_time": "2021-04-02T00:29:59.408936Z"
    }
   },
   "outputs": [
    {
     "ename": "ValueError",
     "evalue": "operands could not be broadcast together with shapes (10,) (5,) ",
     "output_type": "error",
     "traceback": [
      "\u001b[1;31m---------------------------------------------------------------------------\u001b[0m",
      "\u001b[1;31mValueError\u001b[0m                                Traceback (most recent call last)",
      "\u001b[1;32m<ipython-input-246-52345bb059ca>\u001b[0m in \u001b[0;36m<module>\u001b[1;34m\u001b[0m\n\u001b[1;32m----> 1\u001b[1;33m \u001b[0mlista1\u001b[0m\u001b[1;33m+\u001b[0m\u001b[0mlista2\u001b[0m\u001b[1;33m\u001b[0m\u001b[1;33m\u001b[0m\u001b[0m\n\u001b[0m",
      "\u001b[1;31mValueError\u001b[0m: operands could not be broadcast together with shapes (10,) (5,) "
     ]
    }
   ],
   "source": [
    "lista1+lista2"
   ]
  },
  {
   "cell_type": "code",
   "execution_count": 247,
   "metadata": {
    "ExecuteTime": {
     "end_time": "2021-04-02T00:30:16.397271Z",
     "start_time": "2021-04-02T00:30:16.384750Z"
    }
   },
   "outputs": [
    {
     "data": {
      "text/plain": [
       "(10,)"
      ]
     },
     "execution_count": 247,
     "metadata": {},
     "output_type": "execute_result"
    }
   ],
   "source": [
    "lista1.shape"
   ]
  },
  {
   "cell_type": "code",
   "execution_count": 248,
   "metadata": {
    "ExecuteTime": {
     "end_time": "2021-04-02T00:30:19.600890Z",
     "start_time": "2021-04-02T00:30:19.593890Z"
    }
   },
   "outputs": [
    {
     "data": {
      "text/plain": [
       "(5,)"
      ]
     },
     "execution_count": 248,
     "metadata": {},
     "output_type": "execute_result"
    }
   ],
   "source": [
    "lista2.shape"
   ]
  },
  {
   "cell_type": "code",
   "execution_count": 253,
   "metadata": {
    "ExecuteTime": {
     "end_time": "2021-04-02T00:32:54.713077Z",
     "start_time": "2021-04-02T00:32:54.700056Z"
    }
   },
   "outputs": [
    {
     "data": {
      "text/plain": [
       "array([ 94., 115., 102.,  60., 103.,  73.,  17.,  78.,  65.,  60.])"
      ]
     },
     "execution_count": 253,
     "metadata": {},
     "output_type": "execute_result"
    }
   ],
   "source": [
    "lista1+np.concatenate((lista2, np.zeros( lista1.shape[0] - lista2.shape[0] )))"
   ]
  },
  {
   "cell_type": "code",
   "execution_count": null,
   "metadata": {
    "ExecuteTime": {
     "end_time": "2021-04-01T16:13:02.437758Z",
     "start_time": "2021-04-01T16:13:02.428752Z"
    }
   },
   "outputs": [],
   "source": []
  },
  {
   "cell_type": "markdown",
   "metadata": {},
   "source": [
    "### Métodos"
   ]
  },
  {
   "cell_type": "code",
   "execution_count": 266,
   "metadata": {
    "ExecuteTime": {
     "end_time": "2021-04-02T00:36:08.603768Z",
     "start_time": "2021-04-02T00:36:08.591443Z"
    }
   },
   "outputs": [
    {
     "data": {
      "text/plain": [
       "array([25, 97, 69, 22, 31,  4,  7, 61, 62, 18])"
      ]
     },
     "execution_count": 266,
     "metadata": {},
     "output_type": "execute_result"
    }
   ],
   "source": [
    "lista1 = np.random.randint(0,100,10)\n",
    "lista1"
   ]
  },
  {
   "cell_type": "code",
   "execution_count": 267,
   "metadata": {
    "ExecuteTime": {
     "end_time": "2021-04-02T00:36:08.820728Z",
     "start_time": "2021-04-02T00:36:08.805739Z"
    }
   },
   "outputs": [
    {
     "data": {
      "text/plain": [
       "97"
      ]
     },
     "execution_count": 267,
     "metadata": {},
     "output_type": "execute_result"
    }
   ],
   "source": [
    "#maior valor\n",
    "lista1.max()"
   ]
  },
  {
   "cell_type": "code",
   "execution_count": 268,
   "metadata": {
    "ExecuteTime": {
     "end_time": "2021-04-02T00:36:09.019729Z",
     "start_time": "2021-04-02T00:36:08.998727Z"
    }
   },
   "outputs": [
    {
     "data": {
      "text/plain": [
       "1"
      ]
     },
     "execution_count": 268,
     "metadata": {},
     "output_type": "execute_result"
    }
   ],
   "source": [
    "#index do maior valor\n",
    "lista1.argmax()"
   ]
  },
  {
   "cell_type": "code",
   "execution_count": 269,
   "metadata": {
    "ExecuteTime": {
     "end_time": "2021-04-02T00:36:09.192724Z",
     "start_time": "2021-04-02T00:36:09.175728Z"
    }
   },
   "outputs": [
    {
     "data": {
      "text/plain": [
       "4"
      ]
     },
     "execution_count": 269,
     "metadata": {},
     "output_type": "execute_result"
    }
   ],
   "source": [
    "#menor valor\n",
    "lista1.min()"
   ]
  },
  {
   "cell_type": "code",
   "execution_count": 270,
   "metadata": {
    "ExecuteTime": {
     "end_time": "2021-04-02T00:36:09.348726Z",
     "start_time": "2021-04-02T00:36:09.342727Z"
    }
   },
   "outputs": [
    {
     "data": {
      "text/plain": [
       "5"
      ]
     },
     "execution_count": 270,
     "metadata": {},
     "output_type": "execute_result"
    }
   ],
   "source": [
    "#index do menor valor\n",
    "lista1.argmin()"
   ]
  },
  {
   "cell_type": "code",
   "execution_count": 271,
   "metadata": {
    "ExecuteTime": {
     "end_time": "2021-04-02T00:36:09.567258Z",
     "start_time": "2021-04-02T00:36:09.550726Z"
    }
   },
   "outputs": [
    {
     "data": {
      "text/plain": [
       "396"
      ]
     },
     "execution_count": 271,
     "metadata": {},
     "output_type": "execute_result"
    }
   ],
   "source": [
    "#soma de todos os items\n",
    "lista1.sum()"
   ]
  },
  {
   "cell_type": "code",
   "execution_count": 260,
   "metadata": {
    "ExecuteTime": {
     "end_time": "2021-04-02T00:33:57.118960Z",
     "start_time": "2021-04-02T00:33:57.096931Z"
    }
   },
   "outputs": [
    {
     "data": {
      "text/plain": [
       "49.6"
      ]
     },
     "execution_count": 260,
     "metadata": {},
     "output_type": "execute_result"
    }
   ],
   "source": [
    "#media\n",
    "lista1.mean()"
   ]
  },
  {
   "cell_type": "code",
   "execution_count": 261,
   "metadata": {
    "ExecuteTime": {
     "end_time": "2021-04-02T00:33:59.038134Z",
     "start_time": "2021-04-02T00:33:59.023134Z"
    }
   },
   "outputs": [
    {
     "data": {
      "text/plain": [
       "27.749594591633226"
      ]
     },
     "execution_count": 261,
     "metadata": {},
     "output_type": "execute_result"
    }
   ],
   "source": [
    "#desvio padrão\n",
    "lista1.std()"
   ]
  },
  {
   "cell_type": "code",
   "execution_count": 262,
   "metadata": {
    "ExecuteTime": {
     "end_time": "2021-04-02T00:34:06.510704Z",
     "start_time": "2021-04-02T00:34:06.492182Z"
    }
   },
   "outputs": [
    {
     "name": "stdout",
     "output_type": "stream",
     "text": [
      "[96 52 29 63 42  1 37 26 91 59]\n",
      "[1, 26, 29, 37, 42, 52, 59, 63, 91, 96]\n"
     ]
    }
   ],
   "source": [
    "listax = sorted(lista1)\n",
    "print(lista1)\n",
    "print(listax)"
   ]
  },
  {
   "cell_type": "code",
   "execution_count": 272,
   "metadata": {
    "ExecuteTime": {
     "end_time": "2021-04-02T00:36:16.026245Z",
     "start_time": "2021-04-02T00:36:16.014727Z"
    }
   },
   "outputs": [
    {
     "data": {
      "text/plain": [
       "array([ 4,  7, 18, 22, 25, 31, 61, 62, 69, 97])"
      ]
     },
     "execution_count": 272,
     "metadata": {},
     "output_type": "execute_result"
    }
   ],
   "source": [
    "#ordenar a lista\n",
    "lista1.sort()\n",
    "lista1"
   ]
  },
  {
   "cell_type": "code",
   "execution_count": 273,
   "metadata": {
    "ExecuteTime": {
     "end_time": "2021-04-02T00:36:25.572074Z",
     "start_time": "2021-04-02T00:36:25.548099Z"
    }
   },
   "outputs": [
    {
     "data": {
      "text/plain": [
       "array([61, 69, 22, 97, 31,  4, 62, 18, 25,  7])"
      ]
     },
     "execution_count": 273,
     "metadata": {},
     "output_type": "execute_result"
    }
   ],
   "source": [
    "## Aleatorizando o array\n",
    "\n",
    "lista1 = np.random.permutation(lista1)\n",
    "\n",
    "## ou\n",
    "random.shuffle(lista1)\n",
    "\n",
    "lista1"
   ]
  },
  {
   "cell_type": "code",
   "execution_count": 274,
   "metadata": {
    "ExecuteTime": {
     "end_time": "2021-04-02T00:36:38.463636Z",
     "start_time": "2021-04-02T00:36:38.442637Z"
    }
   },
   "outputs": [
    {
     "data": {
      "text/plain": [
       "array([61, 69, 22, 97, 31,  4, 62, 18, 25,  7])"
      ]
     },
     "execution_count": 274,
     "metadata": {},
     "output_type": "execute_result"
    }
   ],
   "source": [
    "#Trocando o tipo dos dados nas lista\n",
    "lista1 = lista1.astype(int)\n",
    "lista1"
   ]
  },
  {
   "cell_type": "code",
   "execution_count": 277,
   "metadata": {
    "ExecuteTime": {
     "end_time": "2021-04-02T00:37:13.195693Z",
     "start_time": "2021-04-02T00:37:13.174166Z"
    }
   },
   "outputs": [
    {
     "data": {
      "text/plain": [
       "array([69, 69, 22, 97, 31,  4, 62, 18, 25,  7])"
      ]
     },
     "execution_count": 277,
     "metadata": {},
     "output_type": "execute_result"
    }
   ],
   "source": [
    "lista1"
   ]
  },
  {
   "cell_type": "code",
   "execution_count": 279,
   "metadata": {
    "ExecuteTime": {
     "end_time": "2021-04-02T00:37:55.544429Z",
     "start_time": "2021-04-02T00:37:55.525900Z"
    }
   },
   "outputs": [
    {
     "data": {
      "text/plain": [
       "(array([ 4,  7, 18, 22, 25, 31, 62, 69, 97]),\n",
       " array([1, 1, 1, 1, 1, 1, 1, 2, 1], dtype=int64))"
      ]
     },
     "execution_count": 279,
     "metadata": {},
     "output_type": "execute_result"
    }
   ],
   "source": [
    "np.unique(lista1, return_counts=True)"
   ]
  },
  {
   "cell_type": "code",
   "execution_count": 280,
   "metadata": {
    "ExecuteTime": {
     "end_time": "2021-04-02T00:38:46.886875Z",
     "start_time": "2021-04-02T00:38:46.870914Z"
    }
   },
   "outputs": [
    {
     "data": {
      "text/plain": [
       "69"
      ]
     },
     "execution_count": 280,
     "metadata": {},
     "output_type": "execute_result"
    }
   ],
   "source": [
    "# Valores únicos\n",
    "values, count = np.unique(lista1, return_counts=True)\n",
    "\n",
    "values[count.argmax()]"
   ]
  },
  {
   "cell_type": "code",
   "execution_count": 281,
   "metadata": {
    "ExecuteTime": {
     "end_time": "2021-04-02T00:39:20.611950Z",
     "start_time": "2021-04-02T00:39:20.588657Z"
    }
   },
   "outputs": [
    {
     "data": {
      "text/plain": [
       "69"
      ]
     },
     "execution_count": 281,
     "metadata": {},
     "output_type": "execute_result"
    }
   ],
   "source": [
    "#moda\n",
    "import statistics\n",
    "statistics.mode(lista1)"
   ]
  },
  {
   "cell_type": "markdown",
   "metadata": {},
   "source": [
    "### Matriz"
   ]
  },
  {
   "cell_type": "code",
   "execution_count": 285,
   "metadata": {
    "ExecuteTime": {
     "end_time": "2021-04-02T00:41:10.953329Z",
     "start_time": "2021-04-02T00:41:10.937695Z"
    }
   },
   "outputs": [
    {
     "data": {
      "text/plain": [
       "matrix([[1, 2, 1],\n",
       "        [3, 4, 1],\n",
       "        [5, 6, 1]])"
      ]
     },
     "execution_count": 285,
     "metadata": {},
     "output_type": "execute_result"
    }
   ],
   "source": [
    "#Criando matriz\n",
    "matriz = np.matrix('1 2 1; 3 4 1;5 6 1')\n",
    "matriz"
   ]
  },
  {
   "cell_type": "code",
   "execution_count": 286,
   "metadata": {
    "ExecuteTime": {
     "end_time": "2021-04-02T00:41:29.175489Z",
     "start_time": "2021-04-02T00:41:29.154968Z"
    }
   },
   "outputs": [
    {
     "data": {
      "text/plain": [
       "matrix([[1, 2],\n",
       "        [3, 4]])"
      ]
     },
     "execution_count": 286,
     "metadata": {},
     "output_type": "execute_result"
    }
   ],
   "source": [
    "np.matrix([[1, 2],[3, 4]])"
   ]
  },
  {
   "cell_type": "code",
   "execution_count": 292,
   "metadata": {
    "ExecuteTime": {
     "end_time": "2021-04-02T00:43:36.346737Z",
     "start_time": "2021-04-02T00:43:36.337212Z"
    }
   },
   "outputs": [
    {
     "data": {
      "text/plain": [
       "array([[0., 0., 0.],\n",
       "       [0., 0., 0.],\n",
       "       [0., 0., 0.]])"
      ]
     },
     "execution_count": 292,
     "metadata": {},
     "output_type": "execute_result"
    }
   ],
   "source": [
    "#Matriz de zeros\n",
    "np.zeros((3, 3))"
   ]
  },
  {
   "cell_type": "code",
   "execution_count": 293,
   "metadata": {
    "ExecuteTime": {
     "end_time": "2021-04-02T00:43:39.487877Z",
     "start_time": "2021-04-02T00:43:39.469296Z"
    }
   },
   "outputs": [
    {
     "data": {
      "text/plain": [
       "array([[1., 1., 1.],\n",
       "       [1., 1., 1.],\n",
       "       [1., 1., 1.]])"
      ]
     },
     "execution_count": 293,
     "metadata": {},
     "output_type": "execute_result"
    }
   ],
   "source": [
    "#Matriz de 1's\n",
    "np.ones((3, 3))"
   ]
  },
  {
   "cell_type": "code",
   "execution_count": 294,
   "metadata": {
    "ExecuteTime": {
     "end_time": "2021-04-02T00:43:45.320590Z",
     "start_time": "2021-04-02T00:43:45.311030Z"
    },
    "hide_input": false
   },
   "outputs": [
    {
     "data": {
      "text/plain": [
       "array([[1., 0., 0.],\n",
       "       [0., 1., 0.],\n",
       "       [0., 0., 1.]])"
      ]
     },
     "execution_count": 294,
     "metadata": {},
     "output_type": "execute_result"
    }
   ],
   "source": [
    "#eye - Matriz identidade\n",
    "np.eye(3, 3)"
   ]
  },
  {
   "cell_type": "code",
   "execution_count": 295,
   "metadata": {
    "ExecuteTime": {
     "end_time": "2021-04-02T00:44:34.921691Z",
     "start_time": "2021-04-02T00:44:34.907177Z"
    }
   },
   "outputs": [
    {
     "data": {
      "text/plain": [
       "array([ 0,  2,  4,  6,  8, 10, 12, 14, 16, 18])"
      ]
     },
     "execution_count": 295,
     "metadata": {},
     "output_type": "execute_result"
    }
   ],
   "source": [
    "listaD = np.arange(0,20,2)\n",
    "listaD"
   ]
  },
  {
   "cell_type": "markdown",
   "metadata": {},
   "source": [
    "#### Operações"
   ]
  },
  {
   "cell_type": "code",
   "execution_count": 296,
   "metadata": {
    "ExecuteTime": {
     "end_time": "2021-04-02T00:45:01.271386Z",
     "start_time": "2021-04-02T00:45:01.254260Z"
    },
    "code_folding": []
   },
   "outputs": [
    {
     "data": {
      "text/plain": [
       "array([[ 0,  2],\n",
       "       [ 4,  6],\n",
       "       [ 8, 10],\n",
       "       [12, 14],\n",
       "       [16, 18]])"
      ]
     },
     "execution_count": 296,
     "metadata": {},
     "output_type": "execute_result"
    }
   ],
   "source": [
    "# Redimensionamento\n",
    "matriz = listaD.reshape(5, 2)\n",
    "matriz"
   ]
  },
  {
   "cell_type": "code",
   "execution_count": 297,
   "metadata": {
    "ExecuteTime": {
     "end_time": "2021-04-02T00:45:10.097174Z",
     "start_time": "2021-04-02T00:45:10.080639Z"
    }
   },
   "outputs": [
    {
     "data": {
      "text/plain": [
       "(5, 2)"
      ]
     },
     "execution_count": 297,
     "metadata": {},
     "output_type": "execute_result"
    }
   ],
   "source": [
    "matriz.shape"
   ]
  },
  {
   "cell_type": "code",
   "execution_count": 300,
   "metadata": {
    "ExecuteTime": {
     "end_time": "2021-04-02T00:46:06.943048Z",
     "start_time": "2021-04-02T00:46:06.933418Z"
    }
   },
   "outputs": [
    {
     "data": {
      "text/plain": [
       "array([[ 0,  4,  8, 12, 16],\n",
       "       [ 2,  6, 10, 14, 18]])"
      ]
     },
     "execution_count": 300,
     "metadata": {},
     "output_type": "execute_result"
    }
   ],
   "source": [
    "#Matriz Transposta\n",
    "matriz.T\n",
    "\n",
    "##ou\n",
    "matriz.transpose()"
   ]
  },
  {
   "cell_type": "code",
   "execution_count": 299,
   "metadata": {
    "ExecuteTime": {
     "end_time": "2021-04-02T00:45:33.297054Z",
     "start_time": "2021-04-02T00:45:33.284090Z"
    }
   },
   "outputs": [
    {
     "data": {
      "text/plain": [
       "(2, 5)"
      ]
     },
     "execution_count": 299,
     "metadata": {},
     "output_type": "execute_result"
    }
   ],
   "source": [
    "matriz.T.shape"
   ]
  },
  {
   "cell_type": "code",
   "execution_count": 311,
   "metadata": {
    "ExecuteTime": {
     "end_time": "2021-04-02T00:48:12.422741Z",
     "start_time": "2021-04-02T00:48:12.412222Z"
    }
   },
   "outputs": [
    {
     "data": {
      "text/plain": [
       "array([[1., 1.],\n",
       "       [1., 1.],\n",
       "       [1., 1.],\n",
       "       [1., 1.],\n",
       "       [1., 1.]])"
      ]
     },
     "execution_count": 311,
     "metadata": {},
     "output_type": "execute_result"
    }
   ],
   "source": [
    "np.ones((5,2))"
   ]
  },
  {
   "cell_type": "code",
   "execution_count": 319,
   "metadata": {
    "ExecuteTime": {
     "end_time": "2021-04-02T00:50:40.448573Z",
     "start_time": "2021-04-02T00:50:40.433059Z"
    }
   },
   "outputs": [
    {
     "data": {
      "text/plain": [
       "array([[ 1.,  0.,  2.],\n",
       "       [ 1.,  4.,  6.],\n",
       "       [ 1.,  8., 10.],\n",
       "       [ 1., 12., 14.],\n",
       "       [ 1., 16., 18.]])"
      ]
     },
     "execution_count": 319,
     "metadata": {},
     "output_type": "execute_result"
    }
   ],
   "source": [
    "#concatenaçäo\n",
    "np.concatenate((np.ones((5,1)), matriz), axis=1)"
   ]
  },
  {
   "cell_type": "code",
   "execution_count": 314,
   "metadata": {
    "ExecuteTime": {
     "end_time": "2021-04-02T00:49:12.376821Z",
     "start_time": "2021-04-02T00:49:12.368805Z"
    }
   },
   "outputs": [
    {
     "data": {
      "text/plain": [
       "array([[ 1.,  1.,  0.,  2.],\n",
       "       [ 1.,  1.,  4.,  6.],\n",
       "       [ 1.,  1.,  8., 10.],\n",
       "       [ 1.,  1., 12., 14.],\n",
       "       [ 1.,  1., 16., 18.]])"
      ]
     },
     "execution_count": 314,
     "metadata": {},
     "output_type": "execute_result"
    }
   ],
   "source": [
    "#hstack\n",
    "np.hstack((np.ones(10).reshape(5,2), matriz))"
   ]
  },
  {
   "cell_type": "code",
   "execution_count": 318,
   "metadata": {
    "ExecuteTime": {
     "end_time": "2021-04-02T00:50:24.026008Z",
     "start_time": "2021-04-02T00:50:24.014976Z"
    }
   },
   "outputs": [
    {
     "data": {
      "text/plain": [
       "array([[ 1.,  1.],\n",
       "       [ 0.,  2.],\n",
       "       [ 4.,  6.],\n",
       "       [ 8., 10.],\n",
       "       [12., 14.],\n",
       "       [16., 18.]])"
      ]
     },
     "execution_count": 318,
     "metadata": {},
     "output_type": "execute_result"
    }
   ],
   "source": [
    "#vstack\n",
    "np.vstack((np.ones(2), matriz))"
   ]
  },
  {
   "cell_type": "code",
   "execution_count": 320,
   "metadata": {
    "ExecuteTime": {
     "end_time": "2021-04-02T00:50:57.564076Z",
     "start_time": "2021-04-02T00:50:57.545563Z"
    }
   },
   "outputs": [
    {
     "data": {
      "text/plain": [
       "array([[ 0,  2],\n",
       "       [ 4,  6],\n",
       "       [ 8, 10],\n",
       "       [12, 14],\n",
       "       [16, 18]])"
      ]
     },
     "execution_count": 320,
     "metadata": {},
     "output_type": "execute_result"
    }
   ],
   "source": [
    "matriz"
   ]
  },
  {
   "cell_type": "code",
   "execution_count": null,
   "metadata": {
    "ExecuteTime": {
     "end_time": "2021-04-01T21:06:15.969130Z",
     "start_time": "2021-04-01T21:06:15.953596Z"
    }
   },
   "outputs": [],
   "source": [
    "#indexação matriz\n",
    "matriz[2:,1:]"
   ]
  },
  {
   "cell_type": "markdown",
   "metadata": {
    "ExecuteTime": {
     "end_time": "2021-04-02T00:00:39.305414Z",
     "start_time": "2021-04-02T00:00:39.293362Z"
    }
   },
   "source": [
    "# Paramos aqui"
   ]
  },
  {
   "cell_type": "markdown",
   "metadata": {
    "ExecuteTime": {
     "end_time": "2020-12-02T00:45:05.502884Z",
     "start_time": "2020-12-02T00:45:05.483356Z"
    }
   },
   "source": [
    "### Problema 3: \n",
    "\n",
    "Criar uma matriz 10x2 onde na primeira coluna estejam os valores de [1..10] e a segunda coluna seja preenchida com zeros"
   ]
  },
  {
   "cell_type": "code",
   "execution_count": 321,
   "metadata": {
    "ExecuteTime": {
     "end_time": "2021-04-02T00:51:26.998657Z",
     "start_time": "2021-04-02T00:51:26.986616Z"
    }
   },
   "outputs": [
    {
     "data": {
      "text/plain": [
       "array([[ 1,  0],\n",
       "       [ 2,  0],\n",
       "       [ 3,  0],\n",
       "       [ 4,  0],\n",
       "       [ 5,  0],\n",
       "       [ 6,  0],\n",
       "       [ 7,  0],\n",
       "       [ 8,  0],\n",
       "       [ 9,  0],\n",
       "       [10,  0]])"
      ]
     },
     "execution_count": 321,
     "metadata": {},
     "output_type": "execute_result"
    }
   ],
   "source": [
    "lista = []\n",
    "for i in range(1, 11):\n",
    "    lista.append([i, 0])\n",
    "np.array(lista)"
   ]
  },
  {
   "cell_type": "code",
   "execution_count": null,
   "metadata": {},
   "outputs": [],
   "source": []
  },
  {
   "cell_type": "code",
   "execution_count": null,
   "metadata": {},
   "outputs": [],
   "source": []
  },
  {
   "cell_type": "code",
   "execution_count": null,
   "metadata": {},
   "outputs": [],
   "source": []
  },
  {
   "cell_type": "code",
   "execution_count": null,
   "metadata": {},
   "outputs": [],
   "source": []
  },
  {
   "cell_type": "code",
   "execution_count": null,
   "metadata": {},
   "outputs": [],
   "source": []
  },
  {
   "cell_type": "code",
   "execution_count": null,
   "metadata": {},
   "outputs": [],
   "source": []
  },
  {
   "cell_type": "code",
   "execution_count": null,
   "metadata": {},
   "outputs": [],
   "source": []
  },
  {
   "cell_type": "code",
   "execution_count": null,
   "metadata": {},
   "outputs": [],
   "source": []
  },
  {
   "cell_type": "code",
   "execution_count": null,
   "metadata": {},
   "outputs": [],
   "source": []
  },
  {
   "cell_type": "code",
   "execution_count": null,
   "metadata": {},
   "outputs": [],
   "source": []
  },
  {
   "cell_type": "code",
   "execution_count": null,
   "metadata": {},
   "outputs": [],
   "source": []
  },
  {
   "cell_type": "markdown",
   "metadata": {},
   "source": [
    "#### Solução 1 - Usando Pandas"
   ]
  },
  {
   "cell_type": "code",
   "execution_count": null,
   "metadata": {
    "ExecuteTime": {
     "end_time": "2021-04-01T21:21:57.081683Z",
     "start_time": "2021-04-01T21:21:56.549312Z"
    }
   },
   "outputs": [],
   "source": [
    "import pandas as pd"
   ]
  },
  {
   "cell_type": "code",
   "execution_count": null,
   "metadata": {
    "ExecuteTime": {
     "end_time": "2021-04-01T21:21:49.243950Z",
     "start_time": "2021-04-01T21:21:49.224386Z"
    }
   },
   "outputs": [],
   "source": [
    "valores = np.array(range(1,11))\n",
    "valores.reshape(10,1)\n",
    "valores"
   ]
  },
  {
   "cell_type": "markdown",
   "metadata": {},
   "source": [
    "**Vamos criar um dataframe com o formato que desejamos e depois converte-lo para numpy array**"
   ]
  },
  {
   "cell_type": "code",
   "execution_count": null,
   "metadata": {
    "ExecuteTime": {
     "end_time": "2021-04-01T21:21:58.036426Z",
     "start_time": "2021-04-01T21:21:58.011915Z"
    }
   },
   "outputs": [],
   "source": [
    "df = pd.DataFrame({'A': valores, 'B':np.zeros(10)})\n",
    "df"
   ]
  },
  {
   "cell_type": "code",
   "execution_count": null,
   "metadata": {
    "ExecuteTime": {
     "end_time": "2021-04-01T21:22:03.195851Z",
     "start_time": "2021-04-01T21:22:03.173804Z"
    }
   },
   "outputs": [],
   "source": [
    "df.to_numpy()"
   ]
  },
  {
   "cell_type": "markdown",
   "metadata": {
    "ExecuteTime": {
     "end_time": "2020-12-02T22:41:17.851730Z",
     "start_time": "2020-12-02T22:41:17.843732Z"
    }
   },
   "source": [
    "#### Solução 2 - Usando hstack"
   ]
  },
  {
   "cell_type": "code",
   "execution_count": null,
   "metadata": {
    "ExecuteTime": {
     "end_time": "2021-04-01T21:22:11.204315Z",
     "start_time": "2021-04-01T21:22:11.185286Z"
    }
   },
   "outputs": [],
   "source": [
    "np.hstack((valores.reshape(10,1), np.zeros(10).reshape(10,1)))"
   ]
  },
  {
   "cell_type": "markdown",
   "metadata": {},
   "source": [
    "#### Solução 3 - Usando vstack e matriz transposta"
   ]
  },
  {
   "cell_type": "code",
   "execution_count": null,
   "metadata": {
    "ExecuteTime": {
     "end_time": "2021-04-01T21:22:12.566966Z",
     "start_time": "2021-04-01T21:22:12.560943Z"
    }
   },
   "outputs": [],
   "source": [
    "arr = np.vstack((valores, np.zeros(10)))\n",
    "arr"
   ]
  },
  {
   "cell_type": "code",
   "execution_count": null,
   "metadata": {
    "ExecuteTime": {
     "end_time": "2021-04-01T21:22:14.200704Z",
     "start_time": "2021-04-01T21:22:14.186324Z"
    }
   },
   "outputs": [],
   "source": [
    "# .T gera a matriz transposta ou seja, linha vira coluna\n",
    "arr.T"
   ]
  },
  {
   "cell_type": "markdown",
   "metadata": {
    "ExecuteTime": {
     "end_time": "2021-04-01T21:23:21.780759Z",
     "start_time": "2021-04-01T21:23:21.763725Z"
    }
   },
   "source": [
    "#### Solução 4 - Usando concatenate"
   ]
  },
  {
   "cell_type": "code",
   "execution_count": null,
   "metadata": {
    "ExecuteTime": {
     "end_time": "2021-04-01T21:24:36.146177Z",
     "start_time": "2021-04-01T21:24:36.137177Z"
    }
   },
   "outputs": [],
   "source": [
    "np.concatenate((valores.reshape(10,1), np.zeros((10,1))), axis=1)"
   ]
  },
  {
   "cell_type": "markdown",
   "metadata": {},
   "source": [
    "### Máscaras"
   ]
  },
  {
   "cell_type": "code",
   "execution_count": null,
   "metadata": {
    "ExecuteTime": {
     "end_time": "2020-12-03T22:48:22.755355Z",
     "start_time": "2020-12-03T22:48:22.749355Z"
    }
   },
   "outputs": [],
   "source": [
    "aleatorio"
   ]
  },
  {
   "cell_type": "code",
   "execution_count": null,
   "metadata": {
    "ExecuteTime": {
     "end_time": "2020-12-03T22:47:45.079753Z",
     "start_time": "2020-12-03T22:47:45.068752Z"
    }
   },
   "outputs": [],
   "source": [
    "#Mascaras\n",
    "aleatorio > 0.5"
   ]
  },
  {
   "cell_type": "code",
   "execution_count": null,
   "metadata": {
    "ExecuteTime": {
     "end_time": "2020-12-03T22:50:04.770000Z",
     "start_time": "2020-12-03T22:50:04.759490Z"
    }
   },
   "outputs": [],
   "source": [
    "aleatorio[~(aleatorio > 0.5)]"
   ]
  },
  {
   "cell_type": "code",
   "execution_count": null,
   "metadata": {
    "ExecuteTime": {
     "end_time": "2020-12-03T22:50:31.072473Z",
     "start_time": "2020-12-03T22:50:31.067475Z"
    }
   },
   "outputs": [],
   "source": [
    "lista10"
   ]
  },
  {
   "cell_type": "code",
   "execution_count": null,
   "metadata": {
    "ExecuteTime": {
     "end_time": "2020-12-03T22:48:09.872522Z",
     "start_time": "2020-12-03T22:48:09.862995Z"
    }
   },
   "outputs": [],
   "source": [
    "#Numeros pares\n",
    "pares = lista10 % 2 == 0\n",
    "pares"
   ]
  },
  {
   "cell_type": "code",
   "execution_count": null,
   "metadata": {
    "ExecuteTime": {
     "end_time": "2020-12-03T22:50:40.505938Z",
     "start_time": "2020-12-03T22:50:40.491912Z"
    }
   },
   "outputs": [],
   "source": [
    "#Aplicando a mascara a mastriz\n",
    "lista10[pares]"
   ]
  },
  {
   "cell_type": "code",
   "execution_count": null,
   "metadata": {
    "ExecuteTime": {
     "end_time": "2020-12-03T22:50:44.526312Z",
     "start_time": "2020-12-03T22:50:44.510264Z"
    }
   },
   "outputs": [],
   "source": [
    "#Aplicando a mascara maior que 2\n",
    "lista10[lista10>2]"
   ]
  },
  {
   "cell_type": "markdown",
   "metadata": {},
   "source": [
    "## Pandas"
   ]
  },
  {
   "cell_type": "markdown",
   "metadata": {},
   "source": [
    "### Series"
   ]
  },
  {
   "cell_type": "markdown",
   "metadata": {},
   "source": [
    "`Series` representam as colunas das tabelas, guardando seu conteúdo com numpy arrays, porem neste caso cada array tem um index, que permite acessar o conteúdo das series como um similar a um dicionário python. além disso essa classe conta com alguns métodos mais avançados que o numpy array."
   ]
  },
  {
   "cell_type": "code",
   "execution_count": null,
   "metadata": {
    "ExecuteTime": {
     "end_time": "2021-04-01T16:24:15.187157Z",
     "start_time": "2021-04-01T16:24:14.560680Z"
    }
   },
   "outputs": [],
   "source": [
    "import pandas as pd"
   ]
  },
  {
   "cell_type": "code",
   "execution_count": null,
   "metadata": {
    "ExecuteTime": {
     "end_time": "2020-12-03T22:51:49.104642Z",
     "start_time": "2020-12-03T22:51:49.095643Z"
    }
   },
   "outputs": [],
   "source": [
    "#utilizando um lista simples\n",
    "minha_lista = [10,20,30]\n",
    "serie = pd.Series(minha_lista)\n",
    "serie"
   ]
  },
  {
   "cell_type": "code",
   "execution_count": null,
   "metadata": {
    "ExecuteTime": {
     "end_time": "2020-12-03T22:52:16.752281Z",
     "start_time": "2020-12-03T22:52:16.744285Z"
    }
   },
   "outputs": [],
   "source": [
    "serie.loc[2]"
   ]
  },
  {
   "cell_type": "code",
   "execution_count": null,
   "metadata": {
    "ExecuteTime": {
     "end_time": "2020-12-03T22:52:57.084813Z",
     "start_time": "2020-12-03T22:52:57.077814Z"
    }
   },
   "outputs": [],
   "source": [
    "arr = np.array(minha_lista)"
   ]
  },
  {
   "cell_type": "code",
   "execution_count": null,
   "metadata": {
    "ExecuteTime": {
     "end_time": "2020-12-03T22:52:20.282556Z",
     "start_time": "2020-12-03T22:52:20.262921Z"
    }
   },
   "outputs": [],
   "source": [
    "arr[1]"
   ]
  },
  {
   "cell_type": "code",
   "execution_count": null,
   "metadata": {
    "ExecuteTime": {
     "end_time": "2020-12-03T22:52:22.209883Z",
     "start_time": "2020-12-03T22:52:22.189271Z"
    }
   },
   "outputs": [],
   "source": [
    "#Acessando dados como um lista\n",
    "serie[1]"
   ]
  },
  {
   "cell_type": "code",
   "execution_count": null,
   "metadata": {
    "ExecuteTime": {
     "end_time": "2020-12-03T22:52:24.195025Z",
     "start_time": "2020-12-03T22:52:24.180470Z"
    }
   },
   "outputs": [],
   "source": [
    "#indexação\n",
    "serie[:2]"
   ]
  },
  {
   "cell_type": "code",
   "execution_count": null,
   "metadata": {
    "ExecuteTime": {
     "end_time": "2020-12-03T22:53:12.923407Z",
     "start_time": "2020-12-03T22:53:12.901353Z"
    }
   },
   "outputs": [],
   "source": [
    "#Series com index\n",
    "labels = ['a','b','c','e']\n",
    "lista4 = [10,20,30,40]\n",
    "serieLabel = pd.Series(data=lista4,index=labels)\n",
    "serieLabel"
   ]
  },
  {
   "cell_type": "code",
   "execution_count": null,
   "metadata": {
    "ExecuteTime": {
     "end_time": "2020-12-03T22:54:26.021824Z",
     "start_time": "2020-12-03T22:54:26.004535Z"
    }
   },
   "outputs": [],
   "source": [
    "#acessando index 'a' da serie\n",
    "serieLabel['a']"
   ]
  },
  {
   "cell_type": "code",
   "execution_count": null,
   "metadata": {
    "ExecuteTime": {
     "end_time": "2020-12-03T22:54:28.105637Z",
     "start_time": "2020-12-03T22:54:28.080119Z"
    }
   },
   "outputs": [],
   "source": [
    "#acessando index 'a' e 'b' da serie\n",
    "serieLabel['a':'b']"
   ]
  },
  {
   "cell_type": "code",
   "execution_count": null,
   "metadata": {
    "ExecuteTime": {
     "end_time": "2020-12-03T22:54:34.926364Z",
     "start_time": "2020-12-03T22:54:34.906977Z"
    }
   },
   "outputs": [],
   "source": [
    "#Series com dicionarios\n",
    "dicionario = {'a':10,'b':20,'c':30}\n",
    "pd.Series(dicionario)"
   ]
  },
  {
   "cell_type": "code",
   "execution_count": null,
   "metadata": {
    "ExecuteTime": {
     "end_time": "2020-12-03T22:55:14.614254Z",
     "start_time": "2020-12-03T22:55:14.561698Z"
    }
   },
   "outputs": [],
   "source": [
    "#operações com series\n",
    "dic1 = {\"Brasil\":10,\"EUA\":10,\"Japão\":10}\n",
    "serie1 = pd.Series(dic1)\n",
    "dic2 = {\"Brasil\":10,\"Bolivia\":10,\"Japão\":10}\n",
    "serie2 = pd.Series(dic2)\n",
    "serie1 + serie2"
   ]
  },
  {
   "cell_type": "code",
   "execution_count": null,
   "metadata": {
    "ExecuteTime": {
     "end_time": "2020-12-03T22:56:15.097361Z",
     "start_time": "2020-12-03T22:56:15.091361Z"
    }
   },
   "outputs": [],
   "source": [
    "#unique\n",
    "serie1 = pd.Series(['a','b','c','a','d','e','c','a','e','d'])\n",
    "serie1.unique()"
   ]
  },
  {
   "cell_type": "code",
   "execution_count": null,
   "metadata": {
    "ExecuteTime": {
     "end_time": "2020-12-03T22:56:48.206244Z",
     "start_time": "2020-12-03T22:56:48.197263Z"
    },
    "scrolled": true
   },
   "outputs": [],
   "source": [
    "#Contando valores\n",
    "serie1.value_counts().sort_index()/len(serie1)"
   ]
  },
  {
   "cell_type": "code",
   "execution_count": null,
   "metadata": {
    "ExecuteTime": {
     "end_time": "2020-12-02T22:58:55.216843Z",
     "start_time": "2020-12-02T22:58:55.210844Z"
    }
   },
   "outputs": [],
   "source": [
    "#isin - Para filtar valores\n",
    "mask = serie1.isin(['b', 'c'])\n",
    "mask\n",
    "\n",
    "serie1[mask]"
   ]
  },
  {
   "cell_type": "markdown",
   "metadata": {},
   "source": [
    "### Dataframe"
   ]
  },
  {
   "cell_type": "markdown",
   "metadata": {},
   "source": [
    "E por ultimo temos a estrutura DataFrame, esta será nossa tabela, representada por um dicionário de series com o mesmo index."
   ]
  },
  {
   "cell_type": "code",
   "execution_count": null,
   "metadata": {
    "ExecuteTime": {
     "end_time": "2020-12-03T22:57:47.367797Z",
     "start_time": "2020-12-03T22:57:47.354378Z"
    }
   },
   "outputs": [],
   "source": [
    "np.random.seed(42) #Para o rand ficar igual\n",
    "\n",
    "lista = np.random.randn(5,3)\n",
    "lista"
   ]
  },
  {
   "cell_type": "code",
   "execution_count": null,
   "metadata": {
    "ExecuteTime": {
     "end_time": "2020-12-03T22:58:37.978777Z",
     "start_time": "2020-12-03T22:58:37.960776Z"
    }
   },
   "outputs": [],
   "source": [
    "pd.DataFrame(lista)"
   ]
  },
  {
   "cell_type": "code",
   "execution_count": null,
   "metadata": {
    "ExecuteTime": {
     "end_time": "2020-12-03T22:58:58.059653Z",
     "start_time": "2020-12-03T22:58:58.043146Z"
    }
   },
   "outputs": [],
   "source": [
    "index = ['a','b','c','d','e']\n",
    "colunas = ['x','y','z']\n",
    "dataFrame = pd.DataFrame(data = lista,index=index,columns=colunas)\n",
    "dataFrame"
   ]
  },
  {
   "cell_type": "code",
   "execution_count": null,
   "metadata": {
    "ExecuteTime": {
     "end_time": "2020-12-03T22:59:09.825461Z",
     "start_time": "2020-12-03T22:59:09.801853Z"
    }
   },
   "outputs": [],
   "source": [
    "# acessando coluna 'x', retornando uma serie\n",
    "dataFrame['x']"
   ]
  },
  {
   "cell_type": "code",
   "execution_count": null,
   "metadata": {
    "ExecuteTime": {
     "end_time": "2020-12-03T22:59:19.077704Z",
     "start_time": "2020-12-03T22:59:19.063704Z"
    }
   },
   "outputs": [],
   "source": [
    "# acessando colunas 'x' e 'y', retornando um dataframe\n",
    "dataFrame[['x','y']]"
   ]
  },
  {
   "cell_type": "code",
   "execution_count": null,
   "metadata": {
    "ExecuteTime": {
     "end_time": "2020-12-03T22:59:31.905347Z",
     "start_time": "2020-12-03T22:59:31.889037Z"
    }
   },
   "outputs": [],
   "source": [
    "#pegando ponto\n",
    "dataFrame['x']['a']"
   ]
  },
  {
   "cell_type": "code",
   "execution_count": null,
   "metadata": {
    "ExecuteTime": {
     "end_time": "2020-12-03T23:00:07.337431Z",
     "start_time": "2020-12-03T23:00:07.326431Z"
    }
   },
   "outputs": [],
   "source": [
    "#Pegando linha\n",
    "dataFrame.loc['a']"
   ]
  },
  {
   "cell_type": "code",
   "execution_count": null,
   "metadata": {
    "ExecuteTime": {
     "end_time": "2020-12-03T23:00:18.996089Z",
     "start_time": "2020-12-03T23:00:18.981089Z"
    }
   },
   "outputs": [],
   "source": [
    "#Pegando linha por numero\n",
    "dataFrame.iloc[0]"
   ]
  },
  {
   "cell_type": "code",
   "execution_count": null,
   "metadata": {
    "ExecuteTime": {
     "end_time": "2020-12-03T23:00:35.598518Z",
     "start_time": "2020-12-03T23:00:35.582928Z"
    }
   },
   "outputs": [],
   "source": [
    "#pegando linha e colunuma\n",
    "dataFrame.loc['a','x']"
   ]
  },
  {
   "cell_type": "code",
   "execution_count": null,
   "metadata": {
    "ExecuteTime": {
     "end_time": "2020-12-03T23:00:53.339466Z",
     "start_time": "2020-12-03T23:00:53.330640Z"
    }
   },
   "outputs": [],
   "source": [
    "dataFrame.loc[['a','c'],['x','y']]"
   ]
  },
  {
   "cell_type": "code",
   "execution_count": null,
   "metadata": {
    "ExecuteTime": {
     "end_time": "2020-12-03T23:01:14.981113Z",
     "start_time": "2020-12-03T23:01:14.970108Z"
    }
   },
   "outputs": [],
   "source": [
    "#nova coluna \n",
    "dataFrame['novo'] = dataFrame['x'] + dataFrame['y']\n",
    "dataFrame"
   ]
  },
  {
   "cell_type": "code",
   "execution_count": null,
   "metadata": {
    "ExecuteTime": {
     "end_time": "2020-12-03T23:01:27.886128Z",
     "start_time": "2020-12-03T23:01:27.873615Z"
    }
   },
   "outputs": [],
   "source": [
    "#remove mas não salva\n",
    "dataFrame.drop('novo',axis=1)"
   ]
  },
  {
   "cell_type": "code",
   "execution_count": null,
   "metadata": {
    "ExecuteTime": {
     "end_time": "2020-12-03T23:01:32.077577Z",
     "start_time": "2020-12-03T23:01:32.065586Z"
    }
   },
   "outputs": [],
   "source": [
    "dataFrame"
   ]
  },
  {
   "cell_type": "code",
   "execution_count": null,
   "metadata": {
    "ExecuteTime": {
     "end_time": "2020-12-03T23:01:39.900088Z",
     "start_time": "2020-12-03T23:01:39.881901Z"
    }
   },
   "outputs": [],
   "source": [
    "#remove e salva\n",
    "dataFrame.drop('novo',axis=1,inplace=True)\n",
    "dataFrame"
   ]
  },
  {
   "cell_type": "code",
   "execution_count": null,
   "metadata": {
    "ExecuteTime": {
     "end_time": "2020-12-03T23:02:20.971937Z",
     "start_time": "2020-12-03T23:02:20.952341Z"
    }
   },
   "outputs": [],
   "source": [
    "#retirando colunas\n",
    "dataFrame.drop('e')"
   ]
  },
  {
   "cell_type": "code",
   "execution_count": null,
   "metadata": {
    "ExecuteTime": {
     "end_time": "2020-12-03T23:02:35.038221Z",
     "start_time": "2020-12-03T23:02:35.026259Z"
    }
   },
   "outputs": [],
   "source": [
    "#Seleções através de condições\n",
    "dataFrame>0"
   ]
  },
  {
   "cell_type": "code",
   "execution_count": null,
   "metadata": {
    "ExecuteTime": {
     "end_time": "2020-12-03T23:02:40.355285Z",
     "start_time": "2020-12-03T23:02:40.338277Z"
    }
   },
   "outputs": [],
   "source": [
    "#utilizando condição como mascara para um novo dataFrame\n",
    "dataFrame[dataFrame>0]"
   ]
  },
  {
   "cell_type": "code",
   "execution_count": null,
   "metadata": {
    "ExecuteTime": {
     "end_time": "2020-12-03T23:02:43.283173Z",
     "start_time": "2020-12-03T23:02:43.265652Z"
    }
   },
   "outputs": [],
   "source": [
    "#porem não salva\n",
    "dataFrame"
   ]
  },
  {
   "cell_type": "code",
   "execution_count": null,
   "metadata": {
    "ExecuteTime": {
     "end_time": "2020-12-03T23:02:57.420927Z",
     "start_time": "2020-12-03T23:02:57.404421Z"
    }
   },
   "outputs": [],
   "source": [
    "#retira a linha do y que tem um item menor que 0\n",
    "dataFrame[dataFrame['y']>0]"
   ]
  },
  {
   "cell_type": "code",
   "execution_count": null,
   "metadata": {
    "ExecuteTime": {
     "end_time": "2020-12-03T23:03:02.818165Z",
     "start_time": "2020-12-03T23:03:02.806216Z"
    }
   },
   "outputs": [],
   "source": [
    "#Mesma operação de cima porem so retorna o linha z\n",
    "dataFrame[dataFrame['y']<0]['z']"
   ]
  },
  {
   "cell_type": "code",
   "execution_count": null,
   "metadata": {
    "ExecuteTime": {
     "end_time": "2020-12-03T23:03:11.745441Z",
     "start_time": "2020-12-03T23:03:11.724924Z"
    }
   },
   "outputs": [],
   "source": [
    "dataFrame"
   ]
  },
  {
   "cell_type": "code",
   "execution_count": null,
   "metadata": {
    "ExecuteTime": {
     "end_time": "2020-12-02T22:59:00.559576Z",
     "start_time": "2020-12-02T22:59:00.548579Z"
    }
   },
   "outputs": [],
   "source": [
    "#resetando index\n",
    "dataFrame.reset_index()"
   ]
  },
  {
   "cell_type": "code",
   "execution_count": null,
   "metadata": {
    "ExecuteTime": {
     "end_time": "2020-12-02T22:59:00.783188Z",
     "start_time": "2020-12-02T22:59:00.775186Z"
    }
   },
   "outputs": [],
   "source": [
    "#resetando index sem manter o index antigo\n",
    "dataFrame.reset_index(drop=True)"
   ]
  },
  {
   "cell_type": "code",
   "execution_count": null,
   "metadata": {
    "ExecuteTime": {
     "end_time": "2020-12-03T23:04:04.347503Z",
     "start_time": "2020-12-03T23:04:04.336504Z"
    }
   },
   "outputs": [],
   "source": [
    "dataFrame['nomes'] = ['SP','RJ','BH','SSA','NV']"
   ]
  },
  {
   "cell_type": "code",
   "execution_count": null,
   "metadata": {
    "ExecuteTime": {
     "end_time": "2020-12-03T23:04:30.691466Z",
     "start_time": "2020-12-03T23:04:30.670958Z"
    }
   },
   "outputs": [],
   "source": [
    "dataFrame"
   ]
  },
  {
   "cell_type": "code",
   "execution_count": null,
   "metadata": {
    "ExecuteTime": {
     "end_time": "2020-12-03T23:04:50.936881Z",
     "start_time": "2020-12-03T23:04:50.926833Z"
    }
   },
   "outputs": [],
   "source": [
    "#reordenando as colunas\n",
    "\n",
    "dataFrame = dataFrame[['x', 'nomes', 'y', 'z']]\n",
    "dataFrame"
   ]
  },
  {
   "cell_type": "code",
   "execution_count": null,
   "metadata": {
    "ExecuteTime": {
     "end_time": "2020-12-03T23:05:20.479370Z",
     "start_time": "2020-12-03T23:05:20.461366Z"
    }
   },
   "outputs": [],
   "source": [
    "#Alterando o nome das colunas\n",
    "dataFrame.columns = ['x', 'estados', 'y', 'z']\n",
    "dataFrame"
   ]
  },
  {
   "cell_type": "code",
   "execution_count": null,
   "metadata": {
    "ExecuteTime": {
     "end_time": "2020-12-03T23:05:32.757736Z",
     "start_time": "2020-12-03T23:05:32.729212Z"
    }
   },
   "outputs": [],
   "source": [
    "#criando novo index\n",
    "dataFrame.set_index('estados',inplace=True)\n",
    "\n",
    "dataFrame"
   ]
  },
  {
   "cell_type": "code",
   "execution_count": null,
   "metadata": {
    "ExecuteTime": {
     "end_time": "2020-12-03T23:07:04.322334Z",
     "start_time": "2020-12-03T23:07:04.306709Z"
    }
   },
   "outputs": [],
   "source": [
    "dataFrame.loc['SP']"
   ]
  },
  {
   "cell_type": "markdown",
   "metadata": {},
   "source": [
    "**indices multiplos**"
   ]
  },
  {
   "cell_type": "code",
   "execution_count": null,
   "metadata": {
    "ExecuteTime": {
     "end_time": "2020-12-03T23:12:20.860760Z",
     "start_time": "2020-12-03T23:12:20.843410Z"
    }
   },
   "outputs": [],
   "source": [
    "outside = ['G1','G1','G1','G2','G2','G2']\n",
    "inside = [1,2,3,1,2,3]\n",
    "hier_index = list(zip(outside,inside))\n",
    "hier_index"
   ]
  },
  {
   "cell_type": "code",
   "execution_count": null,
   "metadata": {
    "ExecuteTime": {
     "end_time": "2020-12-03T23:12:58.394944Z",
     "start_time": "2020-12-03T23:12:58.381942Z"
    }
   },
   "outputs": [],
   "source": [
    "hier_index = pd.MultiIndex.from_tuples(hier_index)\n",
    "\n",
    "hier_index"
   ]
  },
  {
   "cell_type": "code",
   "execution_count": null,
   "metadata": {
    "ExecuteTime": {
     "end_time": "2020-12-03T23:08:31.988755Z",
     "start_time": "2020-12-03T23:08:31.982205Z"
    }
   },
   "outputs": [],
   "source": [
    "matriz = np.random.randn(6,2)\n",
    "matriz"
   ]
  },
  {
   "cell_type": "code",
   "execution_count": null,
   "metadata": {
    "ExecuteTime": {
     "end_time": "2020-12-03T23:08:56.979137Z",
     "start_time": "2020-12-03T23:08:56.964139Z"
    }
   },
   "outputs": [],
   "source": [
    "df = pd.DataFrame(matriz,index=hier_index,columns=['A','B'])\n",
    "\n",
    "df"
   ]
  },
  {
   "cell_type": "code",
   "execution_count": null,
   "metadata": {
    "ExecuteTime": {
     "end_time": "2020-12-03T23:10:02.137182Z",
     "start_time": "2020-12-03T23:10:02.115668Z"
    }
   },
   "outputs": [],
   "source": [
    "df.loc['G1', 1]"
   ]
  },
  {
   "cell_type": "code",
   "execution_count": null,
   "metadata": {
    "ExecuteTime": {
     "end_time": "2020-12-03T23:20:23.360439Z",
     "start_time": "2020-12-03T23:20:23.342437Z"
    }
   },
   "outputs": [],
   "source": [
    "df.xs('G1')"
   ]
  },
  {
   "cell_type": "markdown",
   "metadata": {},
   "source": [
    "#### Concats e merges"
   ]
  },
  {
   "cell_type": "code",
   "execution_count": null,
   "metadata": {
    "ExecuteTime": {
     "end_time": "2020-12-03T23:21:02.314883Z",
     "start_time": "2020-12-03T23:21:02.298846Z"
    }
   },
   "outputs": [],
   "source": [
    "df1 = pd.DataFrame({'A':[1,2,3],'B':[4,5,6],'C':[7,8,9]},index=['w','x','y'])\n",
    "df2 = pd.DataFrame({'B':[1,2,3],'C':[4,5,6],'D':[7,8,9]},index=['x','y','z'])"
   ]
  },
  {
   "cell_type": "code",
   "execution_count": null,
   "metadata": {
    "ExecuteTime": {
     "end_time": "2020-12-03T23:21:03.679385Z",
     "start_time": "2020-12-03T23:21:03.665883Z"
    }
   },
   "outputs": [],
   "source": [
    "df1"
   ]
  },
  {
   "cell_type": "code",
   "execution_count": null,
   "metadata": {
    "ExecuteTime": {
     "end_time": "2020-12-03T23:21:05.714058Z",
     "start_time": "2020-12-03T23:21:05.706530Z"
    }
   },
   "outputs": [],
   "source": [
    "df2"
   ]
  },
  {
   "cell_type": "code",
   "execution_count": null,
   "metadata": {
    "ExecuteTime": {
     "end_time": "2020-12-03T23:21:44.830019Z",
     "start_time": "2020-12-03T23:21:44.804538Z"
    }
   },
   "outputs": [],
   "source": [
    "pd.concat([df1,df2])"
   ]
  },
  {
   "cell_type": "code",
   "execution_count": null,
   "metadata": {
    "ExecuteTime": {
     "end_time": "2020-12-03T23:31:35.080262Z",
     "start_time": "2020-12-03T23:31:35.062935Z"
    },
    "scrolled": true
   },
   "outputs": [],
   "source": [
    "pd.concat([df1,df2],join='inner')"
   ]
  },
  {
   "cell_type": "code",
   "execution_count": null,
   "metadata": {
    "ExecuteTime": {
     "end_time": "2020-12-03T23:32:53.240450Z",
     "start_time": "2020-12-03T23:32:53.223923Z"
    }
   },
   "outputs": [],
   "source": [
    "pd.concat([df1,df2],axis=1)"
   ]
  },
  {
   "cell_type": "code",
   "execution_count": null,
   "metadata": {
    "ExecuteTime": {
     "end_time": "2020-12-03T23:33:05.416151Z",
     "start_time": "2020-12-03T23:33:05.403152Z"
    }
   },
   "outputs": [],
   "source": [
    "pd.concat([df1, df2], axis=1, join='inner')"
   ]
  },
  {
   "cell_type": "code",
   "execution_count": null,
   "metadata": {
    "ExecuteTime": {
     "end_time": "2020-12-03T23:35:43.195953Z",
     "start_time": "2020-12-03T23:35:43.179953Z"
    }
   },
   "outputs": [],
   "source": [
    "df3 = pd.DataFrame({'Paises':['Br','Pt','Bo'],'valor1':[1,2,3],\"Valor2\":[3,4,5]})\n",
    "df4 = pd.DataFrame({'Paises':['Br','Pt','Bo'],'valor1':[1,2,3],\"Valor4\":[3,4,5]})\n",
    "\n",
    "df3 "
   ]
  },
  {
   "cell_type": "code",
   "execution_count": null,
   "metadata": {
    "ExecuteTime": {
     "end_time": "2020-12-03T23:35:45.569863Z",
     "start_time": "2020-12-03T23:35:45.553763Z"
    }
   },
   "outputs": [],
   "source": [
    "df4"
   ]
  },
  {
   "cell_type": "code",
   "execution_count": null,
   "metadata": {
    "ExecuteTime": {
     "end_time": "2020-12-03T23:37:10.202137Z",
     "start_time": "2020-12-03T23:37:10.178114Z"
    }
   },
   "outputs": [],
   "source": [
    "pd.merge(df3, df4, on='Paises')"
   ]
  },
  {
   "cell_type": "markdown",
   "metadata": {},
   "source": [
    "#### Importando dados"
   ]
  },
  {
   "cell_type": "code",
   "execution_count": null,
   "metadata": {
    "ExecuteTime": {
     "end_time": "2021-04-01T16:24:24.616126Z",
     "start_time": "2021-04-01T16:24:24.589588Z"
    }
   },
   "outputs": [],
   "source": [
    "filename = '../datasets/imoveis_Rio_de_Janeiro.csv'\n",
    "df_imoveis_rj = pd.read_csv(filename, sep=';', nrows=0)\n",
    "df_imoveis_rj.columns"
   ]
  },
  {
   "cell_type": "code",
   "execution_count": null,
   "metadata": {
    "ExecuteTime": {
     "end_time": "2021-04-01T16:24:27.212294Z",
     "start_time": "2021-04-01T16:24:27.173292Z"
    }
   },
   "outputs": [],
   "source": [
    "df_imoveis_rj = pd.read_csv(filename, sep=';', nrows=10)\n",
    "df_imoveis_rj.head()"
   ]
  },
  {
   "cell_type": "code",
   "execution_count": null,
   "metadata": {
    "ExecuteTime": {
     "end_time": "2021-04-01T16:24:30.518710Z",
     "start_time": "2021-04-01T16:24:30.498673Z"
    }
   },
   "outputs": [],
   "source": [
    "df_imoveis_rj = pd.read_csv(filename, sep=';', usecols=['condominio', 'quartos', 'suites', 'vagas', 'area', 'bairro'])\n",
    "df_imoveis_rj.head()"
   ]
  },
  {
   "cell_type": "code",
   "execution_count": null,
   "metadata": {
    "ExecuteTime": {
     "end_time": "2021-04-01T16:24:31.996963Z",
     "start_time": "2021-04-01T16:24:31.971935Z"
    }
   },
   "outputs": [],
   "source": [
    "df_imoveis_rj = pd.read_csv(filename, sep=';')\n",
    "df_imoveis_rj.head()"
   ]
  },
  {
   "cell_type": "markdown",
   "metadata": {},
   "source": [
    "#### Nan Values"
   ]
  },
  {
   "cell_type": "code",
   "execution_count": null,
   "metadata": {
    "ExecuteTime": {
     "end_time": "2021-04-01T16:24:35.710530Z",
     "start_time": "2021-04-01T16:24:35.686457Z"
    }
   },
   "outputs": [],
   "source": [
    "#Drop nan\n",
    "df = pd.DataFrame({'col1':[1,2,3,np.nan],\n",
    "                   'col2':[np.nan,555,666,444],\n",
    "                   'col3':['abc','def','ghi','xyz']})\n",
    "df.head()"
   ]
  },
  {
   "cell_type": "code",
   "execution_count": null,
   "metadata": {
    "ExecuteTime": {
     "end_time": "2021-04-01T16:24:37.552925Z",
     "start_time": "2021-04-01T16:24:37.526405Z"
    }
   },
   "outputs": [],
   "source": [
    "df.dropna(subset=['col2'])"
   ]
  },
  {
   "cell_type": "code",
   "execution_count": null,
   "metadata": {
    "ExecuteTime": {
     "end_time": "2021-04-01T16:24:38.523243Z",
     "start_time": "2021-04-01T16:24:38.509704Z"
    }
   },
   "outputs": [],
   "source": [
    "df"
   ]
  },
  {
   "cell_type": "code",
   "execution_count": null,
   "metadata": {
    "ExecuteTime": {
     "end_time": "2021-04-01T16:24:40.275314Z",
     "start_time": "2021-04-01T16:24:40.248808Z"
    }
   },
   "outputs": [],
   "source": [
    "df['col1'] = df['col1'].fillna(0)\n",
    "df"
   ]
  },
  {
   "cell_type": "code",
   "execution_count": null,
   "metadata": {
    "ExecuteTime": {
     "end_time": "2021-04-01T16:24:41.201625Z",
     "start_time": "2021-04-01T16:24:41.185100Z"
    }
   },
   "outputs": [],
   "source": [
    "np.mean(df['col2'])"
   ]
  },
  {
   "cell_type": "code",
   "execution_count": null,
   "metadata": {
    "ExecuteTime": {
     "end_time": "2021-04-01T16:24:42.063313Z",
     "start_time": "2021-04-01T16:24:42.048314Z"
    }
   },
   "outputs": [],
   "source": [
    "df['col2'] = df['col2'].fillna(df['col2'].mean())\n",
    "df"
   ]
  }
 ],
 "metadata": {
  "hide_input": false,
  "kernelspec": {
   "display_name": "Python 3",
   "language": "python",
   "name": "python3"
  },
  "language_info": {
   "codemirror_mode": {
    "name": "ipython",
    "version": 3
   },
   "file_extension": ".py",
   "mimetype": "text/x-python",
   "name": "python",
   "nbconvert_exporter": "python",
   "pygments_lexer": "ipython3",
   "version": "3.8.3"
  },
  "toc": {
   "base_numbering": 1,
   "nav_menu": {},
   "number_sections": true,
   "sideBar": true,
   "skip_h1_title": false,
   "title_cell": "Table of Contents",
   "title_sidebar": "Contents",
   "toc_cell": false,
   "toc_position": {
    "height": "calc(100% - 180px)",
    "left": "10px",
    "top": "150px",
    "width": "361.333px"
   },
   "toc_section_display": true,
   "toc_window_display": true
  }
 },
 "nbformat": 4,
 "nbformat_minor": 2
}
